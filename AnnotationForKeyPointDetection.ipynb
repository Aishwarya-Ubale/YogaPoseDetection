{
 "cells": [
  {
   "cell_type": "code",
   "execution_count": 39,
   "id": "f9aeef80",
   "metadata": {},
   "outputs": [],
   "source": [
    "#!pip install mediapipe"
   ]
  },
  {
   "cell_type": "code",
   "execution_count": 40,
   "id": "69d7f1b4",
   "metadata": {},
   "outputs": [],
   "source": [
    "import mediapipe as mp\n",
    "import cv2\n",
    "import time\n",
    "import numpy as np\n",
    "import pandas as pd\n",
    "import os"
   ]
  },
  {
   "cell_type": "code",
   "execution_count": 41,
   "id": "eadc1a0a",
   "metadata": {},
   "outputs": [],
   "source": [
    "mpPose = mp.solutions.pose\n",
    "pose = mpPose.Pose()\n",
    "mpDraw = mp.solutions.drawing_utils # For drawing keypoints\n",
    "points = mpPose.PoseLandmark # Landmarks\n",
    "path = \"C:\\\\Users\\\\AISHWARYA UBALE\\\\Downloads\\\\archive (6)\\\\DATASET\\\\TRAIN\" # enter dataset path\n",
    "data = []\n",
    "for p in points:\n",
    "        x = str(p)[13:]\n",
    "        data.append(x + \"_x\")\n",
    "        data.append(x + \"_y\")\n",
    "        data.append(x + \"_z\")\n",
    "        data.append(x + \"_vis\")\n",
    "\n",
    "data.append(\"target\")\n",
    "data = pd.DataFrame(columns = data) # Empty dataset"
   ]
  },
  {
   "cell_type": "code",
   "execution_count": 42,
   "id": "fc0ae837",
   "metadata": {},
   "outputs": [
    {
     "name": "stdout",
     "output_type": "stream",
     "text": [
      "NOSE\n",
      "LEFT_EYE_INNER\n",
      "LEFT_EYE\n",
      "LEFT_EYE_OUTER\n",
      "RIGHT_EYE_INNER\n",
      "RIGHT_EYE\n",
      "RIGHT_EYE_OUTER\n",
      "LEFT_EAR\n",
      "RIGHT_EAR\n",
      "MOUTH_LEFT\n",
      "MOUTH_RIGHT\n",
      "LEFT_SHOULDER\n",
      "RIGHT_SHOULDER\n",
      "LEFT_ELBOW\n",
      "RIGHT_ELBOW\n",
      "LEFT_WRIST\n",
      "RIGHT_WRIST\n",
      "LEFT_PINKY\n",
      "RIGHT_PINKY\n",
      "LEFT_INDEX\n",
      "RIGHT_INDEX\n",
      "LEFT_THUMB\n",
      "RIGHT_THUMB\n",
      "LEFT_HIP\n",
      "RIGHT_HIP\n",
      "LEFT_KNEE\n",
      "RIGHT_KNEE\n",
      "LEFT_ANKLE\n",
      "RIGHT_ANKLE\n",
      "LEFT_HEEL\n",
      "RIGHT_HEEL\n",
      "LEFT_FOOT_INDEX\n",
      "RIGHT_FOOT_INDEX\n"
     ]
    },
    {
     "data": {
      "text/plain": [
       "33"
      ]
     },
     "execution_count": 42,
     "metadata": {},
     "output_type": "execute_result"
    }
   ],
   "source": [
    "import mediapipe as mp\n",
    "\n",
    "# Assume mpPose.PoseLandmark is the enum variable\n",
    "points = mp.solutions.pose.PoseLandmark\n",
    "\n",
    "# Print the names of the landmarks\n",
    "for landmark in points:\n",
    "    print(landmark.name)\n",
    "    \n",
    "len(points)"
   ]
  },
  {
   "cell_type": "code",
   "execution_count": 43,
   "id": "b2d7106a",
   "metadata": {},
   "outputs": [
    {
     "data": {
      "text/plain": [
       "pandas.core.frame.DataFrame"
      ]
     },
     "execution_count": 43,
     "metadata": {},
     "output_type": "execute_result"
    }
   ],
   "source": [
    "type(data)"
   ]
  },
  {
   "cell_type": "code",
   "execution_count": 44,
   "id": "458c756b",
   "metadata": {},
   "outputs": [
    {
     "data": {
      "text/html": [
       "<div>\n",
       "<style scoped>\n",
       "    .dataframe tbody tr th:only-of-type {\n",
       "        vertical-align: middle;\n",
       "    }\n",
       "\n",
       "    .dataframe tbody tr th {\n",
       "        vertical-align: top;\n",
       "    }\n",
       "\n",
       "    .dataframe thead th {\n",
       "        text-align: right;\n",
       "    }\n",
       "</style>\n",
       "<table border=\"1\" class=\"dataframe\">\n",
       "  <thead>\n",
       "    <tr style=\"text-align: right;\">\n",
       "      <th></th>\n",
       "      <th>NOSE_x</th>\n",
       "      <th>NOSE_y</th>\n",
       "      <th>NOSE_z</th>\n",
       "      <th>NOSE_vis</th>\n",
       "      <th>LEFT_EYE_INNER_x</th>\n",
       "      <th>LEFT_EYE_INNER_y</th>\n",
       "      <th>LEFT_EYE_INNER_z</th>\n",
       "      <th>LEFT_EYE_INNER_vis</th>\n",
       "      <th>LEFT_EYE_x</th>\n",
       "      <th>LEFT_EYE_y</th>\n",
       "      <th>...</th>\n",
       "      <th>RIGHT_HEEL_vis</th>\n",
       "      <th>LEFT_FOOT_INDEX_x</th>\n",
       "      <th>LEFT_FOOT_INDEX_y</th>\n",
       "      <th>LEFT_FOOT_INDEX_z</th>\n",
       "      <th>LEFT_FOOT_INDEX_vis</th>\n",
       "      <th>RIGHT_FOOT_INDEX_x</th>\n",
       "      <th>RIGHT_FOOT_INDEX_y</th>\n",
       "      <th>RIGHT_FOOT_INDEX_z</th>\n",
       "      <th>RIGHT_FOOT_INDEX_vis</th>\n",
       "      <th>target</th>\n",
       "    </tr>\n",
       "  </thead>\n",
       "  <tbody>\n",
       "  </tbody>\n",
       "</table>\n",
       "<p>0 rows × 133 columns</p>\n",
       "</div>"
      ],
      "text/plain": [
       "Empty DataFrame\n",
       "Columns: [NOSE_x, NOSE_y, NOSE_z, NOSE_vis, LEFT_EYE_INNER_x, LEFT_EYE_INNER_y, LEFT_EYE_INNER_z, LEFT_EYE_INNER_vis, LEFT_EYE_x, LEFT_EYE_y, LEFT_EYE_z, LEFT_EYE_vis, LEFT_EYE_OUTER_x, LEFT_EYE_OUTER_y, LEFT_EYE_OUTER_z, LEFT_EYE_OUTER_vis, RIGHT_EYE_INNER_x, RIGHT_EYE_INNER_y, RIGHT_EYE_INNER_z, RIGHT_EYE_INNER_vis, RIGHT_EYE_x, RIGHT_EYE_y, RIGHT_EYE_z, RIGHT_EYE_vis, RIGHT_EYE_OUTER_x, RIGHT_EYE_OUTER_y, RIGHT_EYE_OUTER_z, RIGHT_EYE_OUTER_vis, LEFT_EAR_x, LEFT_EAR_y, LEFT_EAR_z, LEFT_EAR_vis, RIGHT_EAR_x, RIGHT_EAR_y, RIGHT_EAR_z, RIGHT_EAR_vis, MOUTH_LEFT_x, MOUTH_LEFT_y, MOUTH_LEFT_z, MOUTH_LEFT_vis, MOUTH_RIGHT_x, MOUTH_RIGHT_y, MOUTH_RIGHT_z, MOUTH_RIGHT_vis, LEFT_SHOULDER_x, LEFT_SHOULDER_y, LEFT_SHOULDER_z, LEFT_SHOULDER_vis, RIGHT_SHOULDER_x, RIGHT_SHOULDER_y, RIGHT_SHOULDER_z, RIGHT_SHOULDER_vis, LEFT_ELBOW_x, LEFT_ELBOW_y, LEFT_ELBOW_z, LEFT_ELBOW_vis, RIGHT_ELBOW_x, RIGHT_ELBOW_y, RIGHT_ELBOW_z, RIGHT_ELBOW_vis, LEFT_WRIST_x, LEFT_WRIST_y, LEFT_WRIST_z, LEFT_WRIST_vis, RIGHT_WRIST_x, RIGHT_WRIST_y, RIGHT_WRIST_z, RIGHT_WRIST_vis, LEFT_PINKY_x, LEFT_PINKY_y, LEFT_PINKY_z, LEFT_PINKY_vis, RIGHT_PINKY_x, RIGHT_PINKY_y, RIGHT_PINKY_z, RIGHT_PINKY_vis, LEFT_INDEX_x, LEFT_INDEX_y, LEFT_INDEX_z, LEFT_INDEX_vis, RIGHT_INDEX_x, RIGHT_INDEX_y, RIGHT_INDEX_z, RIGHT_INDEX_vis, LEFT_THUMB_x, LEFT_THUMB_y, LEFT_THUMB_z, LEFT_THUMB_vis, RIGHT_THUMB_x, RIGHT_THUMB_y, RIGHT_THUMB_z, RIGHT_THUMB_vis, LEFT_HIP_x, LEFT_HIP_y, LEFT_HIP_z, LEFT_HIP_vis, RIGHT_HIP_x, RIGHT_HIP_y, RIGHT_HIP_z, RIGHT_HIP_vis, ...]\n",
       "Index: []\n",
       "\n",
       "[0 rows x 133 columns]"
      ]
     },
     "execution_count": 44,
     "metadata": {},
     "output_type": "execute_result"
    }
   ],
   "source": [
    "data.head()"
   ]
  },
  {
   "cell_type": "code",
   "execution_count": 45,
   "id": "31244d03",
   "metadata": {},
   "outputs": [],
   "source": [
    "#Original\n",
    "# count = 0\n",
    "\n",
    "# for img in os.listdir(path):\n",
    "\n",
    "#         temp = []\n",
    "\n",
    "#         img = cv2.imread(path + \"/\" + img)\n",
    "\n",
    "#         imageWidth, imageHeight = img.shape[:2]\n",
    "\n",
    "#         imgRGB = cv2.cvtColor(img, cv2.COLOR_BGR2RGB)\n",
    "\n",
    "#         blackie = np.zeros(img.shape) # Blank image\n",
    "\n",
    "#         results = pose.process(imgRGB)\n",
    "\n",
    "#         if results.pose_landmarks:\n",
    "\n",
    "#                 # mpDraw.draw_landmarks(img, results.pose_landmarks, mpPose.POSE_CONNECTIONS) #draw landmarks on image\n",
    "\n",
    "#                 mpDraw.draw_landmarks(blackie, results.pose_landmarks, mpPose.POSE_CONNECTIONS) # draw landmarks on blackie\n",
    "\n",
    "#                 landmarks = results.pose_landmarks.landmark\n",
    "\n",
    "#                 for i,j in zip(points,landmarks):\n",
    "\n",
    "#                         temp = temp + [j.x, j.y, j.z, j.visibility]\n",
    "                \n",
    "#                 #Assign target value (0 for the first pose, 1 for the rest)\n",
    "#                 if\n",
    "#                 target = 80 if count <= 20 else 1\n",
    "                \n",
    "#                 temp.append(target)\n",
    "                \n",
    "#                 data.loc[count] = temp\n",
    "\n",
    "#                 count +=1\n",
    "\n",
    "#         #cv2.imshow(\"Image\", img)\n",
    "\n",
    "#         #cv2.imshow(\"blackie\",blackie)\n",
    "\n",
    "#         #cv2.waitKey(100)\n",
    "\n",
    "# data.to_csv(\"dataset3_with target1.csv\") # save the data as a csv file"
   ]
  },
  {
   "cell_type": "code",
   "execution_count": 46,
   "id": "272b333d",
   "metadata": {},
   "outputs": [
    {
     "name": "stdout",
     "output_type": "stream",
     "text": [
      "downdog\n",
      "C:\\Users\\AISHWARYA UBALE\\Downloads\\archive (6)\\DATASET\\TRAIN\\downdog\n",
      "plank\n",
      "C:\\Users\\AISHWARYA UBALE\\Downloads\\archive (6)\\DATASET\\TRAIN\\plank\n",
      "train_tree_AUGMENTED\n",
      "C:\\Users\\AISHWARYA UBALE\\Downloads\\archive (6)\\DATASET\\TRAIN\\train_tree_AUGMENTED\n",
      "warrior2\n",
      "C:\\Users\\AISHWARYA UBALE\\Downloads\\archive (6)\\DATASET\\TRAIN\\warrior2\n"
     ]
    }
   ],
   "source": [
    "path = \"C:\\\\Users\\\\AISHWARYA UBALE\\\\Downloads\\\\archive (6)\\\\DATASET\\\\TRAIN\"\n",
    "\n",
    "#                 elif imgfolder == \"tree\":\n",
    "#                     target = 2 \n",
    "#                 elif imgfolder == \"goddess\":\n",
    "#                     target = 3\n",
    "count = 0\n",
    "counterfolder = 0;\n",
    "for imgfolder in os.listdir(path):\n",
    "    print(imgfolder)\n",
    "        \n",
    "    imgpath = path + \"\\\\\" + imgfolder\n",
    "    print(imgpath)\n",
    "    for img in os.listdir(imgpath):\n",
    "        \n",
    "        temp = []\n",
    "        #print(img)\n",
    "        img = cv2.imread(imgpath + \"\\\\\" + img)\n",
    "        imageWidth, imageHeight = img.shape[:2]\n",
    "\n",
    "        imgRGB = cv2.cvtColor(img, cv2.COLOR_BGR2RGB)\n",
    "\n",
    "        blackie = np.zeros(img.shape) # Blank image\n",
    "\n",
    "        results = pose.process(imgRGB)\n",
    "\n",
    "        if results.pose_landmarks:\n",
    "\n",
    "                # mpDraw.draw_landmarks(img, results.pose_landmarks, mpPose.POSE_CONNECTIONS) #draw landmarks on image\n",
    "\n",
    "                mpDraw.draw_landmarks(blackie, results.pose_landmarks, mpPose.POSE_CONNECTIONS) # draw landmarks on blackie\n",
    "\n",
    "                landmarks = results.pose_landmarks.landmark\n",
    "\n",
    "                for i,j in zip(points,landmarks):\n",
    "\n",
    "                        temp = temp + [j.x, j.y, j.z, j.visibility]\n",
    "                \n",
    "                #Assign target value (0 for the first pose, 1 for the rest)\n",
    "                if imgfolder == \"plank\":\n",
    "                    target = 0 \n",
    "                elif imgfolder == \"warrior2\":\n",
    "                    target = 1\n",
    "                elif imgfolder == \"downdog\":\n",
    "                    target = 2\n",
    "                elif imgfolder == \"train_tree_AUGMENTED\":\n",
    "                    target = 3\n",
    "                    \n",
    "                temp.append(target)\n",
    "                \n",
    "                data.loc[count] = temp\n",
    "\n",
    "                count +=1\n",
    "\n",
    "        #cv2.imshow(\"Image\", img)\n",
    "\n",
    "        #cv2.imshow(\"blackie\",blackie)\n",
    "\n",
    "        #cv2.waitKey(100)\n",
    "\n",
    "data.to_csv(\"training_dataset_with target_all3posses.csv\") # save the data as a csv file"
   ]
  },
  {
   "cell_type": "code",
   "execution_count": 47,
   "id": "6a71709b",
   "metadata": {},
   "outputs": [
    {
     "name": "stdout",
     "output_type": "stream",
     "text": [
      "downdog\n",
      "plank\n",
      "warrior2\n"
     ]
    }
   ],
   "source": [
    "###skipping for now\n",
    "\n",
    "path = \"C:\\\\Users\\\\AISHWARYA UBALE\\\\Downloads\\\\archive (6)\\\\DATASET\\\\TEST\"\n",
    "\n",
    "count = 0\n",
    "data.drop(data.index, inplace=True)\n",
    "counterfolder = 0;\n",
    "for imgfolder in os.listdir(path):\n",
    "    print(imgfolder)\n",
    "    imgpath = path + \"//\" + imgfolder\n",
    "    for img in os.listdir(imgpath):\n",
    "        \n",
    "        temp = []\n",
    "        #print(img)\n",
    "        img = cv2.imread(imgpath + \"/\" + img)\n",
    "        \n",
    "        imageWidth, imageHeight = img.shape[:2]\n",
    "\n",
    "        imgRGB = cv2.cvtColor(img, cv2.COLOR_BGR2RGB)\n",
    "\n",
    "        blackie = np.zeros(img.shape) # Blank image\n",
    "\n",
    "        results = pose.process(imgRGB)\n",
    "\n",
    "        if results.pose_landmarks:\n",
    "\n",
    "                # mpDraw.draw_landmarks(img, results.pose_landmarks, mpPose.POSE_CONNECTIONS) #draw landmarks on image\n",
    "\n",
    "                mpDraw.draw_landmarks(blackie, results.pose_landmarks, mpPose.POSE_CONNECTIONS) # draw landmarks on blackie\n",
    "\n",
    "                landmarks = results.pose_landmarks.landmark\n",
    "\n",
    "                for i,j in zip(points,landmarks):\n",
    "\n",
    "                        temp = temp + [j.x, j.y, j.z, j.visibility]\n",
    "                \n",
    "                #Assign target value (0 for the first pose, 1 for the rest)\n",
    "                if imgfolder == \"plank\":\n",
    "                    target = 0 \n",
    "                elif imgfolder == \"warrior2\":\n",
    "                    target = 1\n",
    "#                 elif imgfolder == \"tree\":\n",
    "#                     target = 2 \n",
    "                elif imgfolder == \"downdog\":\n",
    "                    target = 2\n",
    "                elif imgfolder == \"train_tree_AUGMENTED\":\n",
    "                    target = 3\n",
    "                \n",
    "                temp.append(target)\n",
    "                \n",
    "                data.loc[count] = temp\n",
    "\n",
    "                count +=1\n",
    "\n",
    "        #cv2.imshow(\"Image\", img)\n",
    "\n",
    "        #cv2.imshow(\"blackie\",blackie)\n",
    "\n",
    "        #cv2.waitKey(100)\n",
    "\n",
    "data.to_csv(\"testing_dataset3_with target_allposses.csv\") # save the data as a csv file"
   ]
  },
  {
   "cell_type": "code",
   "execution_count": null,
   "id": "e63f120e",
   "metadata": {},
   "outputs": [],
   "source": []
  },
  {
   "cell_type": "markdown",
   "id": "7fea0825",
   "metadata": {},
   "source": [
    "## Now trying to implement the machine learning models:"
   ]
  },
  {
   "cell_type": "code",
   "execution_count": 50,
   "id": "0775ef79",
   "metadata": {},
   "outputs": [],
   "source": [
    "#Read the training dataset:\n",
    "from sklearn.model_selection import train_test_split\n",
    "from sklearn.svm import SVC\n",
    "data = pd.read_csv(\"training_dataset_with target_all3posses.csv\")\n",
    "X,Y = data.iloc[:,:132],data['target']\n",
    "\n",
    "\n"
   ]
  },
  {
   "cell_type": "code",
   "execution_count": 67,
   "id": "82517f52",
   "metadata": {},
   "outputs": [
    {
     "name": "stdout",
     "output_type": "stream",
     "text": [
      "Dimensions match: X and Y have the same number of samples.\n",
      "[1324, 309, 2004, 1856, 1061]\n",
      "Sample 1324: Landmarks - [ 1.32400000e+03  5.22926211e-01  2.09415719e-01 -1.75842375e-01\n",
      "  9.94119465e-01  5.29718697e-01  1.96167588e-01 -1.46790162e-01\n",
      "  9.91584420e-01  5.34032166e-01  1.95908055e-01 -1.46772668e-01\n",
      "  9.90171731e-01  5.38548172e-01  1.95598572e-01 -1.46946460e-01\n",
      "  9.90908504e-01  5.20233452e-01  1.97291687e-01 -1.55528903e-01\n",
      "  9.92642581e-01  5.18250525e-01  1.98045745e-01 -1.55553848e-01\n",
      "  9.90665734e-01  5.17002881e-01  1.98941544e-01 -1.55560732e-01\n",
      "  9.91462350e-01  5.49531400e-01  2.00205445e-01  1.11404955e-02\n",
      "  9.88984942e-01  5.20562768e-01  2.05027744e-01 -2.80651283e-02\n",
      "  9.90689516e-01  5.30200303e-01  2.22643763e-01 -1.17050752e-01\n",
      "  9.85612392e-01  5.17112672e-01  2.23821178e-01 -1.28395408e-01\n",
      "  9.88196731e-01  5.70709109e-01  2.43486002e-01  6.02407493e-02\n",
      "  9.85667288e-01  4.74094898e-01  2.63949782e-01  1.81332026e-02\n",
      "  9.94317830e-01  5.79760849e-01  1.64069533e-01  1.09206870e-01\n",
      "  9.51981127e-01  4.93162125e-01  1.77455783e-01  7.12771062e-03\n",
      "  9.49200630e-01  4.93385345e-01  1.31183133e-01  2.31400847e-01\n",
      "  8.64211202e-01  5.35747588e-01  1.26709923e-01  1.22603193e-01\n",
      "  8.67618382e-01  4.72965032e-01  1.24139406e-01  2.13018253e-01\n",
      "  7.78208971e-01  5.39662480e-01  1.15012534e-01  1.06344268e-01\n",
      "  7.77680933e-01  4.77631092e-01  1.32624134e-01  2.23138899e-01\n",
      "  7.62802899e-01  5.47671020e-01  1.25439540e-01  1.07722983e-01\n",
      "  7.63169348e-01  4.84346926e-01  1.36266544e-01  2.31292829e-01\n",
      "  7.68705249e-01  5.49983561e-01  1.30626202e-01  1.19028576e-01\n",
      "  7.67243683e-01  5.87639451e-01  4.26208109e-01  1.25920475e-02\n",
      "  9.97081101e-01  5.19908428e-01  4.51115221e-01 -1.20108547e-02\n",
      "  9.97977316e-01  7.24538743e-01  4.64560747e-01 -1.36106655e-01\n",
      "  8.89399230e-01  5.41150570e-01  5.91254294e-01 -1.53442189e-01\n",
      "  9.19137776e-01  5.70467532e-01  4.85331565e-01  1.85106039e-01\n",
      "  6.62849784e-01  5.81861556e-01  6.37838483e-01  2.71891486e-02\n",
      "  7.85543084e-01  5.51767170e-01  4.78838533e-01  1.92485124e-01\n",
      "  6.87187016e-01  5.90703368e-01  6.82694137e-01  4.81835380e-02\n",
      "  7.86960542e-01  5.62602878e-01  5.37866354e-01  1.62229776e-01\n",
      "  6.32033408e-01  5.72486222e-01  7.44383276e-01 -9.04236287e-02], Label - 3.0\n",
      "Sample 309: Landmarks - [ 3.09000000e+02  6.48902476e-01  4.90030706e-01 -9.52050984e-02\n",
      "  9.40662146e-01  6.61298990e-01  4.68818545e-01 -9.40168649e-02\n",
      "  9.43870544e-01  6.60667121e-01  4.65048403e-01 -9.39386189e-02\n",
      "  9.46663260e-01  6.59969211e-01  4.61363971e-01 -9.39501524e-02\n",
      "  9.48016107e-01  6.63434744e-01  4.71894294e-01 -1.38618663e-01\n",
      "  9.46874917e-01  6.63508117e-01  4.69044983e-01 -1.38669133e-01\n",
      "  9.45413709e-01  6.63607001e-01  4.66265768e-01 -1.38950333e-01\n",
      "  9.40232754e-01  6.56332493e-01  4.22370195e-01 -7.02381805e-02\n",
      "  9.47305918e-01  6.60405755e-01  4.28278059e-01 -2.74051338e-01\n",
      "  9.40586150e-01  6.37118816e-01  4.77354079e-01 -7.44568780e-02\n",
      "  9.45035219e-01  6.39166951e-01  4.79098439e-01 -1.33598641e-01\n",
      "  9.37094092e-01  5.91045201e-01  3.73123646e-01  3.95122543e-02\n",
      "  9.89408791e-01  6.17668808e-01  4.18701112e-01 -3.48512858e-01\n",
      "  9.92242515e-01  5.85563779e-01  5.72804570e-01  7.59087503e-02\n",
      "  6.63848579e-01  6.72561109e-01  6.78557396e-01 -4.01777893e-01\n",
      "  6.83972657e-01  6.21757209e-01  7.75433183e-01  5.91864772e-02\n",
      "  6.80596590e-01  6.80893898e-01  8.81043136e-01 -3.97799850e-01\n",
      "  7.00460196e-01  6.43265486e-01  7.97157526e-01  8.43998790e-02\n",
      "  6.75717890e-01  6.93748653e-01  9.27001953e-01 -4.39296842e-01\n",
      "  6.92538738e-01  6.81292593e-01  8.58935833e-01  4.35068272e-02\n",
      "  6.78117752e-01  6.97680235e-01  9.26205695e-01 -4.04089183e-01\n",
      "  6.92805588e-01  6.71613276e-01  8.42241228e-01  4.17274907e-02\n",
      "  6.83042884e-01  6.93183482e-01  9.12175357e-01 -3.84475917e-01\n",
      "  6.94352031e-01  5.10525763e-01  5.63065410e-01  1.13212995e-01\n",
      "  9.87131417e-01  5.22486985e-01  5.93028188e-01 -1.13634698e-01\n",
      "  9.88750279e-01  3.41186970e-01  6.04049385e-01  1.53110504e-01\n",
      "  6.96687222e-01  3.51191700e-01  6.77132666e-01 -1.08338222e-01\n",
      "  7.07392573e-01  1.80872664e-01  5.89792609e-01  3.22379887e-01\n",
      "  5.44048309e-01  1.91196039e-01  8.17550242e-01 -1.97284203e-02\n",
      "  6.30867660e-01  1.56916976e-01  5.80675304e-01  3.38017046e-01\n",
      "  5.79609692e-01  1.60597295e-01  8.12085450e-01 -1.03871673e-02\n",
      "  6.72195613e-01  1.43829152e-01  7.03274786e-01  2.77275592e-01\n",
      "  5.84218323e-01  1.86997950e-01  9.22693789e-01 -8.08981359e-02], Label - 0.0\n",
      "Sample 2004: Landmarks - [ 2.00400000e+03  4.13224727e-01  2.94438392e-01 -2.99818277e-01\n",
      "  9.98758256e-01  4.20542955e-01  2.91074723e-01 -2.65904456e-01\n",
      "  9.98330235e-01  4.24859136e-01  2.92370558e-01 -2.65910208e-01\n",
      "  9.97664511e-01  4.28530008e-01  2.93377548e-01 -2.66003013e-01\n",
      "  9.98265624e-01  4.07338440e-01  2.88832814e-01 -2.71222055e-01\n",
      "  9.98276412e-01  4.02424335e-01  2.88362354e-01 -2.71287054e-01\n",
      "  9.97489095e-01  3.97960573e-01  2.87329376e-01 -2.71360219e-01\n",
      "  9.97973740e-01  4.35040712e-01  3.02502781e-01 -1.04928493e-01\n",
      "  9.97796893e-01  3.96808594e-01  2.96921939e-01 -1.26898736e-01\n",
      "  9.97643054e-01  4.22748357e-01  3.05470765e-01 -2.43034795e-01\n",
      "  9.97283101e-01  4.06882703e-01  2.96722502e-01 -2.50855744e-01\n",
      "  9.97654796e-01  4.63541925e-01  3.63516271e-01 -6.34424686e-02\n",
      "  9.93103623e-01  3.74682099e-01  3.38574827e-01 -1.01692192e-01\n",
      "  9.94894683e-01  4.67253208e-01  2.81406313e-01 -1.02645807e-01\n",
      "  9.64805901e-01  3.58997345e-01  2.81103998e-01 -1.81078658e-01\n",
      "  9.73072171e-01  4.27816927e-01  2.23656550e-01 -1.85299367e-01\n",
      "  9.00749207e-01  3.88563097e-01  2.35857949e-01 -1.84627131e-01\n",
      "  8.76416862e-01  4.18430150e-01  1.93200201e-01 -2.29816213e-01\n",
      "  7.81246662e-01  3.97531301e-01  1.97559074e-01 -2.05328956e-01\n",
      "  7.43237793e-01  4.15968478e-01  1.95219278e-01 -2.23136038e-01\n",
      "  7.60694444e-01  3.97964567e-01  2.10326061e-01 -2.07587853e-01\n",
      "  7.18329370e-01  4.17382717e-01  2.03350708e-01 -1.89626530e-01\n",
      "  7.51430571e-01  3.97516429e-01  2.11480156e-01 -1.84697941e-01\n",
      "  7.15124547e-01  4.64615852e-01  5.52676141e-01  4.60233875e-02\n",
      "  9.98644888e-01  4.04713392e-01  5.53515911e-01 -4.59985919e-02\n",
      "  9.98610914e-01  5.19706905e-01  6.19595349e-01 -1.88096613e-01\n",
      "  9.55934227e-01  4.26553458e-01  7.39831448e-01 -1.86668023e-01\n",
      "  9.59268987e-01  4.51874793e-01  6.86630845e-01  1.36847898e-01\n",
      "  8.55815053e-01  4.40166086e-01  8.78090441e-01 -1.14475274e-02\n",
      "  9.20570612e-01  4.33897763e-01  6.79886222e-01  1.67557970e-01\n",
      "  8.20297539e-01  4.53531653e-01  8.90493035e-01 -1.76939147e-03\n",
      "  8.77568603e-01  4.35733348e-01  7.39543617e-01  5.58204018e-02\n",
      "  8.32689881e-01  4.53348726e-01  9.21809375e-01 -1.83345288e-01], Label - 3.0\n",
      "Sample 1856: Landmarks - [ 1.85600000e+03  6.19078100e-01  2.70167917e-01 -1.14655221e+00\n",
      "  9.90917087e-01  6.25550389e-01  2.60128289e-01 -1.12165797e+00\n",
      "  9.93074894e-01  6.30538046e-01  2.60967642e-01 -1.12150991e+00\n",
      "  9.91900563e-01  6.35648668e-01  2.62085795e-01 -1.12183034e+00\n",
      "  9.94198740e-01  6.11604154e-01  2.58498937e-01 -1.12930512e+00\n",
      "  9.93174791e-01  6.06455445e-01  2.58354306e-01 -1.12960744e+00\n",
      "  9.91674542e-01  6.00822330e-01  2.58686930e-01 -1.12971628e+00\n",
      "  9.92345393e-01  6.38850272e-01  2.70197242e-01 -9.05868351e-01\n",
      "  9.92862642e-01  5.91922283e-01  2.67305642e-01 -9.39288974e-01\n",
      "  9.89773750e-01  6.23834550e-01  2.84872085e-01 -1.05685222e+00\n",
      "  9.91447926e-01  6.08676314e-01  2.81923145e-01 -1.06671011e+00\n",
      "  9.88905966e-01  6.62689209e-01  3.35794538e-01 -7.22762883e-01\n",
      "  9.91739094e-01  5.38164794e-01  3.20337832e-01 -8.04141343e-01\n",
      "  9.86532867e-01  7.22210288e-01  2.62390107e-01 -8.46992552e-01\n",
      "  9.08074200e-01  5.08730233e-01  2.19651490e-01 -9.63530540e-01\n",
      "  9.03266609e-01  7.63212681e-01  1.53663650e-01 -1.02870870e+00\n",
      "  8.99147391e-01  4.89496887e-01  1.09565213e-01 -1.11200321e+00\n",
      "  8.85845959e-01  7.81256378e-01  1.19020544e-01 -1.09523141e+00\n",
      "  8.61265004e-01  4.76325840e-01  6.72145039e-02 -1.19095910e+00\n",
      "  8.51050735e-01  7.74513543e-01  1.16647713e-01 -1.12273073e+00\n",
      "  8.59659016e-01  4.84129816e-01  6.57102615e-02 -1.19476759e+00\n",
      "  8.45265150e-01  7.66404331e-01  1.29812300e-01 -1.05240452e+00\n",
      "  8.60076070e-01  4.91316557e-01  8.21131542e-02 -1.12448263e+00\n",
      "  8.43975306e-01  6.20044112e-01  5.00483096e-01 -2.59450264e-02\n",
      "  9.97900844e-01  5.46281993e-01  4.76679236e-01  2.59621944e-02\n",
      "  9.96141016e-01  5.63412905e-01  6.41213298e-01 -9.60330367e-02\n",
      "  8.76815200e-01  3.56875956e-01  5.17768741e-01 -8.50417092e-02\n",
      "  9.03292716e-01  5.28828084e-01  7.65863240e-01  2.64302999e-01\n",
      "  8.42561007e-01  4.97529089e-01  5.24398804e-01  5.51445305e-01\n",
      "  7.25668430e-01  5.17411590e-01  8.00458252e-01  2.98847586e-01\n",
      "  8.11885715e-01  5.13164520e-01  5.19431949e-01  6.15040243e-01\n",
      "  7.37955749e-01  5.28575063e-01  7.96514153e-01  1.29114076e-01\n",
      "  8.21666479e-01  5.02402902e-01  5.59937596e-01  5.54246545e-01], Label - 3.0\n",
      "Sample 1061: Landmarks - [ 1.06100000e+03  4.17184144e-01  1.93154797e-01 -2.10282162e-01\n",
      "  9.97760594e-01  4.21658933e-01  1.76239625e-01 -1.83545724e-01\n",
      "  9.97734964e-01  4.26788390e-01  1.74461171e-01 -1.83576480e-01\n",
      "  9.97122765e-01  4.32006776e-01  1.72983453e-01 -1.83737829e-01\n",
      "  9.97547090e-01  4.08213884e-01  1.82003334e-01 -1.79768443e-01\n",
      "  9.97606039e-01  4.03376192e-01  1.84089556e-01 -1.79771051e-01\n",
      "  9.96661544e-01  3.98649961e-01  1.86523885e-01 -1.79811209e-01\n",
      "  9.97312725e-01  4.45718378e-01  1.79988712e-01 -1.39035480e-02\n",
      "  9.97551620e-01  3.95895809e-01  1.96767092e-01  8.89165048e-03\n",
      "  9.97803390e-01  4.31560099e-01  2.05245569e-01 -1.44711137e-01\n",
      "  9.96215761e-01  4.13860857e-01  2.10387498e-01 -1.38948247e-01\n",
      "  9.96206343e-01  5.22596836e-01  2.49654993e-01  4.30605039e-02\n",
      "  9.91540611e-01  3.84086430e-01  2.86657125e-01  9.57778841e-02\n",
      "  9.94970500e-01  6.02982521e-01  3.82577151e-01 -1.78474739e-01\n",
      "  9.41190720e-01  3.63428980e-01  4.13284957e-01 -1.12329073e-01\n",
      "  9.57693815e-01  4.82592195e-01  3.29309762e-01 -4.45466518e-01\n",
      "  8.21164250e-01  4.33324158e-01  3.45633775e-01 -4.34734166e-01\n",
      "  8.81547391e-01  4.58506733e-01  3.14528197e-01 -4.94305611e-01\n",
      "  7.27832913e-01  4.39384043e-01  3.23014528e-01 -4.96341676e-01\n",
      "  7.77993619e-01  4.53241795e-01  3.05318415e-01 -4.55252588e-01\n",
      "  7.04513729e-01  4.40744370e-01  3.14420164e-01 -4.72892761e-01\n",
      "  7.52160370e-01  4.59913284e-01  3.11854839e-01 -4.32121903e-01\n",
      "  7.00112879e-01  4.38249916e-01  3.23592931e-01 -4.32668447e-01\n",
      "  7.42065668e-01  5.34295619e-01  4.62104261e-01 -5.02359793e-02\n",
      "  9.98267710e-01  4.49890316e-01  4.84372437e-01  5.05370609e-02\n",
      "  9.97313380e-01  5.77592015e-01  5.81408322e-01 -3.12592775e-01\n",
      "  9.52763915e-01  3.49392653e-01  6.30223691e-01 -1.74409956e-01\n",
      "  9.42373276e-01  6.35695875e-01  7.44663835e-01 -2.84717351e-01\n",
      "  7.44732201e-01  4.91017401e-01  5.62513947e-01 -9.09688696e-02\n",
      "  7.35159814e-01  6.44457281e-01  7.64951766e-01 -2.85288364e-01\n",
      "  6.67419910e-01  5.02496660e-01  5.44013679e-01  6.94003627e-02\n",
      "  6.51857734e-01  6.37751222e-01  7.88393974e-01 -4.52772379e-01\n",
      "  6.91013575e-01  5.24529278e-01  6.25217319e-01  2.17914313e-01], Label - 3.0\n",
      "\n",
      "\n",
      "\n",
      "Index(['row_id', 'NOSE_x', 'NOSE_y', 'NOSE_z', 'NOSE_vis', 'LEFT_EYE_INNER_x',\n",
      "       'LEFT_EYE_INNER_y', 'LEFT_EYE_INNER_z', 'LEFT_EYE_INNER_vis',\n",
      "       'LEFT_EYE_x',\n",
      "       ...\n",
      "       'RIGHT_HEEL_y', 'RIGHT_HEEL_z', 'RIGHT_HEEL_vis', 'LEFT_FOOT_INDEX_x',\n",
      "       'LEFT_FOOT_INDEX_y', 'LEFT_FOOT_INDEX_z', 'LEFT_FOOT_INDEX_vis',\n",
      "       'RIGHT_FOOT_INDEX_x', 'RIGHT_FOOT_INDEX_y', 'RIGHT_FOOT_INDEX_z'],\n",
      "      dtype='object', length=132)\n",
      "   row_id    NOSE_x    NOSE_y    NOSE_z  NOSE_vis  LEFT_EYE_INNER_x  \\\n",
      "0       0  0.441700  0.694201 -0.096439  0.997566          0.416444   \n",
      "1       1  0.378846  0.717390 -0.020918  0.997744          0.360062   \n",
      "2       2  0.394866  0.642226 -0.021269  0.997950          0.369800   \n",
      "\n",
      "   LEFT_EYE_INNER_y  LEFT_EYE_INNER_z  LEFT_EYE_INNER_vis  LEFT_EYE_x  ...  \\\n",
      "0          0.695569         -0.137276            0.998209    0.413817  ...   \n",
      "1          0.707027         -0.065380            0.998329    0.359729  ...   \n",
      "2          0.646245         -0.055329            0.998481    0.367126  ...   \n",
      "\n",
      "   RIGHT_HEEL_y  RIGHT_HEEL_z  RIGHT_HEEL_vis  LEFT_FOOT_INDEX_x  \\\n",
      "0      0.812978      0.395089        0.413311           0.825927   \n",
      "1      0.878799      0.438309        0.420324           0.794249   \n",
      "2      0.779360      0.361398        0.418572           0.806704   \n",
      "\n",
      "   LEFT_FOOT_INDEX_y  LEFT_FOOT_INDEX_z  LEFT_FOOT_INDEX_vis  \\\n",
      "0           0.860303          -0.317801             0.972257   \n",
      "1           0.955767          -0.372992             0.972202   \n",
      "2           0.843974          -0.208756             0.972188   \n",
      "\n",
      "   RIGHT_FOOT_INDEX_x  RIGHT_FOOT_INDEX_y  RIGHT_FOOT_INDEX_z  \n",
      "0            0.809430            0.840739            0.287854  \n",
      "1            0.776637            0.924903            0.338004  \n",
      "2            0.801038            0.827370            0.289733  \n",
      "\n",
      "[3 rows x 132 columns]\n"
     ]
    }
   ],
   "source": [
    "# Assuming X contains landmark features and Y contains labels/targets\n",
    "\n",
    "# Check dimensions\n",
    "if len(X) == len(Y):\n",
    "    print(\"Dimensions match: X and Y have the same number of samples.\")\n",
    "\n",
    "import random\n",
    "\n",
    "# Visual inspection of a few samples\n",
    "indices_to_check = random.sample(list(X.index), 5)  # Assuming you want to check 5 samples\n",
    "\n",
    "print(indices_to_check)\n",
    "# Print features from X and their corresponding labels from Y\n",
    "for idx in indices_to_check:\n",
    "    print(f\"Sample {idx}: Landmarks - {X.loc[idx].values}, Label - {Y.loc[idx]}\")\n",
    "\n",
    "print(\"\\n\\n\")\n",
    "\n",
    "#Renaming the first column to Row_id:\n",
    "X = X.rename(columns={X.columns[0]: 'row_id'})\n",
    "print(X.columns)\n",
    "print(X.head(3))"
   ]
  },
  {
   "cell_type": "code",
   "execution_count": 68,
   "id": "54fe8cb3",
   "metadata": {},
   "outputs": [
    {
     "name": "stdout",
     "output_type": "stream",
     "text": [
      "Class Distribution:\n",
      "3.0    2876\n",
      "1.0     235\n",
      "0.0     228\n",
      "2.0     202\n",
      "Name: target, dtype: int64\n"
     ]
    }
   ],
   "source": [
    "#Splitting the data    \n",
    "    \n",
    "X_train, X_ttest, y_train, y_ttest = train_test_split(X, Y, test_size=0.2, random_state=42)\n",
    "\n",
    "\n",
    "class_counts = data['target'].value_counts()\n",
    "\n",
    "print(\"Class Distribution:\")\n",
    "print(class_counts)"
   ]
  },
  {
   "cell_type": "code",
   "execution_count": 69,
   "id": "c43bfbbb",
   "metadata": {},
   "outputs": [
    {
     "data": {
      "image/png": "[encoded data removed]",
      "text/plain": [
       "<Figure size 640x480 with 2 Axes>"
      ]
     },
     "metadata": {},
     "output_type": "display_data"
    }
   ],
   "source": [
    "from sklearn import metrics\n",
    "import seaborn as sns\n",
    "import matplotlib.pyplot as plt\n",
    "\n",
    "confusion_matrix = metrics.confusion_matrix(Y, Y)\n",
    "\n",
    "# Plot confusion matrix using seaborn\n",
    "sns.heatmap(confusion_matrix, annot=True, fmt='d', cmap='Blues', xticklabels=['Class 0', 'Class 1', 'Class 2','Class 3'], yticklabels=['Class 0', 'Class 1', 'Class 2','Class 3'])\n",
    "plt.xlabel('Predicted')\n",
    "plt.ylabel('Actual')\n",
    "plt.title('Confusion Matrix')\n",
    "plt.show()"
   ]
  },
  {
   "cell_type": "code",
   "execution_count": 70,
   "id": "8b365c43",
   "metadata": {},
   "outputs": [],
   "source": [
    "#Read the test dataset\n",
    "\n",
    "test_data = pd.read_csv(\"testing_dataset3_with target_allposses.csv\")\n",
    "#X_test = test_data.iloc[:, :132]\n",
    "\n",
    "X_test,Y_test = test_data.iloc[:,:132],test_data['target']"
   ]
  },
  {
   "cell_type": "code",
   "execution_count": 71,
   "id": "d7c4c436",
   "metadata": {},
   "outputs": [
    {
     "name": "stdout",
     "output_type": "stream",
     "text": [
      "Class Distribution:\n",
      "0.0    104\n",
      "1.0    103\n",
      "2.0     91\n",
      "Name: target, dtype: int64\n"
     ]
    }
   ],
   "source": [
    "class_counts = test_data['target'].value_counts()\n",
    "\n",
    "print(\"Class Distribution:\")\n",
    "print(class_counts)"
   ]
  },
  {
   "cell_type": "code",
   "execution_count": null,
   "id": "d6479343",
   "metadata": {},
   "outputs": [],
   "source": []
  },
  {
   "cell_type": "code",
   "execution_count": 72,
   "id": "21848c6a",
   "metadata": {},
   "outputs": [
    {
     "name": "stdout",
     "output_type": "stream",
     "text": [
      "[[104   0   0]\n",
      " [  0 103   0]\n",
      " [  0   0  91]]\n"
     ]
    },
    {
     "data": {
      "image/png": "[encoded data removed]",
      "text/plain": [
       "<Figure size 640x480 with 2 Axes>"
      ]
     },
     "metadata": {},
     "output_type": "display_data"
    }
   ],
   "source": [
    "from sklearn import metrics\n",
    "\n",
    "confusion_matrix = metrics.confusion_matrix(Y_test, Y_test)\n",
    "print(confusion_matrix)\n",
    "# Plot confusion matrix using seaborn\n",
    "sns.heatmap(confusion_matrix, annot=True, fmt='d', cmap='Blues', xticklabels=['Class 0', 'Class 1', 'Class 2','Class 3'], yticklabels=['Class 0', 'Class 1', 'Class 2','Class 3'])\n",
    "plt.xlabel('Predicted')\n",
    "plt.ylabel('Actual')\n",
    "plt.title('Confusion Matrix')\n",
    "plt.show()\n"
   ]
  },
  {
   "cell_type": "code",
   "execution_count": 73,
   "id": "a67b18d2",
   "metadata": {},
   "outputs": [
    {
     "name": "stdout",
     "output_type": "stream",
     "text": [
      "Classification Report:\n",
      "               precision    recall  f1-score   support\n",
      "\n",
      "         0.0       0.00      0.00      0.00       104\n",
      "         1.0       0.00      0.00      0.00       103\n",
      "         2.0       0.45      1.00      0.62        91\n",
      "\n",
      "    accuracy                           0.31       298\n",
      "   macro avg       0.15      0.33      0.21       298\n",
      "weighted avg       0.14      0.31      0.19       298\n",
      "\n"
     ]
    },
    {
     "name": "stderr",
     "output_type": "stream",
     "text": [
      "C:\\Users\\AISHWARYA UBALE\\anaconda3\\lib\\site-packages\\sklearn\\metrics\\_classification.py:1344: UndefinedMetricWarning: Precision and F-score are ill-defined and being set to 0.0 in labels with no predicted samples. Use `zero_division` parameter to control this behavior.\n",
      "  _warn_prf(average, modifier, msg_start, len(result))\n",
      "C:\\Users\\AISHWARYA UBALE\\anaconda3\\lib\\site-packages\\sklearn\\metrics\\_classification.py:1344: UndefinedMetricWarning: Precision and F-score are ill-defined and being set to 0.0 in labels with no predicted samples. Use `zero_division` parameter to control this behavior.\n",
      "  _warn_prf(average, modifier, msg_start, len(result))\n",
      "C:\\Users\\AISHWARYA UBALE\\anaconda3\\lib\\site-packages\\sklearn\\metrics\\_classification.py:1344: UndefinedMetricWarning: Precision and F-score are ill-defined and being set to 0.0 in labels with no predicted samples. Use `zero_division` parameter to control this behavior.\n",
      "  _warn_prf(average, modifier, msg_start, len(result))\n"
     ]
    }
   ],
   "source": [
    "\n",
    "from sklearn.metrics import classification_report\n",
    "\n",
    "# Assuming you have already trained your model and obtained predictions\n",
    "predictions = model.predict(X_test)\n",
    "\n",
    "# Generate a classification report\n",
    "report = classification_report(Y_test, predictions)\n",
    "\n",
    "# Print the classification report\n",
    "print(\"Classification Report:\\n\", report)\n"
   ]
  },
  {
   "cell_type": "code",
   "execution_count": 74,
   "id": "6d3748fb",
   "metadata": {},
   "outputs": [],
   "source": [
    "#Pose model extraction\n",
    "\n",
    "mpPose = mp.solutions.pose\n",
    "pose = mpPose.Pose()\n",
    "mpDraw = mp.solutions.drawing_utils"
   ]
  },
  {
   "cell_type": "markdown",
   "id": "58d57218",
   "metadata": {},
   "source": [
    "### SVC Model"
   ]
  },
  {
   "cell_type": "code",
   "execution_count": 78,
   "id": "e9fe1dbe",
   "metadata": {},
   "outputs": [
    {
     "name": "stdout",
     "output_type": "stream",
     "text": [
      "Accuracy: 0.8859463276836158\n"
     ]
    }
   ],
   "source": [
    "\n",
    "model = SVC(kernel='poly', probability=True)\n",
    "model.fit(X_train,y_train)\n",
    "predictions = model.predict(X_train)\n",
    "#actual_labels = test_data['target']\n",
    "\n",
    "from sklearn.metrics import accuracy_score\n",
    "accuracy = accuracy_score(y_train, predictions)\n",
    "print(\"Accuracy:\", accuracy)"
   ]
  },
  {
   "cell_type": "code",
   "execution_count": 79,
   "id": "ff8fe1ec",
   "metadata": {},
   "outputs": [
    {
     "name": "stdout",
     "output_type": "stream",
     "text": [
      "Prediction Probabilities:\n",
      "[[3.10998332e-03 9.59420885e-01 2.13871041e-03 3.53304214e-02]\n",
      " [4.31895917e-14 1.83546655e-14 1.88059089e-14 1.00000000e+00]\n",
      " [4.25644870e-14 1.62117599e-14 1.81637507e-14 1.00000000e+00]\n",
      " ...\n",
      " [5.61721212e-03 2.48614005e-05 2.95080925e-03 9.91407117e-01]\n",
      " [1.09750701e-03 9.97976862e-01 7.40626138e-04 1.85004441e-04]\n",
      " [1.44341665e-05 5.17821719e-03 6.44870496e-05 9.94742862e-01]]\n"
     ]
    }
   ],
   "source": [
    "predicted_probabilities = model.predict_proba(X_train)\n",
    "\n",
    "# The result is a 2D array where each row corresponds to a data point and contains the probabilities for each class\n",
    "print(\"Prediction Probabilities:\")\n",
    "print(predicted_probabilities)"
   ]
  },
  {
   "cell_type": "code",
   "execution_count": 80,
   "id": "4cca182c",
   "metadata": {},
   "outputs": [
    {
     "name": "stdout",
     "output_type": "stream",
     "text": [
      "[[   0    0    0  170]\n",
      " [   0  179    0    2]\n",
      " [   0    0    0  151]\n",
      " [   0    0    0 2330]]\n"
     ]
    },
    {
     "data": {
      "image/png": "[encoded data removed]",
      "text/plain": [
       "<Figure size 640x480 with 2 Axes>"
      ]
     },
     "metadata": {},
     "output_type": "display_data"
    }
   ],
   "source": [
    "from sklearn import metrics\n",
    "\n",
    "confusion_matrix = metrics.confusion_matrix(y_train, predictions)\n",
    "\n",
    "print(confusion_matrix)\n",
    "\n",
    "# Plot confusion matrix using seaborn\n",
    "sns.heatmap(confusion_matrix, annot=True, fmt='d', cmap='Blues', xticklabels=['Class 0', 'Class 1', 'Class 2','Class 3'], yticklabels=['Class 0', 'Class 1', 'Class 2','Class 3'])\n",
    "plt.xlabel('Predicted')\n",
    "plt.ylabel('Actual')\n",
    "plt.title('Confusion Matrix')\n",
    "plt.show()"
   ]
  },
  {
   "cell_type": "code",
   "execution_count": 22,
   "id": "9050f686",
   "metadata": {},
   "outputs": [
    {
     "name": "stdout",
     "output_type": "stream",
     "text": [
      "Classification Report:\n",
      "               precision    recall  f1-score   support\n",
      "\n",
      "         0.0       0.00      0.00      0.00        58\n",
      "         1.0       1.00      0.98      0.99        54\n",
      "         2.0       0.00      0.00      0.00        51\n",
      "         3.0       0.83      1.00      0.91       546\n",
      "\n",
      "    accuracy                           0.84       709\n",
      "   macro avg       0.46      0.50      0.47       709\n",
      "weighted avg       0.72      0.84      0.78       709\n",
      "\n"
     ]
    },
    {
     "name": "stderr",
     "output_type": "stream",
     "text": [
      "C:\\Users\\AISHWARYA UBALE\\anaconda3\\lib\\site-packages\\sklearn\\metrics\\_classification.py:1344: UndefinedMetricWarning: Precision and F-score are ill-defined and being set to 0.0 in labels with no predicted samples. Use `zero_division` parameter to control this behavior.\n",
      "  _warn_prf(average, modifier, msg_start, len(result))\n",
      "C:\\Users\\AISHWARYA UBALE\\anaconda3\\lib\\site-packages\\sklearn\\metrics\\_classification.py:1344: UndefinedMetricWarning: Precision and F-score are ill-defined and being set to 0.0 in labels with no predicted samples. Use `zero_division` parameter to control this behavior.\n",
      "  _warn_prf(average, modifier, msg_start, len(result))\n",
      "C:\\Users\\AISHWARYA UBALE\\anaconda3\\lib\\site-packages\\sklearn\\metrics\\_classification.py:1344: UndefinedMetricWarning: Precision and F-score are ill-defined and being set to 0.0 in labels with no predicted samples. Use `zero_division` parameter to control this behavior.\n",
      "  _warn_prf(average, modifier, msg_start, len(result))\n"
     ]
    }
   ],
   "source": [
    "from sklearn.metrics import classification_report\n",
    "\n",
    "# Assuming you have already trained your model and obtained predictions\n",
    "predictions = model.predict(X_ttest)\n",
    "\n",
    "# Generate a classification report\n",
    "report = classification_report(y_ttest, predictions)\n",
    "\n",
    "# Print the classification report\n",
    "print(\"Classification Report:\\n\", report)"
   ]
  },
  {
   "cell_type": "markdown",
   "id": "42536da1",
   "metadata": {},
   "source": [
    "### Model 2 - Random Forest"
   ]
  },
  {
   "cell_type": "code",
   "execution_count": 23,
   "id": "b9e72d0f",
   "metadata": {},
   "outputs": [
    {
     "data": {
      "text/html": [
       "<style>#sk-container-id-1 {color: black;background-color: white;}#sk-container-id-1 pre{padding: 0;}#sk-container-id-1 div.sk-toggleable {background-color: white;}#sk-container-id-1 label.sk-toggleable__label {cursor: pointer;display: block;width: 100%;margin-bottom: 0;padding: 0.3em;box-sizing: border-box;text-align: center;}#sk-container-id-1 label.sk-toggleable__label-arrow:before {content: \"▸\";float: left;margin-right: 0.25em;color: #696969;}#sk-container-id-1 label.sk-toggleable__label-arrow:hover:before {color: black;}#sk-container-id-1 div.sk-estimator:hover label.sk-toggleable__label-arrow:before {color: black;}#sk-container-id-1 div.sk-toggleable__content {max-height: 0;max-width: 0;overflow: hidden;text-align: left;background-color: #f0f8ff;}#sk-container-id-1 div.sk-toggleable__content pre {margin: 0.2em;color: black;border-radius: 0.25em;background-color: #f0f8ff;}#sk-container-id-1 input.sk-toggleable__control:checked~div.sk-toggleable__content {max-height: 200px;max-width: 100%;overflow: auto;}#sk-container-id-1 input.sk-toggleable__control:checked~label.sk-toggleable__label-arrow:before {content: \"▾\";}#sk-container-id-1 div.sk-estimator input.sk-toggleable__control:checked~label.sk-toggleable__label {background-color: #d4ebff;}#sk-container-id-1 div.sk-label input.sk-toggleable__control:checked~label.sk-toggleable__label {background-color: #d4ebff;}#sk-container-id-1 input.sk-hidden--visually {border: 0;clip: rect(1px 1px 1px 1px);clip: rect(1px, 1px, 1px, 1px);height: 1px;margin: -1px;overflow: hidden;padding: 0;position: absolute;width: 1px;}#sk-container-id-1 div.sk-estimator {font-family: monospace;background-color: #f0f8ff;border: 1px dotted black;border-radius: 0.25em;box-sizing: border-box;margin-bottom: 0.5em;}#sk-container-id-1 div.sk-estimator:hover {background-color: #d4ebff;}#sk-container-id-1 div.sk-parallel-item::after {content: \"\";width: 100%;border-bottom: 1px solid gray;flex-grow: 1;}#sk-container-id-1 div.sk-label:hover label.sk-toggleable__label {background-color: #d4ebff;}#sk-container-id-1 div.sk-serial::before {content: \"\";position: absolute;border-left: 1px solid gray;box-sizing: border-box;top: 0;bottom: 0;left: 50%;z-index: 0;}#sk-container-id-1 div.sk-serial {display: flex;flex-direction: column;align-items: center;background-color: white;padding-right: 0.2em;padding-left: 0.2em;position: relative;}#sk-container-id-1 div.sk-item {position: relative;z-index: 1;}#sk-container-id-1 div.sk-parallel {display: flex;align-items: stretch;justify-content: center;background-color: white;position: relative;}#sk-container-id-1 div.sk-item::before, #sk-container-id-1 div.sk-parallel-item::before {content: \"\";position: absolute;border-left: 1px solid gray;box-sizing: border-box;top: 0;bottom: 0;left: 50%;z-index: -1;}#sk-container-id-1 div.sk-parallel-item {display: flex;flex-direction: column;z-index: 1;position: relative;background-color: white;}#sk-container-id-1 div.sk-parallel-item:first-child::after {align-self: flex-end;width: 50%;}#sk-container-id-1 div.sk-parallel-item:last-child::after {align-self: flex-start;width: 50%;}#sk-container-id-1 div.sk-parallel-item:only-child::after {width: 0;}#sk-container-id-1 div.sk-dashed-wrapped {border: 1px dashed gray;margin: 0 0.4em 0.5em 0.4em;box-sizing: border-box;padding-bottom: 0.4em;background-color: white;}#sk-container-id-1 div.sk-label label {font-family: monospace;font-weight: bold;display: inline-block;line-height: 1.2em;}#sk-container-id-1 div.sk-label-container {text-align: center;}#sk-container-id-1 div.sk-container {/* jupyter's `normalize.less` sets `[hidden] { display: none; }` but bootstrap.min.css set `[hidden] { display: none !important; }` so we also need the `!important` here to be able to override the default hidden behavior on the sphinx rendered scikit-learn.org. See: https://github.com/scikit-learn/scikit-learn/issues/21755 */display: inline-block !important;position: relative;}#sk-container-id-1 div.sk-text-repr-fallback {display: none;}</style><div id=\"sk-container-id-1\" class=\"sk-top-container\"><div class=\"sk-text-repr-fallback\"><pre>RandomForestClassifier(random_state=42)</pre><b>In a Jupyter environment, please rerun this cell to show the HTML representation or trust the notebook. <br />On GitHub, the HTML representation is unable to render, please try loading this page with nbviewer.org.</b></div><div class=\"sk-container\" hidden><div class=\"sk-item\"><div class=\"sk-estimator sk-toggleable\"><input class=\"sk-toggleable__control sk-hidden--visually\" id=\"sk-estimator-id-1\" type=\"checkbox\" checked><label for=\"sk-estimator-id-1\" class=\"sk-toggleable__label sk-toggleable__label-arrow\">RandomForestClassifier</label><div class=\"sk-toggleable__content\"><pre>RandomForestClassifier(random_state=42)</pre></div></div></div></div></div>"
      ],
      "text/plain": [
       "RandomForestClassifier(random_state=42)"
      ]
     },
     "execution_count": 23,
     "metadata": {},
     "output_type": "execute_result"
    }
   ],
   "source": [
    "from sklearn.ensemble import RandomForestClassifier\n",
    "\n",
    "# Create and train the Random Forest Classifier\n",
    "model = RandomForestClassifier(n_estimators=100, random_state=42)\n",
    "model.fit(X_train,y_train)\n"
   ]
  },
  {
   "cell_type": "code",
   "execution_count": 24,
   "id": "69b83d21",
   "metadata": {},
   "outputs": [
    {
     "name": "stdout",
     "output_type": "stream",
     "text": [
      "Training Accuracy: 1.0\n",
      "Training Confusion Matrix:\n",
      "[[ 170    0    0    0]\n",
      " [   0  181    0    0]\n",
      " [   0    0  151    0]\n",
      " [   0    0    0 2330]]\n"
     ]
    },
    {
     "data": {
      "image/png": "[encoded data removed]",
      "text/plain": [
       "<Figure size 640x480 with 2 Axes>"
      ]
     },
     "metadata": {},
     "output_type": "display_data"
    }
   ],
   "source": [
    "from sklearn.metrics import confusion_matrix\n",
    "import seaborn as sns\n",
    "import matplotlib.pyplot as plt\n",
    "from sklearn.metrics import accuracy_score\n",
    "\n",
    "# Predictions on training data\n",
    "train_predictions = model.predict(X_train)\n",
    "\n",
    "# Calculate accuracy on training data\n",
    "train_accuracy = accuracy_score(y_train, train_predictions)\n",
    "print(\"Training Accuracy:\", train_accuracy)\n",
    "\n",
    "# Confusion matrix for training data\n",
    "train_conf_matrix = confusion_matrix(y_train, train_predictions)\n",
    "\n",
    "# Print confusion matrix for training data\n",
    "print(\"Training Confusion Matrix:\")\n",
    "print(train_conf_matrix)\n",
    "\n",
    "# Plot confusion matrix using seaborn\n",
    "sns.heatmap(train_conf_matrix, annot=True, fmt='d', cmap='Blues', xticklabels=['Class 0', 'Class 1', 'Class 2','Class 3'], yticklabels=['Class 0', 'Class 1', 'Class 2','Class 3'])\n",
    "plt.xlabel('Predicted')\n",
    "plt.ylabel('Actual')\n",
    "plt.title('Training Confusion Matrix')\n",
    "plt.show()"
   ]
  },
  {
   "cell_type": "code",
   "execution_count": 26,
   "id": "78543570",
   "metadata": {},
   "outputs": [
    {
     "name": "stdout",
     "output_type": "stream",
     "text": [
      "Accuracy: 0.9929478138222849\n"
     ]
    }
   ],
   "source": [
    "predictions = model.predict(X_ttest)\n",
    "#actual_labels = test_data['target']\n",
    "\n",
    "from sklearn.metrics import accuracy_score\n",
    "accuracy = accuracy_score(y_ttest, predictions)\n",
    "print(\"Accuracy:\", accuracy)"
   ]
  },
  {
   "cell_type": "code",
   "execution_count": 27,
   "id": "4d90415e",
   "metadata": {},
   "outputs": [
    {
     "name": "stdout",
     "output_type": "stream",
     "text": [
      "[[ 55   0   0   3]\n",
      " [  0  54   0   0]\n",
      " [  0   0  51   0]\n",
      " [  2   0   0 544]]\n"
     ]
    },
    {
     "data": {
      "image/png": "[encoded data removed]",
      "text/plain": [
       "<Figure size 640x480 with 2 Axes>"
      ]
     },
     "metadata": {},
     "output_type": "display_data"
    }
   ],
   "source": [
    "from sklearn import metrics\n",
    "\n",
    "confusion_matrix = metrics.confusion_matrix(y_ttest, predictions)\n",
    "print(confusion_matrix)\n",
    "# Plot confusion matrix using seaborn\n",
    "sns.heatmap(confusion_matrix, annot=True, fmt='d', cmap='Blues', xticklabels=['Class 0', 'Class 1', 'Class 2','Class 3'], yticklabels=['Class 0', 'Class 1', 'Class 2','Class 3'])\n",
    "plt.xlabel('Predicted')\n",
    "plt.ylabel('Actual')\n",
    "plt.title('Confusion Matrix')\n",
    "plt.show()"
   ]
  },
  {
   "cell_type": "markdown",
   "id": "98fa6ae7",
   "metadata": {},
   "source": [
    "## Decision Tree Classifier"
   ]
  },
  {
   "cell_type": "code",
   "execution_count": 28,
   "id": "f9d14765",
   "metadata": {},
   "outputs": [
    {
     "name": "stdout",
     "output_type": "stream",
     "text": [
      "Accuracy: 0.998589562764457\n"
     ]
    }
   ],
   "source": [
    "from sklearn.tree import DecisionTreeClassifier\n",
    "\n",
    "# Initialize and train the decision tree classifier\n",
    "clf = DecisionTreeClassifier()\n",
    "clf.fit(X_train,y_train)\n",
    "\n",
    "# Predict on the test set\n",
    "predictions = clf.predict(X_ttest)\n",
    "\n",
    "# Evaluate accuracy\n",
    "accuracy = accuracy_score(y_ttest, predictions)\n",
    "print(\"Accuracy:\", accuracy)"
   ]
  },
  {
   "cell_type": "code",
   "execution_count": 29,
   "id": "6d739d74",
   "metadata": {},
   "outputs": [
    {
     "name": "stdout",
     "output_type": "stream",
     "text": [
      "[[ 58   0   0   0]\n",
      " [  0  54   0   0]\n",
      " [  0   0  51   0]\n",
      " [  1   0   0 545]]\n"
     ]
    },
    {
     "data": {
      "image/png": "[encoded data removed]",
      "text/plain": [
       "<Figure size 640x480 with 2 Axes>"
      ]
     },
     "metadata": {},
     "output_type": "display_data"
    }
   ],
   "source": [
    "from sklearn import metrics\n",
    "\n",
    "confusion_matrix = metrics.confusion_matrix(y_ttest, predictions)\n",
    "print(confusion_matrix)\n",
    "# Plot confusion matrix using seaborn\n",
    "sns.heatmap(confusion_matrix, annot=True, fmt='d', cmap='Blues', xticklabels=['Class 0', 'Class 1', 'Class 2','Class 3'], yticklabels=['Class 0', 'Class 1', 'Class 2','Class 3'])\n",
    "plt.xlabel('Predicted')\n",
    "plt.ylabel('Actual')\n",
    "plt.title('Confusion Matrix')\n",
    "plt.show()"
   ]
  },
  {
   "cell_type": "code",
   "execution_count": null,
   "id": "ffcdfc1b",
   "metadata": {},
   "outputs": [],
   "source": []
  },
  {
   "cell_type": "code",
   "execution_count": null,
   "id": "d9e5c18e",
   "metadata": {},
   "outputs": [],
   "source": []
  },
  {
   "cell_type": "markdown",
   "id": "824657b5",
   "metadata": {},
   "source": [
    "### Model 3- KNN Classifier"
   ]
  },
  {
   "cell_type": "code",
   "execution_count": 31,
   "id": "57b091ee",
   "metadata": {},
   "outputs": [
    {
     "data": {
      "text/html": [
       "<style>#sk-container-id-2 {color: black;background-color: white;}#sk-container-id-2 pre{padding: 0;}#sk-container-id-2 div.sk-toggleable {background-color: white;}#sk-container-id-2 label.sk-toggleable__label {cursor: pointer;display: block;width: 100%;margin-bottom: 0;padding: 0.3em;box-sizing: border-box;text-align: center;}#sk-container-id-2 label.sk-toggleable__label-arrow:before {content: \"▸\";float: left;margin-right: 0.25em;color: #696969;}#sk-container-id-2 label.sk-toggleable__label-arrow:hover:before {color: black;}#sk-container-id-2 div.sk-estimator:hover label.sk-toggleable__label-arrow:before {color: black;}#sk-container-id-2 div.sk-toggleable__content {max-height: 0;max-width: 0;overflow: hidden;text-align: left;background-color: #f0f8ff;}#sk-container-id-2 div.sk-toggleable__content pre {margin: 0.2em;color: black;border-radius: 0.25em;background-color: #f0f8ff;}#sk-container-id-2 input.sk-toggleable__control:checked~div.sk-toggleable__content {max-height: 200px;max-width: 100%;overflow: auto;}#sk-container-id-2 input.sk-toggleable__control:checked~label.sk-toggleable__label-arrow:before {content: \"▾\";}#sk-container-id-2 div.sk-estimator input.sk-toggleable__control:checked~label.sk-toggleable__label {background-color: #d4ebff;}#sk-container-id-2 div.sk-label input.sk-toggleable__control:checked~label.sk-toggleable__label {background-color: #d4ebff;}#sk-container-id-2 input.sk-hidden--visually {border: 0;clip: rect(1px 1px 1px 1px);clip: rect(1px, 1px, 1px, 1px);height: 1px;margin: -1px;overflow: hidden;padding: 0;position: absolute;width: 1px;}#sk-container-id-2 div.sk-estimator {font-family: monospace;background-color: #f0f8ff;border: 1px dotted black;border-radius: 0.25em;box-sizing: border-box;margin-bottom: 0.5em;}#sk-container-id-2 div.sk-estimator:hover {background-color: #d4ebff;}#sk-container-id-2 div.sk-parallel-item::after {content: \"\";width: 100%;border-bottom: 1px solid gray;flex-grow: 1;}#sk-container-id-2 div.sk-label:hover label.sk-toggleable__label {background-color: #d4ebff;}#sk-container-id-2 div.sk-serial::before {content: \"\";position: absolute;border-left: 1px solid gray;box-sizing: border-box;top: 0;bottom: 0;left: 50%;z-index: 0;}#sk-container-id-2 div.sk-serial {display: flex;flex-direction: column;align-items: center;background-color: white;padding-right: 0.2em;padding-left: 0.2em;position: relative;}#sk-container-id-2 div.sk-item {position: relative;z-index: 1;}#sk-container-id-2 div.sk-parallel {display: flex;align-items: stretch;justify-content: center;background-color: white;position: relative;}#sk-container-id-2 div.sk-item::before, #sk-container-id-2 div.sk-parallel-item::before {content: \"\";position: absolute;border-left: 1px solid gray;box-sizing: border-box;top: 0;bottom: 0;left: 50%;z-index: -1;}#sk-container-id-2 div.sk-parallel-item {display: flex;flex-direction: column;z-index: 1;position: relative;background-color: white;}#sk-container-id-2 div.sk-parallel-item:first-child::after {align-self: flex-end;width: 50%;}#sk-container-id-2 div.sk-parallel-item:last-child::after {align-self: flex-start;width: 50%;}#sk-container-id-2 div.sk-parallel-item:only-child::after {width: 0;}#sk-container-id-2 div.sk-dashed-wrapped {border: 1px dashed gray;margin: 0 0.4em 0.5em 0.4em;box-sizing: border-box;padding-bottom: 0.4em;background-color: white;}#sk-container-id-2 div.sk-label label {font-family: monospace;font-weight: bold;display: inline-block;line-height: 1.2em;}#sk-container-id-2 div.sk-label-container {text-align: center;}#sk-container-id-2 div.sk-container {/* jupyter's `normalize.less` sets `[hidden] { display: none; }` but bootstrap.min.css set `[hidden] { display: none !important; }` so we also need the `!important` here to be able to override the default hidden behavior on the sphinx rendered scikit-learn.org. See: https://github.com/scikit-learn/scikit-learn/issues/21755 */display: inline-block !important;position: relative;}#sk-container-id-2 div.sk-text-repr-fallback {display: none;}</style><div id=\"sk-container-id-2\" class=\"sk-top-container\"><div class=\"sk-text-repr-fallback\"><pre>KNeighborsClassifier()</pre><b>In a Jupyter environment, please rerun this cell to show the HTML representation or trust the notebook. <br />On GitHub, the HTML representation is unable to render, please try loading this page with nbviewer.org.</b></div><div class=\"sk-container\" hidden><div class=\"sk-item\"><div class=\"sk-estimator sk-toggleable\"><input class=\"sk-toggleable__control sk-hidden--visually\" id=\"sk-estimator-id-2\" type=\"checkbox\" checked><label for=\"sk-estimator-id-2\" class=\"sk-toggleable__label sk-toggleable__label-arrow\">KNeighborsClassifier</label><div class=\"sk-toggleable__content\"><pre>KNeighborsClassifier()</pre></div></div></div></div></div>"
      ],
      "text/plain": [
       "KNeighborsClassifier()"
      ]
     },
     "execution_count": 31,
     "metadata": {},
     "output_type": "execute_result"
    }
   ],
   "source": [
    "from sklearn.neighbors import KNeighborsClassifier\n",
    "\n",
    "# Create and train the KNN Classifier\n",
    "model = KNeighborsClassifier(n_neighbors=5)\n",
    "model.fit(X_train, y_train)"
   ]
  },
  {
   "cell_type": "code",
   "execution_count": 32,
   "id": "e33883bf",
   "metadata": {},
   "outputs": [
    {
     "name": "stdout",
     "output_type": "stream",
     "text": [
      "Training Accuracy: 1.0\n",
      "Training Confusion Matrix:\n",
      "[[ 170    0    0    0]\n",
      " [   0  181    0    0]\n",
      " [   0    0  151    0]\n",
      " [   0    0    0 2330]]\n"
     ]
    },
    {
     "data": {
      "image/png": "[encoded data removed]",
      "text/plain": [
       "<Figure size 640x480 with 2 Axes>"
      ]
     },
     "metadata": {},
     "output_type": "display_data"
    }
   ],
   "source": [
    "from sklearn.metrics import confusion_matrix\n",
    "import seaborn as sns\n",
    "import matplotlib.pyplot as plt\n",
    "from sklearn.neighbors import KNeighborsClassifier\n",
    "from sklearn.metrics import accuracy_score\n",
    "\n",
    "# Predictions on training data\n",
    "train_predictions = model.predict(X_train)\n",
    "\n",
    "# Calculate accuracy on training data\n",
    "train_accuracy = accuracy_score(y_train, train_predictions)\n",
    "print(\"Training Accuracy:\", train_accuracy)\n",
    "\n",
    "# Confusion matrix for training data\n",
    "train_conf_matrix = confusion_matrix(y_train, train_predictions)\n",
    "\n",
    "# Print confusion matrix for training data\n",
    "print(\"Training Confusion Matrix:\")\n",
    "print(train_conf_matrix)\n",
    "\n",
    "# Plot confusion matrix using seaborn\n",
    "sns.heatmap(train_conf_matrix, annot=True, fmt='d', cmap='Blues', xticklabels=['Class 0', 'Class 1', 'Class 2','Class 3'], yticklabels=['Class 0', 'Class 1', 'Class 2','Class 3'])\n",
    "plt.xlabel('Predicted')\n",
    "plt.ylabel('Actual')\n",
    "plt.title('Training Confusion Matrix')\n",
    "plt.show()"
   ]
  },
  {
   "cell_type": "code",
   "execution_count": null,
   "id": "15767210",
   "metadata": {},
   "outputs": [],
   "source": []
  },
  {
   "cell_type": "code",
   "execution_count": 33,
   "id": "287370a0",
   "metadata": {},
   "outputs": [
    {
     "name": "stdout",
     "output_type": "stream",
     "text": [
      "Accuracy: 0.998589562764457\n"
     ]
    }
   ],
   "source": [
    "predictions = model.predict(X_ttest)\n",
    "#actual_labels = test_data['target']\n",
    "\n",
    "from sklearn.metrics import accuracy_score\n",
    "accuracy = accuracy_score(y_ttest, predictions)\n",
    "print(\"Accuracy:\", accuracy)"
   ]
  },
  {
   "cell_type": "code",
   "execution_count": 34,
   "id": "74ea7558",
   "metadata": {},
   "outputs": [
    {
     "name": "stdout",
     "output_type": "stream",
     "text": [
      "Testing Confusion Matrix:\n",
      "[[ 58   0   0   0]\n",
      " [  0  54   0   0]\n",
      " [  0   0  51   0]\n",
      " [  1   0   0 545]]\n"
     ]
    },
    {
     "data": {
      "image/png": "[encoded data removed]",
      "text/plain": [
       "<Figure size 640x480 with 2 Axes>"
      ]
     },
     "metadata": {},
     "output_type": "display_data"
    }
   ],
   "source": [
    "from sklearn import metrics\n",
    "\n",
    "confusion_matrix = metrics.confusion_matrix(y_ttest, predictions)\n",
    "\n",
    "# Print confusion matrix for training data\n",
    "print(\"Testing Confusion Matrix:\")\n",
    "print(confusion_matrix)\n",
    "\n",
    "# Plot confusion matrix using seaborn\n",
    "sns.heatmap(confusion_matrix, annot=True, fmt='d', cmap='Blues', xticklabels=['Class 0', 'Class 1', 'Class 2','Class 3'], yticklabels=['Class 0', 'Class 1', 'Class 2','Class 3'])\n",
    "plt.xlabel('Predicted')\n",
    "plt.ylabel('Actual')\n",
    "plt.title('Confusion Matrix')\n",
    "plt.show()"
   ]
  },
  {
   "cell_type": "code",
   "execution_count": 35,
   "id": "fcbe50c3",
   "metadata": {},
   "outputs": [
    {
     "name": "stdout",
     "output_type": "stream",
     "text": [
      "Classification Report:\n",
      "               precision    recall  f1-score   support\n",
      "\n",
      "         0.0       0.98      1.00      0.99        58\n",
      "         1.0       1.00      1.00      1.00        54\n",
      "         2.0       1.00      1.00      1.00        51\n",
      "         3.0       1.00      1.00      1.00       546\n",
      "\n",
      "    accuracy                           1.00       709\n",
      "   macro avg       1.00      1.00      1.00       709\n",
      "weighted avg       1.00      1.00      1.00       709\n",
      "\n"
     ]
    }
   ],
   "source": [
    "from sklearn.metrics import classification_report\n",
    "\n",
    "# Assuming you have already trained your model and obtained predictions\n",
    "predictions = model.predict(X_ttest)\n",
    "\n",
    "# Generate a classification report\n",
    "report = classification_report(y_ttest, predictions)\n",
    "\n",
    "# Print the classification report\n",
    "print(\"Classification Report:\\n\", report)"
   ]
  },
  {
   "cell_type": "markdown",
   "id": "2eb016d6",
   "metadata": {},
   "source": [
    "### Model 4 - Multinomial Naive Bayes:"
   ]
  },
  {
   "cell_type": "code",
   "execution_count": 222,
   "id": "360a4433",
   "metadata": {},
   "outputs": [],
   "source": [
    "# from sklearn.naive_bayes import MultinomialNB\n",
    "\n",
    "# # Create and train the Multinomial Naive Bayes Classifier\n",
    "# model = MultinomialNB()\n",
    "# model.fit(X, Y)\n",
    "\n",
    "# predictions = model.predict(X_test)\n",
    "# actual_labels = test_data['target']\n",
    "\n",
    "# from sklearn.metrics import accuracy_score\n",
    "# accuracy = accuracy_score(actual_labels, predictions)\n",
    "# print(\"Accuracy:\", accuracy)"
   ]
  },
  {
   "cell_type": "code",
   "execution_count": null,
   "id": "93506a95",
   "metadata": {},
   "outputs": [],
   "source": []
  },
  {
   "cell_type": "code",
   "execution_count": 223,
   "id": "13c4f519",
   "metadata": {},
   "outputs": [],
   "source": [
    "### Model 5 - "
   ]
  },
  {
   "cell_type": "code",
   "execution_count": 37,
   "id": "7d616fcb",
   "metadata": {},
   "outputs": [
    {
     "name": "stdout",
     "output_type": "stream",
     "text": [
      "Accuracy: 0.998589562764457\n"
     ]
    }
   ],
   "source": [
    "from sklearn.ensemble import GradientBoostingClassifier\n",
    "\n",
    "# Create and train the Gradient Boosting Classifier\n",
    "model = GradientBoostingClassifier(n_estimators=100, learning_rate=1.0, max_depth=1, random_state=42)\n",
    "model.fit(X_train, y_train)\n",
    "\n",
    "\n",
    "predictions = model.predict(X_ttest)\n",
    "#actual_labels = test_data['target']\n",
    "\n",
    "from sklearn.metrics import accuracy_score\n",
    "accuracy = accuracy_score(y_ttest, predictions)\n",
    "print(\"Accuracy:\", accuracy)"
   ]
  },
  {
   "cell_type": "code",
   "execution_count": 38,
   "id": "cf6a1884",
   "metadata": {},
   "outputs": [
    {
     "data": {
      "image/png": "[encoded data removed]",
      "text/plain": [
       "<Figure size 640x480 with 2 Axes>"
      ]
     },
     "metadata": {},
     "output_type": "display_data"
    }
   ],
   "source": [
    "from sklearn import metrics\n",
    "\n",
    "confusion_matrix = metrics.confusion_matrix(y_ttest, predictions)\n",
    "\n",
    "# Plot confusion matrix using seaborn\n",
    "sns.heatmap(confusion_matrix, annot=True, fmt='d', cmap='Blues', xticklabels=['Class 0', 'Class 1', 'Class 2','Class 3'], yticklabels=['Class 0', 'Class 1', 'Class 2','Class 3'])\n",
    "plt.xlabel('Predicted')\n",
    "plt.ylabel('Actual')\n",
    "plt.title('Confusion Matrix')\n",
    "plt.show()"
   ]
  },
  {
   "cell_type": "code",
   "execution_count": null,
   "id": "51a79b60",
   "metadata": {},
   "outputs": [],
   "source": []
  },
  {
   "cell_type": "code",
   "execution_count": null,
   "id": "90b0e2ac",
   "metadata": {},
   "outputs": [],
   "source": [
    "## Testing the augmentation - Image dataset"
   ]
  },
  {
   "cell_type": "code",
   "execution_count": 4,
   "id": "c7b00cc9",
   "metadata": {},
   "outputs": [
    {
     "name": "stdout",
     "output_type": "stream",
     "text": [
      "Total JPG images: 0\n",
      "Total PNG images: 0\n",
      "Total images in the folder: 0\n"
     ]
    }
   ],
   "source": [
    "from tensorflow.keras.preprocessing.image import ImageDataGenerator\n",
    "import os\n",
    "import numpy as np\n",
    "import cv2\n",
    "\n",
    "# Path to your dataset (original images)\n",
    "original_dataset_path = \"C:\\\\Users\\\\AISHWARYA UBALE\\\\Downloads\\\\archive (6)\\\\DATASET\\\\TRAIN_GODDESS_TREE\" # enter dataset path\n",
    "\n",
    "import glob\n",
    "\n",
    "# Path to the directory containing images\n",
    "folder_path = original_dataset_path\n",
    "\n",
    "# Define the patterns for JPG and PNG image files\n",
    "jpg_pattern = folder_path + '/*.jpg'\n",
    "png_pattern = folder_path + '/*.png'\n",
    "\n",
    "# Count the number of JPG and PNG image files\n",
    "jpg_count = len(glob.glob(jpg_pattern))\n",
    "png_count = len(glob.glob(png_pattern))\n",
    "\n",
    "total_images = jpg_count + png_count\n",
    "\n",
    "print(f\"Total JPG images: {jpg_count}\")\n",
    "print(f\"Total PNG images: {png_count}\")\n",
    "print(f\"Total images in the folder: {total_images}\")\n",
    "\n",
    "\n",
    "\n",
    "\n"
   ]
  },
  {
   "cell_type": "code",
   "execution_count": 6,
   "id": "e78b37d8",
   "metadata": {},
   "outputs": [],
   "source": [
    "from PIL import ImageFile\n",
    "ImageFile.LOAD_TRUNCATED_IMAGES = True"
   ]
  },
  {
   "cell_type": "code",
   "execution_count": 7,
   "id": "d3f47c2a",
   "metadata": {},
   "outputs": [
    {
     "name": "stdout",
     "output_type": "stream",
     "text": [
      "Found 150 images belonging to 1 classes.\n",
      "Generated 0 augmented images\n",
      "Generated 10 augmented images\n",
      "Generated 20 augmented images\n",
      "Generated 30 augmented images\n",
      "Generated 40 augmented images\n",
      "Generated 50 augmented images\n",
      "Generated 60 augmented images\n",
      "Generated 70 augmented images\n",
      "Generated 80 augmented images\n",
      "Generated 90 augmented images\n"
     ]
    }
   ],
   "source": [
    "# Path to save augmented images\n",
    "augmented_images_path = 'C:\\\\Users\\\\AISHWARYA UBALE\\\\Downloads\\\\train_tree_AUGMENTED'\n",
    "\n",
    "# Create a directory to save augmented images if it doesn't exist\n",
    "os.makedirs(augmented_images_path, exist_ok=True)\n",
    "\n",
    "# Define augmentation parameters\n",
    "datagen = ImageDataGenerator(\n",
    "    rotation_range=20,\n",
    "    width_shift_range=0.1,\n",
    "    height_shift_range=0.1,\n",
    "    horizontal_flip=True,\n",
    "    brightness_range=[0.8, 1.2],\n",
    "    zoom_range=0.1,\n",
    "    fill_mode='nearest'\n",
    ")\n",
    "\n",
    "# Create a flow from directory generator to read images from original dataset\n",
    "# Adjust batch_size, target_size, and class_mode based on your dataset\n",
    "image_generator = datagen.flow_from_directory(\n",
    "    original_dataset_path,\n",
    "    target_size=(224, 224),  # Adjust the target size of your images\n",
    "    batch_size=32,\n",
    "    class_mode='categorical',\n",
    "    save_to_dir=augmented_images_path,  # Directory to save augmented images\n",
    "    save_prefix='augmented',  # Prefix for saved images\n",
    "    save_format='jpg'  # Save images in JPG format\n",
    ")\n",
    "\n",
    "# Specify the number of images you want to generate\n",
    "num_augmented_images = 100  # Change this based on your requirement\n",
    "\n",
    "# Generate augmented images and save them\n",
    "for i in range(num_augmented_images):\n",
    "    batch = image_generator.next()  # Generates a batch of augmented images\n",
    "    if i % 10 == 0:\n",
    "        print(f\"Generated {i} augmented images\")"
   ]
  },
  {
   "cell_type": "code",
   "execution_count": null,
   "id": "9a40da57",
   "metadata": {},
   "outputs": [],
   "source": []
  },
  {
   "cell_type": "markdown",
   "id": "7ff8c4ed",
   "metadata": {},
   "source": [
    "### Ignore the following"
   ]
  },
  {
   "cell_type": "code",
   "execution_count": 98,
   "id": "f0eff0a1",
   "metadata": {},
   "outputs": [
    {
     "data": {
      "text/plain": [
       "(966, 132)"
      ]
     },
     "execution_count": 98,
     "metadata": {},
     "output_type": "execute_result"
    }
   ],
   "source": [
    "X.shape"
   ]
  },
  {
   "cell_type": "code",
   "execution_count": 99,
   "id": "0ff0ca0b",
   "metadata": {},
   "outputs": [],
   "source": [
    "results = pose.process(imgRGB)"
   ]
  },
  {
   "cell_type": "code",
   "execution_count": 100,
   "id": "22a794d3",
   "metadata": {},
   "outputs": [],
   "source": [
    "#imgRGB"
   ]
  },
  {
   "cell_type": "code",
   "execution_count": 101,
   "id": "2705c241",
   "metadata": {},
   "outputs": [],
   "source": [
    "#results.pose_landmarks"
   ]
  },
  {
   "cell_type": "code",
   "execution_count": 109,
   "id": "2473f691",
   "metadata": {},
   "outputs": [],
   "source": [
    "test_data = pd.read_csv(\"testing_dataset3_with target_allposses.csv\")"
   ]
  },
  {
   "cell_type": "code",
   "execution_count": 110,
   "id": "a5f5d547",
   "metadata": {},
   "outputs": [
    {
     "data": {
      "text/html": [
       "<div>\n",
       "<style scoped>\n",
       "    .dataframe tbody tr th:only-of-type {\n",
       "        vertical-align: middle;\n",
       "    }\n",
       "\n",
       "    .dataframe tbody tr th {\n",
       "        vertical-align: top;\n",
       "    }\n",
       "\n",
       "    .dataframe thead th {\n",
       "        text-align: right;\n",
       "    }\n",
       "</style>\n",
       "<table border=\"1\" class=\"dataframe\">\n",
       "  <thead>\n",
       "    <tr style=\"text-align: right;\">\n",
       "      <th></th>\n",
       "      <th>Unnamed: 0</th>\n",
       "      <th>NOSE_x</th>\n",
       "      <th>NOSE_y</th>\n",
       "      <th>NOSE_z</th>\n",
       "      <th>NOSE_vis</th>\n",
       "      <th>LEFT_EYE_INNER_x</th>\n",
       "      <th>LEFT_EYE_INNER_y</th>\n",
       "      <th>LEFT_EYE_INNER_z</th>\n",
       "      <th>LEFT_EYE_INNER_vis</th>\n",
       "      <th>LEFT_EYE_x</th>\n",
       "      <th>...</th>\n",
       "      <th>RIGHT_HEEL_vis</th>\n",
       "      <th>LEFT_FOOT_INDEX_x</th>\n",
       "      <th>LEFT_FOOT_INDEX_y</th>\n",
       "      <th>LEFT_FOOT_INDEX_z</th>\n",
       "      <th>LEFT_FOOT_INDEX_vis</th>\n",
       "      <th>RIGHT_FOOT_INDEX_x</th>\n",
       "      <th>RIGHT_FOOT_INDEX_y</th>\n",
       "      <th>RIGHT_FOOT_INDEX_z</th>\n",
       "      <th>RIGHT_FOOT_INDEX_vis</th>\n",
       "      <th>target</th>\n",
       "    </tr>\n",
       "  </thead>\n",
       "  <tbody>\n",
       "    <tr>\n",
       "      <th>0</th>\n",
       "      <td>1045</td>\n",
       "      <td>0.441700</td>\n",
       "      <td>0.694201</td>\n",
       "      <td>-0.096439</td>\n",
       "      <td>0.997566</td>\n",
       "      <td>0.416444</td>\n",
       "      <td>0.695569</td>\n",
       "      <td>-0.137276</td>\n",
       "      <td>0.998209</td>\n",
       "      <td>0.413817</td>\n",
       "      <td>...</td>\n",
       "      <td>0.413311</td>\n",
       "      <td>0.825927</td>\n",
       "      <td>0.860303</td>\n",
       "      <td>-0.317801</td>\n",
       "      <td>0.972257</td>\n",
       "      <td>0.809430</td>\n",
       "      <td>0.840739</td>\n",
       "      <td>0.287854</td>\n",
       "      <td>0.439358</td>\n",
       "      <td>4.0</td>\n",
       "    </tr>\n",
       "    <tr>\n",
       "      <th>1</th>\n",
       "      <td>1046</td>\n",
       "      <td>0.378846</td>\n",
       "      <td>0.717390</td>\n",
       "      <td>-0.020918</td>\n",
       "      <td>0.997744</td>\n",
       "      <td>0.360062</td>\n",
       "      <td>0.707027</td>\n",
       "      <td>-0.065380</td>\n",
       "      <td>0.998329</td>\n",
       "      <td>0.359729</td>\n",
       "      <td>...</td>\n",
       "      <td>0.420324</td>\n",
       "      <td>0.794249</td>\n",
       "      <td>0.955767</td>\n",
       "      <td>-0.372992</td>\n",
       "      <td>0.972202</td>\n",
       "      <td>0.776637</td>\n",
       "      <td>0.924903</td>\n",
       "      <td>0.338004</td>\n",
       "      <td>0.441726</td>\n",
       "      <td>4.0</td>\n",
       "    </tr>\n",
       "    <tr>\n",
       "      <th>2</th>\n",
       "      <td>1047</td>\n",
       "      <td>0.394866</td>\n",
       "      <td>0.642226</td>\n",
       "      <td>-0.021269</td>\n",
       "      <td>0.997950</td>\n",
       "      <td>0.369800</td>\n",
       "      <td>0.646245</td>\n",
       "      <td>-0.055329</td>\n",
       "      <td>0.998481</td>\n",
       "      <td>0.367126</td>\n",
       "      <td>...</td>\n",
       "      <td>0.418572</td>\n",
       "      <td>0.806704</td>\n",
       "      <td>0.843974</td>\n",
       "      <td>-0.208756</td>\n",
       "      <td>0.972188</td>\n",
       "      <td>0.801038</td>\n",
       "      <td>0.827370</td>\n",
       "      <td>0.289733</td>\n",
       "      <td>0.449103</td>\n",
       "      <td>4.0</td>\n",
       "    </tr>\n",
       "    <tr>\n",
       "      <th>3</th>\n",
       "      <td>1048</td>\n",
       "      <td>0.569671</td>\n",
       "      <td>0.566876</td>\n",
       "      <td>-0.119233</td>\n",
       "      <td>0.998152</td>\n",
       "      <td>0.560455</td>\n",
       "      <td>0.588558</td>\n",
       "      <td>-0.165436</td>\n",
       "      <td>0.998632</td>\n",
       "      <td>0.558476</td>\n",
       "      <td>...</td>\n",
       "      <td>0.428230</td>\n",
       "      <td>0.848695</td>\n",
       "      <td>0.741254</td>\n",
       "      <td>0.262044</td>\n",
       "      <td>0.970567</td>\n",
       "      <td>0.812981</td>\n",
       "      <td>0.713256</td>\n",
       "      <td>0.615784</td>\n",
       "      <td>0.471292</td>\n",
       "      <td>4.0</td>\n",
       "    </tr>\n",
       "    <tr>\n",
       "      <th>4</th>\n",
       "      <td>1049</td>\n",
       "      <td>0.507775</td>\n",
       "      <td>0.584656</td>\n",
       "      <td>-0.417670</td>\n",
       "      <td>0.996134</td>\n",
       "      <td>0.205885</td>\n",
       "      <td>0.584777</td>\n",
       "      <td>-0.424889</td>\n",
       "      <td>0.997142</td>\n",
       "      <td>0.257835</td>\n",
       "      <td>...</td>\n",
       "      <td>0.473842</td>\n",
       "      <td>0.566466</td>\n",
       "      <td>0.735029</td>\n",
       "      <td>0.309761</td>\n",
       "      <td>0.950016</td>\n",
       "      <td>0.161110</td>\n",
       "      <td>0.789532</td>\n",
       "      <td>-0.315338</td>\n",
       "      <td>0.512743</td>\n",
       "      <td>4.0</td>\n",
       "    </tr>\n",
       "  </tbody>\n",
       "</table>\n",
       "<p>5 rows × 134 columns</p>\n",
       "</div>"
      ],
      "text/plain": [
       "   Unnamed: 0    NOSE_x    NOSE_y    NOSE_z  NOSE_vis  LEFT_EYE_INNER_x  \\\n",
       "0        1045  0.441700  0.694201 -0.096439  0.997566          0.416444   \n",
       "1        1046  0.378846  0.717390 -0.020918  0.997744          0.360062   \n",
       "2        1047  0.394866  0.642226 -0.021269  0.997950          0.369800   \n",
       "3        1048  0.569671  0.566876 -0.119233  0.998152          0.560455   \n",
       "4        1049  0.507775  0.584656 -0.417670  0.996134          0.205885   \n",
       "\n",
       "   LEFT_EYE_INNER_y  LEFT_EYE_INNER_z  LEFT_EYE_INNER_vis  LEFT_EYE_x  ...  \\\n",
       "0          0.695569         -0.137276            0.998209    0.413817  ...   \n",
       "1          0.707027         -0.065380            0.998329    0.359729  ...   \n",
       "2          0.646245         -0.055329            0.998481    0.367126  ...   \n",
       "3          0.588558         -0.165436            0.998632    0.558476  ...   \n",
       "4          0.584777         -0.424889            0.997142    0.257835  ...   \n",
       "\n",
       "   RIGHT_HEEL_vis  LEFT_FOOT_INDEX_x  LEFT_FOOT_INDEX_y  LEFT_FOOT_INDEX_z  \\\n",
       "0        0.413311           0.825927           0.860303          -0.317801   \n",
       "1        0.420324           0.794249           0.955767          -0.372992   \n",
       "2        0.418572           0.806704           0.843974          -0.208756   \n",
       "3        0.428230           0.848695           0.741254           0.262044   \n",
       "4        0.473842           0.566466           0.735029           0.309761   \n",
       "\n",
       "   LEFT_FOOT_INDEX_vis  RIGHT_FOOT_INDEX_x  RIGHT_FOOT_INDEX_y  \\\n",
       "0             0.972257            0.809430            0.840739   \n",
       "1             0.972202            0.776637            0.924903   \n",
       "2             0.972188            0.801038            0.827370   \n",
       "3             0.970567            0.812981            0.713256   \n",
       "4             0.950016            0.161110            0.789532   \n",
       "\n",
       "   RIGHT_FOOT_INDEX_z  RIGHT_FOOT_INDEX_vis  target  \n",
       "0            0.287854              0.439358     4.0  \n",
       "1            0.338004              0.441726     4.0  \n",
       "2            0.289733              0.449103     4.0  \n",
       "3            0.615784              0.471292     4.0  \n",
       "4           -0.315338              0.512743     4.0  \n",
       "\n",
       "[5 rows x 134 columns]"
      ]
     },
     "execution_count": 110,
     "metadata": {},
     "output_type": "execute_result"
    }
   ],
   "source": [
    "test_data.head(5)"
   ]
  },
  {
   "cell_type": "code",
   "execution_count": 112,
   "id": "06d32cd5",
   "metadata": {},
   "outputs": [
    {
     "ename": "AttributeError",
     "evalue": "'str' object has no attribute 'x'",
     "output_type": "error",
     "traceback": [
      "\u001b[1;31m---------------------------------------------------------------------------\u001b[0m",
      "\u001b[1;31mAttributeError\u001b[0m                            Traceback (most recent call last)",
      "Cell \u001b[1;32mIn[112], line 4\u001b[0m\n\u001b[0;32m      1\u001b[0m temp \u001b[38;5;241m=\u001b[39m []\n\u001b[0;32m      3\u001b[0m \u001b[38;5;28;01mfor\u001b[39;00m i,j \u001b[38;5;129;01min\u001b[39;00m \u001b[38;5;28mzip\u001b[39m(points,test_data):\n\u001b[1;32m----> 4\u001b[0m     temp \u001b[38;5;241m=\u001b[39m temp \u001b[38;5;241m+\u001b[39m [\u001b[43mj\u001b[49m\u001b[38;5;241;43m.\u001b[39;49m\u001b[43mx\u001b[49m, j\u001b[38;5;241m.\u001b[39my, j\u001b[38;5;241m.\u001b[39mz, j\u001b[38;5;241m.\u001b[39mvisibility]\n\u001b[0;32m      5\u001b[0m     \u001b[38;5;28mprint\u001b[39m(temp)\n\u001b[0;32m      6\u001b[0m     \u001b[38;5;28;01mbreak\u001b[39;00m\n",
      "\u001b[1;31mAttributeError\u001b[0m: 'str' object has no attribute 'x'"
     ]
    }
   ],
   "source": [
    "\n",
    "temp = []\n",
    "\n",
    "for i,j in zip(points,test_data):\n",
    "    temp = temp + [j.x, j.y, j.z, j.visibility]\n",
    "    print(temp)\n",
    "    break"
   ]
  },
  {
   "cell_type": "code",
   "execution_count": 75,
   "id": "bc2bf3c9",
   "metadata": {
    "scrolled": true
   },
   "outputs": [
    {
     "name": "stdout",
     "output_type": "stream",
     "text": [
      "[1.]\n",
      "ooo\n"
     ]
    },
    {
     "name": "stderr",
     "output_type": "stream",
     "text": [
      "C:\\Users\\AISHWARYA UBALE\\anaconda3\\lib\\site-packages\\sklearn\\base.py:420: UserWarning: X does not have valid feature names, but SVC was fitted with feature names\n",
      "  warnings.warn(\n"
     ]
    }
   ],
   "source": [
    "\n",
    "y = model.predict([temp])\n",
    "print(y)\n",
    "if y == 0:\n",
    "    asan = \"goddess\"\n",
    "else:\n",
    "    asan = \"ooo\"\n",
    "    print(asan)\n"
   ]
  },
  {
   "cell_type": "code",
   "execution_count": null,
   "id": "48782dbc",
   "metadata": {},
   "outputs": [],
   "source": []
  },
  {
   "cell_type": "code",
   "execution_count": 72,
   "id": "f1a75caf",
   "metadata": {},
   "outputs": [
    {
     "name": "stderr",
     "output_type": "stream",
     "text": [
      "C:\\Users\\AISHWARYA UBALE\\anaconda3\\lib\\site-packages\\sklearn\\base.py:420: UserWarning: X does not have valid feature names, but SVC was fitted with feature names\n",
      "  warnings.warn(\n",
      "C:\\Users\\AISHWARYA UBALE\\anaconda3\\lib\\site-packages\\sklearn\\base.py:420: UserWarning: X does not have valid feature names, but SVC was fitted with feature names\n",
      "  warnings.warn(\n",
      "C:\\Users\\AISHWARYA UBALE\\anaconda3\\lib\\site-packages\\sklearn\\base.py:420: UserWarning: X does not have valid feature names, but SVC was fitted with feature names\n",
      "  warnings.warn(\n"
     ]
    },
    {
     "name": "stdout",
     "output_type": "stream",
     "text": [
      "[1.]\n",
      "ooo\n",
      "[1.]\n",
      "ooo\n",
      "[1.]\n",
      "ooo\n"
     ]
    },
    {
     "name": "stderr",
     "output_type": "stream",
     "text": [
      "C:\\Users\\AISHWARYA UBALE\\anaconda3\\lib\\site-packages\\sklearn\\base.py:420: UserWarning: X does not have valid feature names, but SVC was fitted with feature names\n",
      "  warnings.warn(\n",
      "C:\\Users\\AISHWARYA UBALE\\anaconda3\\lib\\site-packages\\sklearn\\base.py:420: UserWarning: X does not have valid feature names, but SVC was fitted with feature names\n",
      "  warnings.warn(\n",
      "C:\\Users\\AISHWARYA UBALE\\anaconda3\\lib\\site-packages\\sklearn\\base.py:420: UserWarning: X does not have valid feature names, but SVC was fitted with feature names\n",
      "  warnings.warn(\n"
     ]
    },
    {
     "name": "stdout",
     "output_type": "stream",
     "text": [
      "[1.]\n",
      "ooo\n",
      "[1.]\n",
      "ooo\n",
      "[1.]\n",
      "ooo\n"
     ]
    },
    {
     "name": "stderr",
     "output_type": "stream",
     "text": [
      "C:\\Users\\AISHWARYA UBALE\\anaconda3\\lib\\site-packages\\sklearn\\base.py:420: UserWarning: X does not have valid feature names, but SVC was fitted with feature names\n",
      "  warnings.warn(\n",
      "C:\\Users\\AISHWARYA UBALE\\anaconda3\\lib\\site-packages\\sklearn\\base.py:420: UserWarning: X does not have valid feature names, but SVC was fitted with feature names\n",
      "  warnings.warn(\n"
     ]
    },
    {
     "name": "stdout",
     "output_type": "stream",
     "text": [
      "[1.]\n",
      "ooo\n",
      "[1.]\n",
      "ooo\n"
     ]
    },
    {
     "name": "stderr",
     "output_type": "stream",
     "text": [
      "C:\\Users\\AISHWARYA UBALE\\anaconda3\\lib\\site-packages\\sklearn\\base.py:420: UserWarning: X does not have valid feature names, but SVC was fitted with feature names\n",
      "  warnings.warn(\n",
      "C:\\Users\\AISHWARYA UBALE\\anaconda3\\lib\\site-packages\\sklearn\\base.py:420: UserWarning: X does not have valid feature names, but SVC was fitted with feature names\n",
      "  warnings.warn(\n",
      "C:\\Users\\AISHWARYA UBALE\\anaconda3\\lib\\site-packages\\sklearn\\base.py:420: UserWarning: X does not have valid feature names, but SVC was fitted with feature names\n",
      "  warnings.warn(\n",
      "C:\\Users\\AISHWARYA UBALE\\anaconda3\\lib\\site-packages\\sklearn\\base.py:420: UserWarning: X does not have valid feature names, but SVC was fitted with feature names\n",
      "  warnings.warn(\n"
     ]
    },
    {
     "name": "stdout",
     "output_type": "stream",
     "text": [
      "[1.]\n",
      "ooo\n",
      "[1.]\n",
      "ooo\n",
      "[1.]\n",
      "ooo\n",
      "[1.]\n",
      "ooo\n"
     ]
    },
    {
     "name": "stderr",
     "output_type": "stream",
     "text": [
      "C:\\Users\\AISHWARYA UBALE\\anaconda3\\lib\\site-packages\\sklearn\\base.py:420: UserWarning: X does not have valid feature names, but SVC was fitted with feature names\n",
      "  warnings.warn(\n",
      "C:\\Users\\AISHWARYA UBALE\\anaconda3\\lib\\site-packages\\sklearn\\base.py:420: UserWarning: X does not have valid feature names, but SVC was fitted with feature names\n",
      "  warnings.warn(\n",
      "C:\\Users\\AISHWARYA UBALE\\anaconda3\\lib\\site-packages\\sklearn\\base.py:420: UserWarning: X does not have valid feature names, but SVC was fitted with feature names\n",
      "  warnings.warn(\n"
     ]
    },
    {
     "name": "stdout",
     "output_type": "stream",
     "text": [
      "[1.]\n",
      "ooo\n",
      "[1.]\n",
      "ooo\n",
      "[1.]\n",
      "ooo\n"
     ]
    },
    {
     "name": "stderr",
     "output_type": "stream",
     "text": [
      "C:\\Users\\AISHWARYA UBALE\\anaconda3\\lib\\site-packages\\sklearn\\base.py:420: UserWarning: X does not have valid feature names, but SVC was fitted with feature names\n",
      "  warnings.warn(\n",
      "C:\\Users\\AISHWARYA UBALE\\anaconda3\\lib\\site-packages\\sklearn\\base.py:420: UserWarning: X does not have valid feature names, but SVC was fitted with feature names\n",
      "  warnings.warn(\n"
     ]
    },
    {
     "name": "stdout",
     "output_type": "stream",
     "text": [
      "[1.]\n",
      "ooo\n",
      "[1.]\n",
      "ooo\n"
     ]
    },
    {
     "name": "stderr",
     "output_type": "stream",
     "text": [
      "C:\\Users\\AISHWARYA UBALE\\anaconda3\\lib\\site-packages\\sklearn\\base.py:420: UserWarning: X does not have valid feature names, but SVC was fitted with feature names\n",
      "  warnings.warn(\n",
      "C:\\Users\\AISHWARYA UBALE\\anaconda3\\lib\\site-packages\\sklearn\\base.py:420: UserWarning: X does not have valid feature names, but SVC was fitted with feature names\n",
      "  warnings.warn(\n",
      "C:\\Users\\AISHWARYA UBALE\\anaconda3\\lib\\site-packages\\sklearn\\base.py:420: UserWarning: X does not have valid feature names, but SVC was fitted with feature names\n",
      "  warnings.warn(\n"
     ]
    },
    {
     "name": "stdout",
     "output_type": "stream",
     "text": [
      "[1.]\n",
      "ooo\n",
      "[1.]\n",
      "ooo\n",
      "[1.]\n",
      "ooo\n"
     ]
    },
    {
     "name": "stderr",
     "output_type": "stream",
     "text": [
      "C:\\Users\\AISHWARYA UBALE\\anaconda3\\lib\\site-packages\\sklearn\\base.py:420: UserWarning: X does not have valid feature names, but SVC was fitted with feature names\n",
      "  warnings.warn(\n"
     ]
    },
    {
     "name": "stdout",
     "output_type": "stream",
     "text": [
      "[1.]\n",
      "ooo\n"
     ]
    },
    {
     "name": "stderr",
     "output_type": "stream",
     "text": [
      "C:\\Users\\AISHWARYA UBALE\\anaconda3\\lib\\site-packages\\sklearn\\base.py:420: UserWarning: X does not have valid feature names, but SVC was fitted with feature names\n",
      "  warnings.warn(\n",
      "C:\\Users\\AISHWARYA UBALE\\anaconda3\\lib\\site-packages\\sklearn\\base.py:420: UserWarning: X does not have valid feature names, but SVC was fitted with feature names\n",
      "  warnings.warn(\n",
      "C:\\Users\\AISHWARYA UBALE\\anaconda3\\lib\\site-packages\\sklearn\\base.py:420: UserWarning: X does not have valid feature names, but SVC was fitted with feature names\n",
      "  warnings.warn(\n",
      "C:\\Users\\AISHWARYA UBALE\\anaconda3\\lib\\site-packages\\sklearn\\base.py:420: UserWarning: X does not have valid feature names, but SVC was fitted with feature names\n",
      "  warnings.warn(\n"
     ]
    },
    {
     "name": "stdout",
     "output_type": "stream",
     "text": [
      "[1.]\n",
      "ooo\n",
      "[1.]\n",
      "ooo\n",
      "[1.]\n",
      "ooo\n",
      "[1.]\n",
      "ooo\n"
     ]
    },
    {
     "name": "stderr",
     "output_type": "stream",
     "text": [
      "C:\\Users\\AISHWARYA UBALE\\anaconda3\\lib\\site-packages\\sklearn\\base.py:420: UserWarning: X does not have valid feature names, but SVC was fitted with feature names\n",
      "  warnings.warn(\n",
      "C:\\Users\\AISHWARYA UBALE\\anaconda3\\lib\\site-packages\\sklearn\\base.py:420: UserWarning: X does not have valid feature names, but SVC was fitted with feature names\n",
      "  warnings.warn(\n"
     ]
    },
    {
     "name": "stdout",
     "output_type": "stream",
     "text": [
      "[1.]\n",
      "ooo\n",
      "[1.]\n",
      "ooo\n"
     ]
    },
    {
     "name": "stderr",
     "output_type": "stream",
     "text": [
      "C:\\Users\\AISHWARYA UBALE\\anaconda3\\lib\\site-packages\\sklearn\\base.py:420: UserWarning: X does not have valid feature names, but SVC was fitted with feature names\n",
      "  warnings.warn(\n",
      "C:\\Users\\AISHWARYA UBALE\\anaconda3\\lib\\site-packages\\sklearn\\base.py:420: UserWarning: X does not have valid feature names, but SVC was fitted with feature names\n",
      "  warnings.warn(\n",
      "C:\\Users\\AISHWARYA UBALE\\anaconda3\\lib\\site-packages\\sklearn\\base.py:420: UserWarning: X does not have valid feature names, but SVC was fitted with feature names\n",
      "  warnings.warn(\n",
      "C:\\Users\\AISHWARYA UBALE\\anaconda3\\lib\\site-packages\\sklearn\\base.py:420: UserWarning: X does not have valid feature names, but SVC was fitted with feature names\n",
      "  warnings.warn(\n"
     ]
    },
    {
     "name": "stdout",
     "output_type": "stream",
     "text": [
      "[1.]\n",
      "ooo\n",
      "[1.]\n",
      "ooo\n",
      "[1.]\n",
      "ooo\n",
      "[1.]\n",
      "ooo\n"
     ]
    },
    {
     "name": "stderr",
     "output_type": "stream",
     "text": [
      "C:\\Users\\AISHWARYA UBALE\\anaconda3\\lib\\site-packages\\sklearn\\base.py:420: UserWarning: X does not have valid feature names, but SVC was fitted with feature names\n",
      "  warnings.warn(\n",
      "C:\\Users\\AISHWARYA UBALE\\anaconda3\\lib\\site-packages\\sklearn\\base.py:420: UserWarning: X does not have valid feature names, but SVC was fitted with feature names\n",
      "  warnings.warn(\n",
      "C:\\Users\\AISHWARYA UBALE\\anaconda3\\lib\\site-packages\\sklearn\\base.py:420: UserWarning: X does not have valid feature names, but SVC was fitted with feature names\n",
      "  warnings.warn(\n"
     ]
    },
    {
     "name": "stdout",
     "output_type": "stream",
     "text": [
      "[1.]\n",
      "ooo\n",
      "[1.]\n",
      "ooo\n",
      "[1.]\n",
      "ooo\n"
     ]
    },
    {
     "name": "stderr",
     "output_type": "stream",
     "text": [
      "C:\\Users\\AISHWARYA UBALE\\anaconda3\\lib\\site-packages\\sklearn\\base.py:420: UserWarning: X does not have valid feature names, but SVC was fitted with feature names\n",
      "  warnings.warn(\n",
      "C:\\Users\\AISHWARYA UBALE\\anaconda3\\lib\\site-packages\\sklearn\\base.py:420: UserWarning: X does not have valid feature names, but SVC was fitted with feature names\n",
      "  warnings.warn(\n"
     ]
    },
    {
     "name": "stdout",
     "output_type": "stream",
     "text": [
      "[1.]\n",
      "ooo\n",
      "[1.]\n",
      "ooo\n"
     ]
    },
    {
     "name": "stderr",
     "output_type": "stream",
     "text": [
      "C:\\Users\\AISHWARYA UBALE\\anaconda3\\lib\\site-packages\\sklearn\\base.py:420: UserWarning: X does not have valid feature names, but SVC was fitted with feature names\n",
      "  warnings.warn(\n",
      "C:\\Users\\AISHWARYA UBALE\\anaconda3\\lib\\site-packages\\sklearn\\base.py:420: UserWarning: X does not have valid feature names, but SVC was fitted with feature names\n",
      "  warnings.warn(\n",
      "C:\\Users\\AISHWARYA UBALE\\anaconda3\\lib\\site-packages\\sklearn\\base.py:420: UserWarning: X does not have valid feature names, but SVC was fitted with feature names\n",
      "  warnings.warn(\n"
     ]
    },
    {
     "name": "stdout",
     "output_type": "stream",
     "text": [
      "[1.]\n",
      "ooo\n",
      "[1.]\n",
      "ooo\n",
      "[1.]\n",
      "ooo\n"
     ]
    },
    {
     "name": "stderr",
     "output_type": "stream",
     "text": [
      "C:\\Users\\AISHWARYA UBALE\\anaconda3\\lib\\site-packages\\sklearn\\base.py:420: UserWarning: X does not have valid feature names, but SVC was fitted with feature names\n",
      "  warnings.warn(\n",
      "C:\\Users\\AISHWARYA UBALE\\anaconda3\\lib\\site-packages\\sklearn\\base.py:420: UserWarning: X does not have valid feature names, but SVC was fitted with feature names\n",
      "  warnings.warn(\n",
      "C:\\Users\\AISHWARYA UBALE\\anaconda3\\lib\\site-packages\\sklearn\\base.py:420: UserWarning: X does not have valid feature names, but SVC was fitted with feature names\n",
      "  warnings.warn(\n"
     ]
    },
    {
     "name": "stdout",
     "output_type": "stream",
     "text": [
      "[1.]\n",
      "ooo\n",
      "[1.]\n",
      "ooo\n",
      "[1.]\n",
      "ooo\n"
     ]
    },
    {
     "name": "stderr",
     "output_type": "stream",
     "text": [
      "C:\\Users\\AISHWARYA UBALE\\anaconda3\\lib\\site-packages\\sklearn\\base.py:420: UserWarning: X does not have valid feature names, but SVC was fitted with feature names\n",
      "  warnings.warn(\n",
      "C:\\Users\\AISHWARYA UBALE\\anaconda3\\lib\\site-packages\\sklearn\\base.py:420: UserWarning: X does not have valid feature names, but SVC was fitted with feature names\n",
      "  warnings.warn(\n",
      "C:\\Users\\AISHWARYA UBALE\\anaconda3\\lib\\site-packages\\sklearn\\base.py:420: UserWarning: X does not have valid feature names, but SVC was fitted with feature names\n",
      "  warnings.warn(\n"
     ]
    },
    {
     "name": "stdout",
     "output_type": "stream",
     "text": [
      "[1.]\n",
      "ooo\n",
      "[1.]\n",
      "ooo\n",
      "[1.]\n",
      "ooo\n"
     ]
    },
    {
     "name": "stderr",
     "output_type": "stream",
     "text": [
      "C:\\Users\\AISHWARYA UBALE\\anaconda3\\lib\\site-packages\\sklearn\\base.py:420: UserWarning: X does not have valid feature names, but SVC was fitted with feature names\n",
      "  warnings.warn(\n",
      "C:\\Users\\AISHWARYA UBALE\\anaconda3\\lib\\site-packages\\sklearn\\base.py:420: UserWarning: X does not have valid feature names, but SVC was fitted with feature names\n",
      "  warnings.warn(\n"
     ]
    },
    {
     "name": "stdout",
     "output_type": "stream",
     "text": [
      "[1.]\n",
      "ooo\n",
      "[1.]\n",
      "ooo\n"
     ]
    },
    {
     "name": "stderr",
     "output_type": "stream",
     "text": [
      "C:\\Users\\AISHWARYA UBALE\\anaconda3\\lib\\site-packages\\sklearn\\base.py:420: UserWarning: X does not have valid feature names, but SVC was fitted with feature names\n",
      "  warnings.warn(\n",
      "C:\\Users\\AISHWARYA UBALE\\anaconda3\\lib\\site-packages\\sklearn\\base.py:420: UserWarning: X does not have valid feature names, but SVC was fitted with feature names\n",
      "  warnings.warn(\n",
      "C:\\Users\\AISHWARYA UBALE\\anaconda3\\lib\\site-packages\\sklearn\\base.py:420: UserWarning: X does not have valid feature names, but SVC was fitted with feature names\n",
      "  warnings.warn(\n"
     ]
    },
    {
     "name": "stdout",
     "output_type": "stream",
     "text": [
      "[1.]\n",
      "ooo\n",
      "[1.]\n",
      "ooo\n",
      "[1.]\n",
      "ooo\n"
     ]
    },
    {
     "name": "stderr",
     "output_type": "stream",
     "text": [
      "C:\\Users\\AISHWARYA UBALE\\anaconda3\\lib\\site-packages\\sklearn\\base.py:420: UserWarning: X does not have valid feature names, but SVC was fitted with feature names\n",
      "  warnings.warn(\n"
     ]
    },
    {
     "name": "stdout",
     "output_type": "stream",
     "text": [
      "[1.]\n",
      "ooo\n"
     ]
    },
    {
     "name": "stderr",
     "output_type": "stream",
     "text": [
      "C:\\Users\\AISHWARYA UBALE\\anaconda3\\lib\\site-packages\\sklearn\\base.py:420: UserWarning: X does not have valid feature names, but SVC was fitted with feature names\n",
      "  warnings.warn(\n",
      "C:\\Users\\AISHWARYA UBALE\\anaconda3\\lib\\site-packages\\sklearn\\base.py:420: UserWarning: X does not have valid feature names, but SVC was fitted with feature names\n",
      "  warnings.warn(\n",
      "C:\\Users\\AISHWARYA UBALE\\anaconda3\\lib\\site-packages\\sklearn\\base.py:420: UserWarning: X does not have valid feature names, but SVC was fitted with feature names\n",
      "  warnings.warn(\n",
      "C:\\Users\\AISHWARYA UBALE\\anaconda3\\lib\\site-packages\\sklearn\\base.py:420: UserWarning: X does not have valid feature names, but SVC was fitted with feature names\n",
      "  warnings.warn(\n"
     ]
    },
    {
     "name": "stdout",
     "output_type": "stream",
     "text": [
      "[1.]\n",
      "ooo\n",
      "[1.]\n",
      "ooo\n",
      "[1.]\n",
      "ooo\n",
      "[1.]\n",
      "ooo\n"
     ]
    },
    {
     "name": "stderr",
     "output_type": "stream",
     "text": [
      "C:\\Users\\AISHWARYA UBALE\\anaconda3\\lib\\site-packages\\sklearn\\base.py:420: UserWarning: X does not have valid feature names, but SVC was fitted with feature names\n",
      "  warnings.warn(\n",
      "C:\\Users\\AISHWARYA UBALE\\anaconda3\\lib\\site-packages\\sklearn\\base.py:420: UserWarning: X does not have valid feature names, but SVC was fitted with feature names\n",
      "  warnings.warn(\n",
      "C:\\Users\\AISHWARYA UBALE\\anaconda3\\lib\\site-packages\\sklearn\\base.py:420: UserWarning: X does not have valid feature names, but SVC was fitted with feature names\n",
      "  warnings.warn(\n",
      "C:\\Users\\AISHWARYA UBALE\\anaconda3\\lib\\site-packages\\sklearn\\base.py:420: UserWarning: X does not have valid feature names, but SVC was fitted with feature names\n",
      "  warnings.warn(\n"
     ]
    },
    {
     "name": "stdout",
     "output_type": "stream",
     "text": [
      "[1.]\n",
      "ooo\n",
      "[1.]\n",
      "ooo\n",
      "[1.]\n",
      "ooo\n",
      "[1.]\n",
      "ooo\n"
     ]
    },
    {
     "name": "stderr",
     "output_type": "stream",
     "text": [
      "C:\\Users\\AISHWARYA UBALE\\anaconda3\\lib\\site-packages\\sklearn\\base.py:420: UserWarning: X does not have valid feature names, but SVC was fitted with feature names\n",
      "  warnings.warn(\n",
      "C:\\Users\\AISHWARYA UBALE\\anaconda3\\lib\\site-packages\\sklearn\\base.py:420: UserWarning: X does not have valid feature names, but SVC was fitted with feature names\n",
      "  warnings.warn(\n",
      "C:\\Users\\AISHWARYA UBALE\\anaconda3\\lib\\site-packages\\sklearn\\base.py:420: UserWarning: X does not have valid feature names, but SVC was fitted with feature names\n",
      "  warnings.warn(\n",
      "C:\\Users\\AISHWARYA UBALE\\anaconda3\\lib\\site-packages\\sklearn\\base.py:420: UserWarning: X does not have valid feature names, but SVC was fitted with feature names\n",
      "  warnings.warn(\n"
     ]
    },
    {
     "name": "stdout",
     "output_type": "stream",
     "text": [
      "[1.]\n",
      "ooo\n",
      "[1.]\n",
      "ooo\n",
      "[1.]\n",
      "ooo\n",
      "[1.]\n",
      "ooo\n"
     ]
    },
    {
     "name": "stderr",
     "output_type": "stream",
     "text": [
      "C:\\Users\\AISHWARYA UBALE\\anaconda3\\lib\\site-packages\\sklearn\\base.py:420: UserWarning: X does not have valid feature names, but SVC was fitted with feature names\n",
      "  warnings.warn(\n",
      "C:\\Users\\AISHWARYA UBALE\\anaconda3\\lib\\site-packages\\sklearn\\base.py:420: UserWarning: X does not have valid feature names, but SVC was fitted with feature names\n",
      "  warnings.warn(\n",
      "C:\\Users\\AISHWARYA UBALE\\anaconda3\\lib\\site-packages\\sklearn\\base.py:420: UserWarning: X does not have valid feature names, but SVC was fitted with feature names\n",
      "  warnings.warn(\n"
     ]
    },
    {
     "name": "stdout",
     "output_type": "stream",
     "text": [
      "[1.]\n",
      "ooo\n",
      "[1.]\n",
      "ooo\n",
      "[1.]\n",
      "ooo\n"
     ]
    },
    {
     "name": "stderr",
     "output_type": "stream",
     "text": [
      "C:\\Users\\AISHWARYA UBALE\\anaconda3\\lib\\site-packages\\sklearn\\base.py:420: UserWarning: X does not have valid feature names, but SVC was fitted with feature names\n",
      "  warnings.warn(\n",
      "C:\\Users\\AISHWARYA UBALE\\anaconda3\\lib\\site-packages\\sklearn\\base.py:420: UserWarning: X does not have valid feature names, but SVC was fitted with feature names\n",
      "  warnings.warn(\n"
     ]
    },
    {
     "name": "stdout",
     "output_type": "stream",
     "text": [
      "[1.]\n",
      "ooo\n",
      "[1.]\n",
      "ooo\n"
     ]
    },
    {
     "name": "stderr",
     "output_type": "stream",
     "text": [
      "C:\\Users\\AISHWARYA UBALE\\anaconda3\\lib\\site-packages\\sklearn\\base.py:420: UserWarning: X does not have valid feature names, but SVC was fitted with feature names\n",
      "  warnings.warn(\n",
      "C:\\Users\\AISHWARYA UBALE\\anaconda3\\lib\\site-packages\\sklearn\\base.py:420: UserWarning: X does not have valid feature names, but SVC was fitted with feature names\n",
      "  warnings.warn(\n"
     ]
    },
    {
     "name": "stdout",
     "output_type": "stream",
     "text": [
      "[1.]\n",
      "ooo\n",
      "[1.]\n",
      "ooo\n"
     ]
    },
    {
     "name": "stderr",
     "output_type": "stream",
     "text": [
      "C:\\Users\\AISHWARYA UBALE\\anaconda3\\lib\\site-packages\\sklearn\\base.py:420: UserWarning: X does not have valid feature names, but SVC was fitted with feature names\n",
      "  warnings.warn(\n",
      "C:\\Users\\AISHWARYA UBALE\\anaconda3\\lib\\site-packages\\sklearn\\base.py:420: UserWarning: X does not have valid feature names, but SVC was fitted with feature names\n",
      "  warnings.warn(\n",
      "C:\\Users\\AISHWARYA UBALE\\anaconda3\\lib\\site-packages\\sklearn\\base.py:420: UserWarning: X does not have valid feature names, but SVC was fitted with feature names\n",
      "  warnings.warn(\n"
     ]
    },
    {
     "name": "stdout",
     "output_type": "stream",
     "text": [
      "[1.]\n",
      "ooo\n",
      "[1.]\n",
      "ooo\n",
      "[1.]\n",
      "ooo\n",
      "[1.]\n",
      "ooo\n",
      "[1.]\n",
      "ooo\n",
      "[1.]\n",
      "ooo\n"
     ]
    },
    {
     "name": "stderr",
     "output_type": "stream",
     "text": [
      "C:\\Users\\AISHWARYA UBALE\\anaconda3\\lib\\site-packages\\sklearn\\base.py:420: UserWarning: X does not have valid feature names, but SVC was fitted with feature names\n",
      "  warnings.warn(\n",
      "C:\\Users\\AISHWARYA UBALE\\anaconda3\\lib\\site-packages\\sklearn\\base.py:420: UserWarning: X does not have valid feature names, but SVC was fitted with feature names\n",
      "  warnings.warn(\n",
      "C:\\Users\\AISHWARYA UBALE\\anaconda3\\lib\\site-packages\\sklearn\\base.py:420: UserWarning: X does not have valid feature names, but SVC was fitted with feature names\n",
      "  warnings.warn(\n"
     ]
    }
   ],
   "source": [
    "path = \"C:\\\\Users\\\\AISHWARYA UBALE\\\\Downloads\\\\archive (6)\\\\DATASET\\\\TEST\\\\goddess\"\n",
    "\n",
    "for img in os.listdir(path):\n",
    "\n",
    "        temp = []\n",
    "\n",
    "        img = cv2.imread(path + \"/\" + img)\n",
    "\n",
    "        imageWidth, imageHeight = img.shape[:2]\n",
    "\n",
    "        imgRGB = cv2.cvtColor(img, cv2.COLOR_BGR2RGB)\n",
    "\n",
    "        blackie = np.zeros(img.shape) # Blank image\n",
    "\n",
    "        results = pose.process(imgRGB)\n",
    "\n",
    "        if results.pose_landmarks:\n",
    "\n",
    "                landmarks = results.pose_landmarks.landmark\n",
    "\n",
    "                for i,j in zip(points,landmarks):\n",
    "\n",
    "                        temp = temp + [j.x, j.y, j.z, j.visibility]\n",
    "                \n",
    "                y = model.predict([temp])\n",
    "                print(y)\n",
    "                if y == 0:\n",
    "                    asan = \"goddess\"\n",
    "                else:\n",
    "                    asan = \"ooo\"\n",
    "\n",
    "                print(asan)"
   ]
  },
  {
   "cell_type": "code",
   "execution_count": null,
   "id": "3d40802b",
   "metadata": {},
   "outputs": [],
   "source": [
    "path = \"C:\\\\Users\\\\AISHWARYA UBALE\\\\Downloads\\\\archive (6)\\\\DATASET\\\\TEST\"\n",
    "\n",
    "counterfolder = 0;\n",
    "for imgfolder in os.listdir(path):\n",
    "    print(imgfolder)\n",
    "    imgpath = path + \"//\" + imgfolder\n",
    "    for img in os.listdir(imgpath):\n",
    "        \n",
    "        temp = []\n",
    "        #print(img)\n",
    "        img = cv2.imread(imgpath + \"/\" + img)\n",
    "        \n",
    "        imageWidth, imageHeight = img.shape[:2]\n",
    "\n",
    "        imgRGB = cv2.cvtColor(img, cv2.COLOR_BGR2RGB)\n",
    "\n",
    "        blackie = np.zeros(img.shape) # Blank image\n",
    "\n",
    "        results = pose.process(imgRGB)\n",
    "\n",
    "        if results.pose_landmarks:\n",
    "\n",
    "                # mpDraw.draw_landmarks(img, results.pose_landmarks, mpPose.POSE_CONNECTIONS) #draw landmarks on image\n",
    "\n",
    "                mpDraw.draw_landmarks(blackie, results.pose_landmarks, mpPose.POSE_CONNECTIONS) # draw landmarks on blackie\n",
    "\n",
    "                landmarks = results.pose_landmarks.landmark\n",
    "\n",
    "                #***#\n",
    "                \n",
    "                if results.pose_landmarks:\n",
    "\n",
    "                landmarks = results.pose_landmarks.landmark\n",
    "\n",
    "                for i,j in zip(points,landmarks):\n",
    "\n",
    "                        temp = temp + [j.x, j.y, j.z, j.visibility]\n",
    "                \n",
    "                y = model.predict([temp])\n",
    "                print(y)\n",
    "                if y == 0:\n",
    "                    asan = \"goddess\"\n",
    "                else:\n",
    "                    asan = \"ooo\"\n",
    "\n",
    "                print(asan)\n",
    "                \n",
    "                #**#\n",
    "                \n",
    "                for i,j in zip(points,landmarks):\n",
    "\n",
    "                        temp = temp + [j.x, j.y, j.z, j.visibility]\n",
    "                \n",
    "                #Assign target value (0 for the first pose, 1 for the rest)\n",
    "                if imgfolder == \"plank\":\n",
    "                    target = 0 \n",
    "                elif imgfolder == \"warrior2\":\n",
    "                    target = 1\n",
    "                elif imgfolder == \"tree\":\n",
    "                    target = 2 \n",
    "                elif imgfolder == \"goddess\":\n",
    "                    target = 3\n",
    "                elif imgfolder == \"downdog\":\n",
    "                    target = 4\n",
    "                \n",
    "                temp.append(target)\n",
    "                \n",
    "                data.loc[count] = temp\n",
    "\n",
    "                count +=1\n",
    "\n",
    "        #cv2.imshow(\"Image\", img)\n",
    "\n",
    "        #cv2.imshow(\"blackie\",blackie)\n",
    "\n",
    "        #cv2.waitKey(100)\n",
    "\n",
    "data.to_csv(\"testing_dataset3_with target_allposses.csv\") # save the data as a csv file"
   ]
  }
 ],
 "metadata": {
  "kernelspec": {
   "display_name": "Python 3 (ipykernel)",
   "language": "python",
   "name": "python3"
  },
  "language_info": {
   "codemirror_mode": {
    "name": "ipython",
    "version": 3
   },
   "file_extension": ".py",
   "mimetype": "text/x-python",
   "name": "python",
   "nbconvert_exporter": "python",
   "pygments_lexer": "ipython3",
   "version": "3.10.9"
  }
 },
 "nbformat": 4,
 "nbformat_minor": 5
}
