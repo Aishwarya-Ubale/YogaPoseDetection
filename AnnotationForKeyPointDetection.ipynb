{
 "cells": [
  {
   "cell_type": "code",
   "execution_count": 271,
   "id": "f9aeef80",
   "metadata": {},
   "outputs": [],
   "source": [
    "#!pip install mediapipe"
   ]
  },
  {
   "cell_type": "code",
   "execution_count": 289,
   "id": "69d7f1b4",
   "metadata": {},
   "outputs": [],
   "source": [
    "import mediapipe as mp\n",
    "import cv2\n",
    "import time\n",
    "import numpy as np\n",
    "import pandas as pd\n",
    "import os"
   ]
  },
  {
   "cell_type": "code",
   "execution_count": 290,
   "id": "eadc1a0a",
   "metadata": {},
   "outputs": [],
   "source": [
    "mpPose = mp.solutions.pose\n",
    "pose = mpPose.Pose()\n",
    "mpDraw = mp.solutions.drawing_utils # For drawing keypoints\n",
    "points = mpPose.PoseLandmark # Landmarks\n",
    "path = \"C:\\\\Users\\\\AISHWARYA UBALE\\\\Downloads\\\\archive (6)\\\\DATASET\\\\TRAIN\" # enter dataset path\n",
    "data = []\n",
    "for p in points:\n",
    "        x = str(p)[13:]\n",
    "        data.append(x + \"_x\")\n",
    "        data.append(x + \"_y\")\n",
    "        data.append(x + \"_z\")\n",
    "        data.append(x + \"_vis\")\n",
    "\n",
    "data.append(\"target\")\n",
    "data = pd.DataFrame(columns = data) # Empty dataset"
   ]
  },
  {
   "cell_type": "code",
   "execution_count": 291,
   "id": "fc0ae837",
   "metadata": {},
   "outputs": [
    {
     "name": "stdout",
     "output_type": "stream",
     "text": [
      "NOSE\n",
      "LEFT_EYE_INNER\n",
      "LEFT_EYE\n",
      "LEFT_EYE_OUTER\n",
      "RIGHT_EYE_INNER\n",
      "RIGHT_EYE\n",
      "RIGHT_EYE_OUTER\n",
      "LEFT_EAR\n",
      "RIGHT_EAR\n",
      "MOUTH_LEFT\n",
      "MOUTH_RIGHT\n",
      "LEFT_SHOULDER\n",
      "RIGHT_SHOULDER\n",
      "LEFT_ELBOW\n",
      "RIGHT_ELBOW\n",
      "LEFT_WRIST\n",
      "RIGHT_WRIST\n",
      "LEFT_PINKY\n",
      "RIGHT_PINKY\n",
      "LEFT_INDEX\n",
      "RIGHT_INDEX\n",
      "LEFT_THUMB\n",
      "RIGHT_THUMB\n",
      "LEFT_HIP\n",
      "RIGHT_HIP\n",
      "LEFT_KNEE\n",
      "RIGHT_KNEE\n",
      "LEFT_ANKLE\n",
      "RIGHT_ANKLE\n",
      "LEFT_HEEL\n",
      "RIGHT_HEEL\n",
      "LEFT_FOOT_INDEX\n",
      "RIGHT_FOOT_INDEX\n"
     ]
    },
    {
     "data": {
      "text/plain": [
       "33"
      ]
     },
     "execution_count": 291,
     "metadata": {},
     "output_type": "execute_result"
    }
   ],
   "source": [
    "import mediapipe as mp\n",
    "\n",
    "# Assume mpPose.PoseLandmark is the enum variable\n",
    "points = mp.solutions.pose.PoseLandmark\n",
    "\n",
    "# Print the names of the landmarks\n",
    "for landmark in points:\n",
    "    print(landmark.name)\n",
    "\n",
    "\n",
    "    \n",
    "len(points)"
   ]
  },
  {
   "cell_type": "code",
   "execution_count": 292,
   "id": "b2d7106a",
   "metadata": {},
   "outputs": [
    {
     "data": {
      "text/plain": [
       "pandas.core.frame.DataFrame"
      ]
     },
     "execution_count": 292,
     "metadata": {},
     "output_type": "execute_result"
    }
   ],
   "source": [
    "type(data)"
   ]
  },
  {
   "cell_type": "code",
   "execution_count": 293,
   "id": "458c756b",
   "metadata": {},
   "outputs": [
    {
     "data": {
      "text/html": [
       "<div>\n",
       "<style scoped>\n",
       "    .dataframe tbody tr th:only-of-type {\n",
       "        vertical-align: middle;\n",
       "    }\n",
       "\n",
       "    .dataframe tbody tr th {\n",
       "        vertical-align: top;\n",
       "    }\n",
       "\n",
       "    .dataframe thead th {\n",
       "        text-align: right;\n",
       "    }\n",
       "</style>\n",
       "<table border=\"1\" class=\"dataframe\">\n",
       "  <thead>\n",
       "    <tr style=\"text-align: right;\">\n",
       "      <th></th>\n",
       "      <th>NOSE_x</th>\n",
       "      <th>NOSE_y</th>\n",
       "      <th>NOSE_z</th>\n",
       "      <th>NOSE_vis</th>\n",
       "      <th>LEFT_EYE_INNER_x</th>\n",
       "      <th>LEFT_EYE_INNER_y</th>\n",
       "      <th>LEFT_EYE_INNER_z</th>\n",
       "      <th>LEFT_EYE_INNER_vis</th>\n",
       "      <th>LEFT_EYE_x</th>\n",
       "      <th>LEFT_EYE_y</th>\n",
       "      <th>...</th>\n",
       "      <th>RIGHT_HEEL_vis</th>\n",
       "      <th>LEFT_FOOT_INDEX_x</th>\n",
       "      <th>LEFT_FOOT_INDEX_y</th>\n",
       "      <th>LEFT_FOOT_INDEX_z</th>\n",
       "      <th>LEFT_FOOT_INDEX_vis</th>\n",
       "      <th>RIGHT_FOOT_INDEX_x</th>\n",
       "      <th>RIGHT_FOOT_INDEX_y</th>\n",
       "      <th>RIGHT_FOOT_INDEX_z</th>\n",
       "      <th>RIGHT_FOOT_INDEX_vis</th>\n",
       "      <th>target</th>\n",
       "    </tr>\n",
       "  </thead>\n",
       "  <tbody>\n",
       "  </tbody>\n",
       "</table>\n",
       "<p>0 rows × 133 columns</p>\n",
       "</div>"
      ],
      "text/plain": [
       "Empty DataFrame\n",
       "Columns: [NOSE_x, NOSE_y, NOSE_z, NOSE_vis, LEFT_EYE_INNER_x, LEFT_EYE_INNER_y, LEFT_EYE_INNER_z, LEFT_EYE_INNER_vis, LEFT_EYE_x, LEFT_EYE_y, LEFT_EYE_z, LEFT_EYE_vis, LEFT_EYE_OUTER_x, LEFT_EYE_OUTER_y, LEFT_EYE_OUTER_z, LEFT_EYE_OUTER_vis, RIGHT_EYE_INNER_x, RIGHT_EYE_INNER_y, RIGHT_EYE_INNER_z, RIGHT_EYE_INNER_vis, RIGHT_EYE_x, RIGHT_EYE_y, RIGHT_EYE_z, RIGHT_EYE_vis, RIGHT_EYE_OUTER_x, RIGHT_EYE_OUTER_y, RIGHT_EYE_OUTER_z, RIGHT_EYE_OUTER_vis, LEFT_EAR_x, LEFT_EAR_y, LEFT_EAR_z, LEFT_EAR_vis, RIGHT_EAR_x, RIGHT_EAR_y, RIGHT_EAR_z, RIGHT_EAR_vis, MOUTH_LEFT_x, MOUTH_LEFT_y, MOUTH_LEFT_z, MOUTH_LEFT_vis, MOUTH_RIGHT_x, MOUTH_RIGHT_y, MOUTH_RIGHT_z, MOUTH_RIGHT_vis, LEFT_SHOULDER_x, LEFT_SHOULDER_y, LEFT_SHOULDER_z, LEFT_SHOULDER_vis, RIGHT_SHOULDER_x, RIGHT_SHOULDER_y, RIGHT_SHOULDER_z, RIGHT_SHOULDER_vis, LEFT_ELBOW_x, LEFT_ELBOW_y, LEFT_ELBOW_z, LEFT_ELBOW_vis, RIGHT_ELBOW_x, RIGHT_ELBOW_y, RIGHT_ELBOW_z, RIGHT_ELBOW_vis, LEFT_WRIST_x, LEFT_WRIST_y, LEFT_WRIST_z, LEFT_WRIST_vis, RIGHT_WRIST_x, RIGHT_WRIST_y, RIGHT_WRIST_z, RIGHT_WRIST_vis, LEFT_PINKY_x, LEFT_PINKY_y, LEFT_PINKY_z, LEFT_PINKY_vis, RIGHT_PINKY_x, RIGHT_PINKY_y, RIGHT_PINKY_z, RIGHT_PINKY_vis, LEFT_INDEX_x, LEFT_INDEX_y, LEFT_INDEX_z, LEFT_INDEX_vis, RIGHT_INDEX_x, RIGHT_INDEX_y, RIGHT_INDEX_z, RIGHT_INDEX_vis, LEFT_THUMB_x, LEFT_THUMB_y, LEFT_THUMB_z, LEFT_THUMB_vis, RIGHT_THUMB_x, RIGHT_THUMB_y, RIGHT_THUMB_z, RIGHT_THUMB_vis, LEFT_HIP_x, LEFT_HIP_y, LEFT_HIP_z, LEFT_HIP_vis, RIGHT_HIP_x, RIGHT_HIP_y, RIGHT_HIP_z, RIGHT_HIP_vis, ...]\n",
       "Index: []\n",
       "\n",
       "[0 rows x 133 columns]"
      ]
     },
     "execution_count": 293,
     "metadata": {},
     "output_type": "execute_result"
    }
   ],
   "source": [
    "data.head()"
   ]
  },
  {
   "cell_type": "code",
   "execution_count": 294,
   "id": "31244d03",
   "metadata": {},
   "outputs": [],
   "source": [
    "#Original\n",
    "# count = 0\n",
    "\n",
    "# for img in os.listdir(path):\n",
    "\n",
    "#         temp = []\n",
    "\n",
    "#         img = cv2.imread(path + \"/\" + img)\n",
    "\n",
    "#         imageWidth, imageHeight = img.shape[:2]\n",
    "\n",
    "#         imgRGB = cv2.cvtColor(img, cv2.COLOR_BGR2RGB)\n",
    "\n",
    "#         blackie = np.zeros(img.shape) # Blank image\n",
    "\n",
    "#         results = pose.process(imgRGB)\n",
    "\n",
    "#         if results.pose_landmarks:\n",
    "\n",
    "#                 # mpDraw.draw_landmarks(img, results.pose_landmarks, mpPose.POSE_CONNECTIONS) #draw landmarks on image\n",
    "\n",
    "#                 mpDraw.draw_landmarks(blackie, results.pose_landmarks, mpPose.POSE_CONNECTIONS) # draw landmarks on blackie\n",
    "\n",
    "#                 landmarks = results.pose_landmarks.landmark\n",
    "\n",
    "#                 for i,j in zip(points,landmarks):\n",
    "\n",
    "#                         temp = temp + [j.x, j.y, j.z, j.visibility]\n",
    "                \n",
    "#                 #Assign target value (0 for the first pose, 1 for the rest)\n",
    "#                 if\n",
    "#                 target = 80 if count <= 20 else 1\n",
    "                \n",
    "#                 temp.append(target)\n",
    "                \n",
    "#                 data.loc[count] = temp\n",
    "\n",
    "#                 count +=1\n",
    "\n",
    "#         #cv2.imshow(\"Image\", img)\n",
    "\n",
    "#         #cv2.imshow(\"blackie\",blackie)\n",
    "\n",
    "#         #cv2.waitKey(100)\n",
    "\n",
    "# data.to_csv(\"dataset3_with target1.csv\") # save the data as a csv file"
   ]
  },
  {
   "cell_type": "code",
   "execution_count": 295,
   "id": "5fbfce6f",
   "metadata": {},
   "outputs": [
    {
     "name": "stdout",
     "output_type": "stream",
     "text": [
      "downdog\n",
      "C:\\Users\\AISHWARYA UBALE\\Downloads\\archive (6)\\DATASET\\TRAIN\\downdog\n",
      "plank\n",
      "C:\\Users\\AISHWARYA UBALE\\Downloads\\archive (6)\\DATASET\\TRAIN\\plank\n",
      "warrior2\n",
      "C:\\Users\\AISHWARYA UBALE\\Downloads\\archive (6)\\DATASET\\TRAIN\\warrior2\n"
     ]
    }
   ],
   "source": [
    "path = \"C:\\\\Users\\\\AISHWARYA UBALE\\\\Downloads\\\\archive (6)\\\\DATASET\\\\TRAIN\"\n",
    "\n",
    "#                 elif imgfolder == \"tree\":\n",
    "#                     target = 2 \n",
    "#                 elif imgfolder == \"goddess\":\n",
    "#                     target = 3\n",
    "count = 0\n",
    "counterfolder = 0;\n",
    "for imgfolder in os.listdir(path):\n",
    "    print(imgfolder)\n",
    "        \n",
    "    imgpath = path + \"\\\\\" + imgfolder\n",
    "    print(imgpath)\n",
    "    for img in os.listdir(imgpath):\n",
    "        \n",
    "        temp = []\n",
    "        #print(img)\n",
    "        img = cv2.imread(imgpath + \"\\\\\" + img)\n",
    "        imageWidth, imageHeight = img.shape[:2]\n",
    "\n",
    "        imgRGB = cv2.cvtColor(img, cv2.COLOR_BGR2RGB)\n",
    "\n",
    "        blackie = np.zeros(img.shape) # Blank image\n",
    "\n",
    "        results = pose.process(imgRGB)\n",
    "\n",
    "        if results.pose_landmarks:\n",
    "\n",
    "                # mpDraw.draw_landmarks(img, results.pose_landmarks, mpPose.POSE_CONNECTIONS) #draw landmarks on image\n",
    "\n",
    "                mpDraw.draw_landmarks(blackie, results.pose_landmarks, mpPose.POSE_CONNECTIONS) # draw landmarks on blackie\n",
    "\n",
    "                landmarks = results.pose_landmarks.landmark\n",
    "\n",
    "                for i,j in zip(points,landmarks):\n",
    "\n",
    "                        temp = temp + [j.x, j.y, j.z, j.visibility]\n",
    "                \n",
    "                #Assign target value (0 for the first pose, 1 for the rest)\n",
    "                if imgfolder == \"plank\":\n",
    "                    target = 0 \n",
    "                elif imgfolder == \"warrior2\":\n",
    "                    target = 1\n",
    "                elif imgfolder == \"downdog\":\n",
    "                    target = 2\n",
    "                    \n",
    "                temp.append(target)\n",
    "                \n",
    "                data.loc[count] = temp\n",
    "\n",
    "                count +=1\n",
    "\n",
    "        #cv2.imshow(\"Image\", img)\n",
    "\n",
    "        #cv2.imshow(\"blackie\",blackie)\n",
    "\n",
    "        #cv2.waitKey(100)\n",
    "\n",
    "data.to_csv(\"training_dataset_with target_all3posses.csv\") # save the data as a csv file"
   ]
  },
  {
   "cell_type": "code",
   "execution_count": 297,
   "id": "2da988c3",
   "metadata": {},
   "outputs": [
    {
     "name": "stdout",
     "output_type": "stream",
     "text": [
      "downdog\n",
      "plank\n",
      "warrior2\n"
     ]
    }
   ],
   "source": [
    "path = \"C:\\\\Users\\\\AISHWARYA UBALE\\\\Downloads\\\\archive (6)\\\\DATASET\\\\TEST\"\n",
    "\n",
    "count = 0\n",
    "data.drop(data.index, inplace=True)\n",
    "counterfolder = 0;\n",
    "for imgfolder in os.listdir(path):\n",
    "    print(imgfolder)\n",
    "    imgpath = path + \"//\" + imgfolder\n",
    "    for img in os.listdir(imgpath):\n",
    "        \n",
    "        temp = []\n",
    "        #print(img)\n",
    "        img = cv2.imread(imgpath + \"/\" + img)\n",
    "        \n",
    "        imageWidth, imageHeight = img.shape[:2]\n",
    "\n",
    "        imgRGB = cv2.cvtColor(img, cv2.COLOR_BGR2RGB)\n",
    "\n",
    "        blackie = np.zeros(img.shape) # Blank image\n",
    "\n",
    "        results = pose.process(imgRGB)\n",
    "\n",
    "        if results.pose_landmarks:\n",
    "\n",
    "                # mpDraw.draw_landmarks(img, results.pose_landmarks, mpPose.POSE_CONNECTIONS) #draw landmarks on image\n",
    "\n",
    "                mpDraw.draw_landmarks(blackie, results.pose_landmarks, mpPose.POSE_CONNECTIONS) # draw landmarks on blackie\n",
    "\n",
    "                landmarks = results.pose_landmarks.landmark\n",
    "\n",
    "                for i,j in zip(points,landmarks):\n",
    "\n",
    "                        temp = temp + [j.x, j.y, j.z, j.visibility]\n",
    "                \n",
    "                #Assign target value (0 for the first pose, 1 for the rest)\n",
    "                if imgfolder == \"plank\":\n",
    "                    target = 0 \n",
    "                elif imgfolder == \"warrior2\":\n",
    "                    target = 1\n",
    "#                 elif imgfolder == \"tree\":\n",
    "#                     target = 2 \n",
    "#                 elif imgfolder == \"goddess\":\n",
    "#                     target = 3\n",
    "                elif imgfolder == \"downdog\":\n",
    "                    target = 2\n",
    "                \n",
    "                temp.append(target)\n",
    "                \n",
    "                data.loc[count] = temp\n",
    "\n",
    "                count +=1\n",
    "\n",
    "        #cv2.imshow(\"Image\", img)\n",
    "\n",
    "        #cv2.imshow(\"blackie\",blackie)\n",
    "\n",
    "        #cv2.waitKey(100)\n",
    "\n",
    "data.to_csv(\"testing_dataset3_with target_allposses.csv\") # save the data as a csv file"
   ]
  },
  {
   "cell_type": "code",
   "execution_count": null,
   "id": "745a8367",
   "metadata": {},
   "outputs": [],
   "source": []
  },
  {
   "cell_type": "markdown",
   "id": "c975acc0",
   "metadata": {},
   "source": [
    "## Now trying to implement the machine learning models:"
   ]
  },
  {
   "cell_type": "code",
   "execution_count": 298,
   "id": "2af7e057",
   "metadata": {},
   "outputs": [
    {
     "name": "stdout",
     "output_type": "stream",
     "text": [
      "Class Distribution:\n",
      "1.0    237\n",
      "0.0    228\n",
      "2.0    202\n",
      "Name: target, dtype: int64\n"
     ]
    }
   ],
   "source": [
    "#Read the training dataset:\n",
    "\n",
    "from sklearn.svm import SVC\n",
    "data = pd.read_csv(\"training_dataset_with target_all3posses.csv\")\n",
    "X,Y = data.iloc[:,:132],data['target']\n",
    "\n",
    "class_counts = data['target'].value_counts()\n",
    "\n",
    "print(\"Class Distribution:\")\n",
    "print(class_counts)"
   ]
  },
  {
   "cell_type": "code",
   "execution_count": 299,
   "id": "49da7bbb",
   "metadata": {},
   "outputs": [
    {
     "data": {
      "image/png": "[encoded data removed]",
      "text/plain": [
       "<Figure size 640x480 with 2 Axes>"
      ]
     },
     "metadata": {},
     "output_type": "display_data"
    }
   ],
   "source": [
    "from sklearn import metrics\n",
    "import seaborn as sns\n",
    "import matplotlib.pyplot as plt\n",
    "\n",
    "confusion_matrix = metrics.confusion_matrix(Y, Y)\n",
    "\n",
    "# Plot confusion matrix using seaborn\n",
    "sns.heatmap(confusion_matrix, annot=True, fmt='d', cmap='Blues', xticklabels=['Class 0', 'Class 1', 'Class 2'], yticklabels=['Class 0', 'Class 1', 'Class 2'])\n",
    "plt.xlabel('Predicted')\n",
    "plt.ylabel('Actual')\n",
    "plt.title('Confusion Matrix')\n",
    "plt.show()"
   ]
  },
  {
   "cell_type": "code",
   "execution_count": 300,
   "id": "302ce70d",
   "metadata": {},
   "outputs": [],
   "source": [
    "#Read the test dataset\n",
    "\n",
    "test_data = pd.read_csv(\"testing_dataset3_with target_allposses.csv\")\n",
    "#X_test = test_data.iloc[:, :132]\n",
    "\n",
    "X_test,Y_test = test_data.iloc[:,:132],test_data['target']"
   ]
  },
  {
   "cell_type": "code",
   "execution_count": 301,
   "id": "496a2450",
   "metadata": {},
   "outputs": [
    {
     "name": "stdout",
     "output_type": "stream",
     "text": [
      "Class Distribution:\n",
      "0.0    104\n",
      "1.0    103\n",
      "2.0     86\n",
      "Name: target, dtype: int64\n"
     ]
    }
   ],
   "source": [
    "class_counts = test_data['target'].value_counts()\n",
    "\n",
    "print(\"Class Distribution:\")\n",
    "print(class_counts)"
   ]
  },
  {
   "cell_type": "code",
   "execution_count": null,
   "id": "f470d717",
   "metadata": {},
   "outputs": [],
   "source": []
  },
  {
   "cell_type": "code",
   "execution_count": 302,
   "id": "e6593a05",
   "metadata": {},
   "outputs": [
    {
     "name": "stdout",
     "output_type": "stream",
     "text": [
      "[[104   0   0]\n",
      " [  0 103   0]\n",
      " [  0   0  86]]\n"
     ]
    },
    {
     "data": {
      "image/png": "[encoded data removed]",
      "text/plain": [
       "<Figure size 640x480 with 2 Axes>"
      ]
     },
     "metadata": {},
     "output_type": "display_data"
    }
   ],
   "source": [
    "from sklearn import metrics\n",
    "\n",
    "confusion_matrix = metrics.confusion_matrix(Y_test, Y_test)\n",
    "print(confusion_matrix)\n",
    "# Plot confusion matrix using seaborn\n",
    "sns.heatmap(confusion_matrix, annot=True, fmt='d', cmap='Blues', xticklabels=['Class 0', 'Class 1', 'Class 2'], yticklabels=['Class 0', 'Class 1', 'Class 2'])\n",
    "plt.xlabel('Predicted')\n",
    "plt.ylabel('Actual')\n",
    "plt.title('Confusion Matrix')\n",
    "plt.show()\n"
   ]
  },
  {
   "cell_type": "code",
   "execution_count": 322,
   "id": "32ec93b6",
   "metadata": {},
   "outputs": [
    {
     "name": "stdout",
     "output_type": "stream",
     "text": [
      "Classification Report:\n",
      "               precision    recall  f1-score   support\n",
      "\n",
      "         0.0       0.00      0.00      0.00       104\n",
      "         1.0       0.00      0.00      0.00       103\n",
      "         2.0       0.43      1.00      0.60        86\n",
      "\n",
      "    accuracy                           0.29       293\n",
      "   macro avg       0.14      0.33      0.20       293\n",
      "weighted avg       0.12      0.29      0.18       293\n",
      "\n"
     ]
    },
    {
     "name": "stderr",
     "output_type": "stream",
     "text": [
      "C:\\Users\\AISHWARYA UBALE\\anaconda3\\lib\\site-packages\\sklearn\\metrics\\_classification.py:1344: UndefinedMetricWarning: Precision and F-score are ill-defined and being set to 0.0 in labels with no predicted samples. Use `zero_division` parameter to control this behavior.\n",
      "  _warn_prf(average, modifier, msg_start, len(result))\n",
      "C:\\Users\\AISHWARYA UBALE\\anaconda3\\lib\\site-packages\\sklearn\\metrics\\_classification.py:1344: UndefinedMetricWarning: Precision and F-score are ill-defined and being set to 0.0 in labels with no predicted samples. Use `zero_division` parameter to control this behavior.\n",
      "  _warn_prf(average, modifier, msg_start, len(result))\n",
      "C:\\Users\\AISHWARYA UBALE\\anaconda3\\lib\\site-packages\\sklearn\\metrics\\_classification.py:1344: UndefinedMetricWarning: Precision and F-score are ill-defined and being set to 0.0 in labels with no predicted samples. Use `zero_division` parameter to control this behavior.\n",
      "  _warn_prf(average, modifier, msg_start, len(result))\n"
     ]
    }
   ],
   "source": [
    "\n",
    "from sklearn.metrics import classification_report\n",
    "\n",
    "# Assuming you have already trained your model and obtained predictions\n",
    "predictions = model.predict(X_test)\n",
    "\n",
    "# Generate a classification report\n",
    "report = classification_report(Y_test, predictions)\n",
    "\n",
    "# Print the classification report\n",
    "print(\"Classification Report:\\n\", report)\n"
   ]
  },
  {
   "cell_type": "code",
   "execution_count": 214,
   "id": "731d2a90",
   "metadata": {},
   "outputs": [],
   "source": [
    "#Pose model extraction\n",
    "\n",
    "mpPose = mp.solutions.pose\n",
    "pose = mpPose.Pose()\n",
    "mpDraw = mp.solutions.drawing_utils"
   ]
  },
  {
   "cell_type": "markdown",
   "id": "a4be0ba0",
   "metadata": {},
   "source": [
    "### SVC Model"
   ]
  },
  {
   "cell_type": "code",
   "execution_count": 304,
   "id": "e9fe1dbe",
   "metadata": {},
   "outputs": [
    {
     "name": "stdout",
     "output_type": "stream",
     "text": [
      "Accuracy: 0.2935153583617747\n"
     ]
    }
   ],
   "source": [
    "\n",
    "model = SVC(kernel='poly', probability=True)\n",
    "model.fit(X,Y)\n",
    "predictions = model.predict(X_test)\n",
    "actual_labels = test_data['target']\n",
    "\n",
    "from sklearn.metrics import accuracy_score\n",
    "accuracy = accuracy_score(Y_test, predictions)\n",
    "print(\"Accuracy:\", accuracy)"
   ]
  },
  {
   "cell_type": "code",
   "execution_count": 305,
   "id": "3cc567d2",
   "metadata": {},
   "outputs": [
    {
     "name": "stdout",
     "output_type": "stream",
     "text": [
      "Prediction Probabilities:\n",
      "[[2.19032280e-03 3.86797201e-03 9.93941705e-01]\n",
      " [2.19032516e-03 3.86797242e-03 9.93941702e-01]\n",
      " [2.19033845e-03 3.86797497e-03 9.93941687e-01]\n",
      " [2.19037188e-03 3.86798173e-03 9.93941646e-01]\n",
      " [2.19043476e-03 3.86799481e-03 9.93941570e-01]\n",
      " [2.19053603e-03 3.86801595e-03 9.93941448e-01]\n",
      " [2.19068841e-03 3.86804752e-03 9.93941264e-01]\n",
      " [2.19089535e-03 3.86809099e-03 9.93941014e-01]\n",
      " [2.19117130e-03 3.86814828e-03 9.93940680e-01]\n",
      " [2.19152853e-03 3.86822306e-03 9.93940248e-01]\n",
      " [2.19196324e-03 3.86831469e-03 9.93939722e-01]\n",
      " [2.19249888e-03 3.86842722e-03 9.93939074e-01]\n",
      " [2.19313668e-03 3.86856254e-03 9.93938301e-01]\n",
      " [2.19389075e-03 3.86872328e-03 9.93937386e-01]\n",
      " [2.19478328e-03 3.86890842e-03 9.93936308e-01]\n",
      " [2.19578843e-03 3.86912408e-03 9.93935087e-01]\n",
      " [2.19694524e-03 3.86936873e-03 9.93933686e-01]\n",
      " [2.19825570e-03 3.86964550e-03 9.93932099e-01]\n",
      " [2.19972793e-03 3.86995751e-03 9.93930315e-01]\n",
      " [2.20137849e-03 3.87030218e-03 9.93928319e-01]\n",
      " [2.20321332e-03 3.87068850e-03 9.93926098e-01]\n",
      " [2.20522746e-03 3.87111966e-03 9.93923653e-01]\n",
      " [2.20747252e-03 3.87158554e-03 9.93920942e-01]\n",
      " [2.20987358e-03 3.87209936e-03 9.93918027e-01]\n",
      " [2.21252789e-03 3.87266035e-03 9.93914812e-01]\n",
      " [2.21549954e-03 3.87327116e-03 9.93911229e-01]\n",
      " [2.21857493e-03 3.87392655e-03 9.93907499e-01]\n",
      " [2.22196974e-03 3.87464902e-03 9.93903381e-01]\n",
      " [2.22562798e-03 3.87540426e-03 9.93898968e-01]\n",
      " [2.22948885e-03 3.87622489e-03 9.93894286e-01]\n",
      " [2.23378217e-03 3.87711851e-03 9.93889099e-01]\n",
      " [2.23827893e-03 3.87805543e-03 9.93883666e-01]\n",
      " [2.24302889e-03 3.87906115e-03 9.93877910e-01]\n",
      " [2.24822987e-03 3.88013852e-03 9.93871632e-01]\n",
      " [2.25368924e-03 3.88127136e-03 9.93865039e-01]\n",
      " [2.25963944e-03 3.88248136e-03 9.93857879e-01]\n",
      " [2.26567787e-03 3.88375840e-03 9.93850564e-01]\n",
      " [2.27231463e-03 3.88510922e-03 9.93842576e-01]\n",
      " [2.27925330e-03 3.88653976e-03 9.93834207e-01]\n",
      " [2.28661881e-03 3.88804305e-03 9.93825338e-01]\n",
      " [2.29436554e-03 3.88962585e-03 9.93816009e-01]\n",
      " [2.30245253e-03 3.89128543e-03 9.93806262e-01]\n",
      " [2.31112547e-03 3.89304109e-03 9.93795833e-01]\n",
      " [2.32011961e-03 3.89487143e-03 9.93785009e-01]\n",
      " [2.32964113e-03 3.89679847e-03 9.93773560e-01]\n",
      " [2.33965458e-03 3.89881514e-03 9.93761530e-01]\n",
      " [2.35021429e-03 3.90092282e-03 9.93748863e-01]\n",
      " [2.36113844e-03 3.90310718e-03 9.93735754e-01]\n",
      " [2.37299295e-03 3.90540866e-03 9.93721598e-01]\n",
      " [2.38481869e-03 3.90779937e-03 9.93707382e-01]\n",
      " [2.39754046e-03 3.91028668e-03 9.93692173e-01]\n",
      " [2.41068425e-03 3.91289592e-03 9.93676420e-01]\n",
      " [2.42487627e-03 3.91560450e-03 9.93659519e-01]\n",
      " [2.43922566e-03 3.91840499e-03 9.93642369e-01]\n",
      " [2.45416478e-03 3.92132245e-03 9.93624513e-01]\n",
      " [2.46998281e-03 3.92434188e-03 9.93605675e-01]\n",
      " [2.48662306e-03 3.92751025e-03 9.93585867e-01]\n",
      " [2.50393435e-03 3.93075889e-03 9.93565307e-01]\n",
      " [2.52190873e-03 3.93414251e-03 9.93543949e-01]\n",
      " [2.54036144e-03 3.93764591e-03 9.93521993e-01]\n",
      " [2.56010990e-03 3.94127073e-03 9.93498619e-01]\n",
      " [2.58005267e-03 3.94500350e-03 9.93474944e-01]\n",
      " [2.60171086e-03 3.94887131e-03 9.93449418e-01]\n",
      " [2.62409039e-03 3.95290327e-03 9.93423006e-01]\n",
      " [2.64726600e-03 3.95702945e-03 9.93395705e-01]\n",
      " [2.67069084e-03 3.96125719e-03 9.93368052e-01]\n",
      " [2.69546522e-03 3.96571083e-03 9.93338824e-01]\n",
      " [2.72208264e-03 3.97024196e-03 9.93307675e-01]\n",
      " [2.74861545e-03 3.97493636e-03 9.93276448e-01]\n",
      " [2.77673765e-03 3.97979413e-03 9.93243468e-01]\n",
      " [2.80597824e-03 3.98481885e-03 9.93209203e-01]\n",
      " [2.83612239e-03 3.98995003e-03 9.93173928e-01]\n",
      " [2.86770088e-03 3.99521476e-03 9.93137084e-01]\n",
      " [2.90086840e-03 4.00061962e-03 9.93098512e-01]\n",
      " [2.93447637e-03 4.00618267e-03 9.93059341e-01]\n",
      " [2.97052901e-03 4.01196996e-03 9.93017501e-01]\n",
      " [3.00744591e-03 4.01785028e-03 9.92974704e-01]\n",
      " [3.04554127e-03 4.02390452e-03 9.92930554e-01]\n",
      " [3.08575256e-03 4.03015820e-03 9.92884089e-01]\n",
      " [3.12719351e-03 4.03655221e-03 9.92836254e-01]\n",
      " [3.17094090e-03 4.04312531e-03 9.92785934e-01]\n",
      " [3.21456298e-03 4.04994319e-03 9.92735494e-01]\n",
      " [3.26183703e-03 4.05689566e-03 9.92681267e-01]\n",
      " [3.30999632e-03 4.06392429e-03 9.92626079e-01]\n",
      " [3.36011014e-03 4.07125821e-03 9.92568632e-01]\n",
      " [3.41279452e-03 4.07870917e-03 9.92508496e-01]\n",
      " [3.46514443e-03 4.08630696e-03 9.92448549e-01]\n",
      " [3.52421278e-03 4.09417526e-03 9.92381612e-01]\n",
      " [3.58311207e-03 4.10223689e-03 9.92314651e-01]\n",
      " [3.64295532e-03 4.11043282e-03 9.92246612e-01]\n",
      " [3.70699946e-03 4.11887149e-03 9.92174129e-01]\n",
      " [3.77375803e-03 4.12748961e-03 9.92098752e-01]\n",
      " [3.84309515e-03 4.13627948e-03 9.92020625e-01]\n",
      " [3.91663722e-03 4.14525934e-03 9.91938103e-01]\n",
      " [3.98976293e-03 4.15455269e-03 9.91855684e-01]\n",
      " [4.06780582e-03 4.16401319e-03 9.91768181e-01]\n",
      " [4.14959349e-03 4.17364616e-03 9.91676760e-01]\n",
      " [4.23430140e-03 4.18351838e-03 9.91582180e-01]\n",
      " [4.32301325e-03 4.19354460e-03 9.91483442e-01]\n",
      " [4.41635578e-03 4.20386193e-03 9.91379782e-01]\n",
      " [4.51115295e-03 4.21438163e-03 9.91274465e-01]\n",
      " [4.61233867e-03 4.22503331e-03 9.91162628e-01]\n",
      " [4.71699618e-03 4.23602522e-03 9.91046979e-01]\n",
      " [4.82442143e-03 4.24727248e-03 9.90928306e-01]\n",
      " [4.93705700e-03 4.25867624e-03 9.90804267e-01]\n",
      " [5.05663578e-03 4.27025893e-03 9.90673105e-01]\n",
      " [5.18091508e-03 4.28211256e-03 9.90536972e-01]\n",
      " [5.30892656e-03 4.29419000e-03 9.90396883e-01]\n",
      " [5.44406296e-03 4.30660416e-03 9.90249333e-01]\n",
      " [5.58604873e-03 4.31917771e-03 9.90094774e-01]\n",
      " [5.73199144e-03 4.33197410e-03 9.89936034e-01]\n",
      " [5.88692731e-03 4.34501398e-03 9.89768059e-01]\n",
      " [6.04956200e-03 4.35827895e-03 9.89592159e-01]\n",
      " [6.21646540e-03 4.37172097e-03 9.89411814e-01]\n",
      " [6.38980909e-03 4.38567579e-03 9.89224515e-01]\n",
      " [6.57562844e-03 4.39973470e-03 9.89024637e-01]\n",
      " [6.76805162e-03 4.41393094e-03 9.88818017e-01]\n",
      " [6.96971881e-03 4.42835556e-03 9.88601926e-01]\n",
      " [7.18363264e-03 4.44323070e-03 9.88373137e-01]\n",
      " [7.41237650e-03 4.45809288e-03 9.88129531e-01]\n",
      " [7.63960726e-03 4.47345313e-03 9.87886940e-01]\n",
      " [7.88397202e-03 4.48886996e-03 9.87627158e-01]\n",
      " [8.14414597e-03 4.50452782e-03 9.87351326e-01]\n",
      " [8.40925830e-03 4.52051769e-03 9.87070224e-01]\n",
      " [8.69358324e-03 4.53651080e-03 9.86769906e-01]\n",
      " [8.98809553e-03 4.55292002e-03 9.86458984e-01]\n",
      " [9.30378882e-03 4.56966022e-03 9.86126551e-01]\n",
      " [9.63636881e-03 4.58624935e-03 9.85777382e-01]\n",
      " [9.97614863e-03 4.60327724e-03 9.85420574e-01]\n",
      " [1.03359670e-02 4.62061837e-03 9.85043415e-01]\n",
      " [1.07200644e-02 4.63816022e-03 9.84641775e-01]\n",
      " [1.11224309e-02 4.65576219e-03 9.84221807e-01]\n",
      " [1.15512732e-02 4.67361193e-03 9.83775115e-01]\n",
      " [1.19921221e-02 4.69158590e-03 9.83316292e-01]\n",
      " [1.24696320e-02 4.70953077e-03 9.82820837e-01]\n",
      " [1.29755646e-02 4.72792937e-03 9.82296506e-01]\n",
      " [1.35018632e-02 4.74626908e-03 9.81751868e-01]\n",
      " [1.40526425e-02 4.76487084e-03 9.81182487e-01]\n",
      " [1.46228824e-02 4.78374649e-03 9.80593371e-01]\n",
      " [1.52489552e-02 4.80243864e-03 9.79948606e-01]\n",
      " [1.58879628e-02 4.82121705e-03 9.79290820e-01]\n",
      " [1.65961182e-02 4.84009841e-03 9.78563783e-01]\n",
      " [1.73186760e-02 4.85919387e-03 9.77822130e-01]\n",
      " [1.80962624e-02 4.87838297e-03 9.77025355e-01]\n",
      " [1.89229500e-02 4.89731764e-03 9.76179732e-01]\n",
      " [1.97852042e-02 4.91629520e-03 9.75298501e-01]\n",
      " [2.07050566e-02 4.93522122e-03 9.74359722e-01]\n",
      " [2.17035133e-02 4.95355997e-03 9.73342927e-01]\n",
      " [2.27199381e-02 4.97262208e-03 9.72307440e-01]\n",
      " [2.38129492e-02 4.99113454e-03 9.71195916e-01]\n",
      " [2.49849735e-02 5.00950128e-03 9.70005525e-01]\n",
      " [2.62035044e-02 5.02765175e-03 9.68768844e-01]\n",
      " [2.75312991e-02 5.04534146e-03 9.67423359e-01]\n",
      " [2.89226174e-02 5.06274188e-03 9.66014641e-01]\n",
      " [3.04009418e-02 5.07987596e-03 9.64519182e-01]\n",
      " [3.19940685e-02 5.09621312e-03 9.62909718e-01]\n",
      " [3.36590745e-02 5.11250881e-03 9.61228417e-01]\n",
      " [3.54453804e-02 5.12785871e-03 9.59426761e-01]\n",
      " [3.73361412e-02 5.14293236e-03 9.57520926e-01]\n",
      " [3.94376012e-02 5.15643409e-03 9.55405965e-01]\n",
      " [4.15796324e-02 5.16994055e-03 9.53250427e-01]\n",
      " [4.38833701e-02 5.18250415e-03 9.50934126e-01]\n",
      " [4.63094347e-02 5.19475436e-03 9.48495811e-01]\n",
      " [4.89895701e-02 5.20456543e-03 9.45805864e-01]\n",
      " [5.17506487e-02 5.21482534e-03 9.43034526e-01]\n",
      " [5.47531432e-02 5.22332926e-03 9.40023528e-01]\n",
      " [5.79125125e-02 5.23070436e-03 9.36856783e-01]\n",
      " [6.12962913e-02 5.23693667e-03 9.33466772e-01]\n",
      " [6.50070078e-02 5.24079190e-03 9.29752200e-01]\n",
      " [6.88505044e-02 5.24497834e-03 9.25904517e-01]\n",
      " [7.29759717e-02 5.24740213e-03 9.21776626e-01]\n",
      " [7.73783613e-02 5.24870425e-03 9.17372934e-01]\n",
      " [8.20232004e-02 5.24886429e-03 9.12727935e-01]\n",
      " [8.72703331e-02 5.24597299e-03 9.07483694e-01]\n",
      " [9.25164622e-02 5.24532345e-03 9.02238214e-01]\n",
      " [9.82021783e-02 5.24291855e-03 8.96554903e-01]\n",
      " [1.04398422e-01 5.23897656e-03 8.90362602e-01]\n",
      " [1.11070986e-01 5.23462003e-03 8.83694394e-01]\n",
      " [1.17950843e-01 5.23238098e-03 8.76816776e-01]\n",
      " [1.25471647e-01 5.22909665e-03 8.69299257e-01]\n",
      " [1.33286525e-01 5.22815088e-03 8.61485324e-01]\n",
      " [1.41712780e-01 5.22862249e-03 8.53058598e-01]\n",
      " [1.50780416e-01 5.23072522e-03 8.43988859e-01]\n",
      " [1.60290940e-01 5.23649890e-03 8.34472561e-01]\n",
      " [1.70478443e-01 5.24479833e-03 8.24276758e-01]\n",
      " [1.81420835e-01 5.25630087e-03 8.13322864e-01]\n",
      " [1.93173042e-01 5.27147781e-03 8.01555481e-01]\n",
      " [2.05088514e-01 5.29160346e-03 7.89619883e-01]\n",
      " [2.17702987e-01 5.31419537e-03 7.76982817e-01]\n",
      " [2.31403455e-01 5.33860772e-03 7.63257937e-01]\n",
      " [2.45674775e-01 5.36481645e-03 7.48960409e-01]\n",
      " [2.61029473e-01 5.38969640e-03 7.33580831e-01]\n",
      " [2.76619477e-01 5.41242130e-03 7.17968101e-01]\n",
      " [2.93262929e-01 5.42856814e-03 7.01308503e-01]\n",
      " [3.10799403e-01 5.43565531e-03 6.83764942e-01]\n",
      " [3.29046817e-01 5.43010163e-03 6.65523082e-01]\n",
      " [3.47772737e-01 5.40940720e-03 6.46817856e-01]\n",
      " [3.67511779e-01 5.36876917e-03 6.27119452e-01]\n",
      " [3.87617572e-01 5.30791959e-03 6.07074509e-01]\n",
      " [4.08599522e-01 5.22261272e-03 5.86177865e-01]\n",
      " [4.29644228e-01 5.11701727e-03 5.65238755e-01]\n",
      " [4.51754694e-01 4.98432985e-03 5.43260976e-01]\n",
      " [4.74169083e-01 4.83056776e-03 5.21000349e-01]\n",
      " [4.96593163e-01 4.66108329e-03 4.98745754e-01]\n",
      " [5.19646294e-01 4.47238771e-03 4.75881318e-01]\n",
      " [5.42081583e-01 4.27982432e-03 4.53638593e-01]\n",
      " [5.65268616e-01 4.07247973e-03 4.30658904e-01]\n",
      " [5.88426719e-01 3.86049280e-03 4.07712788e-01]\n",
      " [6.11174152e-01 3.65031918e-03 3.85175529e-01]\n",
      " [6.33746385e-01 3.44100666e-03 3.62812608e-01]\n",
      " [6.55913562e-01 3.23613057e-03 3.40850307e-01]\n",
      " [6.77416615e-01 3.03888573e-03 3.19544499e-01]\n",
      " [6.98706428e-01 2.84485278e-03 2.98448719e-01]\n",
      " [7.19081152e-01 2.66117101e-03 2.78257677e-01]\n",
      " [7.39528975e-01 2.47720017e-03 2.57993825e-01]\n",
      " [7.57981344e-01 2.31403252e-03 2.39704624e-01]\n",
      " [7.76018718e-01 2.15483063e-03 2.21826451e-01]\n",
      " [7.93673419e-01 1.99901196e-03 2.04327569e-01]\n",
      " [8.10027019e-01 1.85553674e-03 1.88117444e-01]\n",
      " [8.25597558e-01 1.71868038e-03 1.72683761e-01]\n",
      " [8.40442733e-01 1.58788909e-03 1.57969377e-01]\n",
      " [8.54227072e-01 1.46619997e-03 1.44306728e-01]\n",
      " [8.67105817e-01 1.35191575e-03 1.31542267e-01]\n",
      " [8.79285548e-01 1.24292090e-03 1.19471531e-01]\n",
      " [8.90400048e-01 1.14276427e-03 1.08457188e-01]\n",
      " [9.00775423e-01 1.04835316e-03 9.81762236e-02]\n",
      " [9.10382269e-01 9.59937724e-04 8.86577937e-02]\n",
      " [9.19185412e-01 8.77999102e-04 7.99365889e-02]\n",
      " [9.27105247e-01 8.03505688e-04 7.20912477e-02]\n",
      " [9.34642151e-01 7.31333900e-04 6.46265154e-02]\n",
      " [9.41334944e-01 6.66602178e-04 5.79984536e-02]\n",
      " [9.47476435e-01 6.06247217e-04 5.19173179e-02]\n",
      " [9.53025853e-01 5.50976447e-04 4.64231710e-02]\n",
      " [9.56226795e-01 8.02029499e-04 4.29711758e-02]\n",
      " [9.61164484e-01 6.49282148e-04 3.81862334e-02]\n",
      " [9.65596142e-01 5.23516435e-04 3.38803414e-02]\n",
      " [9.69561141e-01 4.20730021e-04 3.00181293e-02]\n",
      " [9.73142023e-01 3.36343213e-04 2.65216334e-02]\n",
      " [9.76319855e-01 2.68560621e-04 2.34115842e-02]\n",
      " [9.79103962e-01 2.14990019e-04 2.06810483e-02]\n",
      " [9.81577721e-01 1.72154156e-04 1.82501253e-02]\n",
      " [9.83764063e-01 1.38196750e-04 1.60977403e-02]\n",
      " [9.85727740e-01 1.10961879e-04 1.41612981e-02]\n",
      " [9.87477403e-01 8.93782770e-05 1.24332192e-02]\n",
      " [9.89012408e-01 7.26171897e-05 1.09149749e-02]\n",
      " [9.90372589e-01 5.95251161e-05 9.56788607e-03]\n",
      " [9.91574036e-01 4.93767894e-05 8.37658716e-03]\n",
      " [9.92609304e-01 4.17435217e-05 7.34895295e-03]\n",
      " [9.93552096e-01 3.57114880e-05 6.41219271e-03]\n",
      " [9.94444158e-01 3.08263765e-05 5.52501608e-03]\n",
      " [9.95066748e-01 2.79879771e-05 4.90526409e-03]\n",
      " [9.95722980e-01 2.54275627e-05 4.25159276e-03]\n",
      " [9.96279440e-01 2.36784298e-05 3.69688143e-03]\n",
      " [9.96759557e-01 2.24911147e-05 3.21795173e-03]\n",
      " [9.97184213e-01 2.17207589e-05 2.79406653e-03]\n",
      " [9.97559771e-01 2.12943584e-05 2.41893440e-03]\n",
      " [9.97880378e-01 2.11225182e-05 2.09849947e-03]\n",
      " [9.98164412e-01 2.11852017e-05 1.81440278e-03]\n",
      " [9.98411854e-01 2.14008716e-05 1.56674489e-03]\n",
      " [9.98628221e-01 2.17457082e-05 1.35003292e-03]\n",
      " [9.98812036e-01 2.22124012e-05 1.16575177e-03]\n",
      " [9.98973566e-01 2.27638580e-05 1.00366993e-03]\n",
      " [9.99112086e-01 2.33984256e-05 8.64515902e-04]\n",
      " [9.99232850e-01 2.40972838e-05 7.43052852e-04]\n",
      " [9.99337148e-01 2.48588266e-05 6.37992920e-04]\n",
      " [9.99427990e-01 2.56732979e-05 5.46336520e-04]\n",
      " [9.99504544e-01 2.65370501e-05 4.68919205e-04]\n",
      " [9.99572413e-01 2.74378871e-05 4.00148850e-04]\n",
      " [9.99628225e-01 2.84126008e-05 3.43362136e-04]\n",
      " [9.99677541e-01 2.94395647e-05 2.93019265e-04]\n",
      " [9.99719398e-01 3.04913237e-05 2.50110310e-04]\n",
      " [9.99754876e-01 3.16272204e-05 2.13497169e-04]\n",
      " [9.99785356e-01 3.28063750e-05 1.81838113e-04]\n",
      " [9.99811121e-01 3.40147080e-05 1.54864209e-04]\n",
      " [9.99834865e-01 3.53420139e-05 1.29793100e-04]\n",
      " [9.99852123e-01 3.66298961e-05 1.11246767e-04]\n",
      " [9.99867874e-01 3.80882321e-05 9.40374454e-05]\n",
      " [9.99879952e-01 3.95835665e-05 8.04641364e-05]\n",
      " [9.99890458e-01 4.11305724e-05 6.84109845e-05]\n",
      " [9.99899130e-01 4.27737856e-05 5.80966181e-05]\n",
      " [9.99906137e-01 4.44719361e-05 4.93914367e-05]\n",
      " [9.99911839e-01 4.62827936e-05 4.18785964e-05]\n",
      " [9.99916041e-01 4.81255225e-05 3.58336103e-05]\n",
      " [9.99919309e-01 5.01260007e-05 3.05645641e-05]\n",
      " [9.99921585e-01 5.22066011e-05 2.62088341e-05]\n",
      " [9.99923115e-01 5.43241598e-05 2.25611196e-05]\n",
      " [9.99923903e-01 5.65764690e-05 1.95209308e-05]\n",
      " [9.99924051e-01 5.89490858e-05 1.69997087e-05]\n",
      " [9.99923683e-01 6.13903593e-05 1.49265544e-05]\n",
      " [9.99922582e-01 6.41162075e-05 1.33016576e-05]\n",
      " [9.99921181e-01 6.68872653e-05 1.19318289e-05]\n",
      " [9.99919319e-01 6.98090010e-05 1.08715383e-05]\n",
      " [9.99917144e-01 7.28266145e-05 1.00297714e-05]]\n"
     ]
    }
   ],
   "source": [
    "predicted_probabilities = model.predict_proba(X_test)\n",
    "\n",
    "# The result is a 2D array where each row corresponds to a data point and contains the probabilities for each class\n",
    "print(\"Prediction Probabilities:\")\n",
    "print(predicted_probabilities)"
   ]
  },
  {
   "cell_type": "code",
   "execution_count": 307,
   "id": "aa1fc852",
   "metadata": {},
   "outputs": [
    {
     "data": {
      "image/png": "[encoded data removed]",
      "text/plain": [
       "<Figure size 640x480 with 2 Axes>"
      ]
     },
     "metadata": {},
     "output_type": "display_data"
    }
   ],
   "source": [
    "from sklearn import metrics\n",
    "\n",
    "confusion_matrix = metrics.confusion_matrix(Y_test, predictions)\n",
    "\n",
    "# Plot confusion matrix using seaborn\n",
    "sns.heatmap(confusion_matrix, annot=True, fmt='d', cmap='Blues', xticklabels=['Class 0', 'Class 1', 'Class 2'], yticklabels=['Class 0', 'Class 1', 'Class 2'])\n",
    "plt.xlabel('Predicted')\n",
    "plt.ylabel('Actual')\n",
    "plt.title('Confusion Matrix')\n",
    "plt.show()"
   ]
  },
  {
   "cell_type": "code",
   "execution_count": 335,
   "id": "3d418208",
   "metadata": {},
   "outputs": [
    {
     "name": "stdout",
     "output_type": "stream",
     "text": [
      "Classification Report:\n",
      "               precision    recall  f1-score   support\n",
      "\n",
      "         0.0       0.00      0.00      0.00       104\n",
      "         1.0       0.00      0.00      0.00       103\n",
      "         2.0       0.43      1.00      0.60        86\n",
      "\n",
      "    accuracy                           0.29       293\n",
      "   macro avg       0.14      0.33      0.20       293\n",
      "weighted avg       0.12      0.29      0.18       293\n",
      "\n"
     ]
    },
    {
     "name": "stderr",
     "output_type": "stream",
     "text": [
      "C:\\Users\\AISHWARYA UBALE\\anaconda3\\lib\\site-packages\\sklearn\\metrics\\_classification.py:1344: UndefinedMetricWarning: Precision and F-score are ill-defined and being set to 0.0 in labels with no predicted samples. Use `zero_division` parameter to control this behavior.\n",
      "  _warn_prf(average, modifier, msg_start, len(result))\n",
      "C:\\Users\\AISHWARYA UBALE\\anaconda3\\lib\\site-packages\\sklearn\\metrics\\_classification.py:1344: UndefinedMetricWarning: Precision and F-score are ill-defined and being set to 0.0 in labels with no predicted samples. Use `zero_division` parameter to control this behavior.\n",
      "  _warn_prf(average, modifier, msg_start, len(result))\n",
      "C:\\Users\\AISHWARYA UBALE\\anaconda3\\lib\\site-packages\\sklearn\\metrics\\_classification.py:1344: UndefinedMetricWarning: Precision and F-score are ill-defined and being set to 0.0 in labels with no predicted samples. Use `zero_division` parameter to control this behavior.\n",
      "  _warn_prf(average, modifier, msg_start, len(result))\n"
     ]
    }
   ],
   "source": [
    "from sklearn.metrics import classification_report\n",
    "\n",
    "# Assuming you have already trained your model and obtained predictions\n",
    "predictions = model.predict(X_test)\n",
    "\n",
    "# Generate a classification report\n",
    "report = classification_report(Y_test, predictions)\n",
    "\n",
    "# Print the classification report\n",
    "print(\"Classification Report:\\n\", report)"
   ]
  },
  {
   "cell_type": "markdown",
   "id": "fc108798",
   "metadata": {},
   "source": [
    "### Model 2 - Random Forest"
   ]
  },
  {
   "cell_type": "code",
   "execution_count": 308,
   "id": "1f3ba317",
   "metadata": {},
   "outputs": [
    {
     "data": {
      "text/html": [
       "<style>#sk-container-id-3 {color: black;background-color: white;}#sk-container-id-3 pre{padding: 0;}#sk-container-id-3 div.sk-toggleable {background-color: white;}#sk-container-id-3 label.sk-toggleable__label {cursor: pointer;display: block;width: 100%;margin-bottom: 0;padding: 0.3em;box-sizing: border-box;text-align: center;}#sk-container-id-3 label.sk-toggleable__label-arrow:before {content: \"▸\";float: left;margin-right: 0.25em;color: #696969;}#sk-container-id-3 label.sk-toggleable__label-arrow:hover:before {color: black;}#sk-container-id-3 div.sk-estimator:hover label.sk-toggleable__label-arrow:before {color: black;}#sk-container-id-3 div.sk-toggleable__content {max-height: 0;max-width: 0;overflow: hidden;text-align: left;background-color: #f0f8ff;}#sk-container-id-3 div.sk-toggleable__content pre {margin: 0.2em;color: black;border-radius: 0.25em;background-color: #f0f8ff;}#sk-container-id-3 input.sk-toggleable__control:checked~div.sk-toggleable__content {max-height: 200px;max-width: 100%;overflow: auto;}#sk-container-id-3 input.sk-toggleable__control:checked~label.sk-toggleable__label-arrow:before {content: \"▾\";}#sk-container-id-3 div.sk-estimator input.sk-toggleable__control:checked~label.sk-toggleable__label {background-color: #d4ebff;}#sk-container-id-3 div.sk-label input.sk-toggleable__control:checked~label.sk-toggleable__label {background-color: #d4ebff;}#sk-container-id-3 input.sk-hidden--visually {border: 0;clip: rect(1px 1px 1px 1px);clip: rect(1px, 1px, 1px, 1px);height: 1px;margin: -1px;overflow: hidden;padding: 0;position: absolute;width: 1px;}#sk-container-id-3 div.sk-estimator {font-family: monospace;background-color: #f0f8ff;border: 1px dotted black;border-radius: 0.25em;box-sizing: border-box;margin-bottom: 0.5em;}#sk-container-id-3 div.sk-estimator:hover {background-color: #d4ebff;}#sk-container-id-3 div.sk-parallel-item::after {content: \"\";width: 100%;border-bottom: 1px solid gray;flex-grow: 1;}#sk-container-id-3 div.sk-label:hover label.sk-toggleable__label {background-color: #d4ebff;}#sk-container-id-3 div.sk-serial::before {content: \"\";position: absolute;border-left: 1px solid gray;box-sizing: border-box;top: 0;bottom: 0;left: 50%;z-index: 0;}#sk-container-id-3 div.sk-serial {display: flex;flex-direction: column;align-items: center;background-color: white;padding-right: 0.2em;padding-left: 0.2em;position: relative;}#sk-container-id-3 div.sk-item {position: relative;z-index: 1;}#sk-container-id-3 div.sk-parallel {display: flex;align-items: stretch;justify-content: center;background-color: white;position: relative;}#sk-container-id-3 div.sk-item::before, #sk-container-id-3 div.sk-parallel-item::before {content: \"\";position: absolute;border-left: 1px solid gray;box-sizing: border-box;top: 0;bottom: 0;left: 50%;z-index: -1;}#sk-container-id-3 div.sk-parallel-item {display: flex;flex-direction: column;z-index: 1;position: relative;background-color: white;}#sk-container-id-3 div.sk-parallel-item:first-child::after {align-self: flex-end;width: 50%;}#sk-container-id-3 div.sk-parallel-item:last-child::after {align-self: flex-start;width: 50%;}#sk-container-id-3 div.sk-parallel-item:only-child::after {width: 0;}#sk-container-id-3 div.sk-dashed-wrapped {border: 1px dashed gray;margin: 0 0.4em 0.5em 0.4em;box-sizing: border-box;padding-bottom: 0.4em;background-color: white;}#sk-container-id-3 div.sk-label label {font-family: monospace;font-weight: bold;display: inline-block;line-height: 1.2em;}#sk-container-id-3 div.sk-label-container {text-align: center;}#sk-container-id-3 div.sk-container {/* jupyter's `normalize.less` sets `[hidden] { display: none; }` but bootstrap.min.css set `[hidden] { display: none !important; }` so we also need the `!important` here to be able to override the default hidden behavior on the sphinx rendered scikit-learn.org. See: https://github.com/scikit-learn/scikit-learn/issues/21755 */display: inline-block !important;position: relative;}#sk-container-id-3 div.sk-text-repr-fallback {display: none;}</style><div id=\"sk-container-id-3\" class=\"sk-top-container\"><div class=\"sk-text-repr-fallback\"><pre>RandomForestClassifier(random_state=42)</pre><b>In a Jupyter environment, please rerun this cell to show the HTML representation or trust the notebook. <br />On GitHub, the HTML representation is unable to render, please try loading this page with nbviewer.org.</b></div><div class=\"sk-container\" hidden><div class=\"sk-item\"><div class=\"sk-estimator sk-toggleable\"><input class=\"sk-toggleable__control sk-hidden--visually\" id=\"sk-estimator-id-3\" type=\"checkbox\" checked><label for=\"sk-estimator-id-3\" class=\"sk-toggleable__label sk-toggleable__label-arrow\">RandomForestClassifier</label><div class=\"sk-toggleable__content\"><pre>RandomForestClassifier(random_state=42)</pre></div></div></div></div></div>"
      ],
      "text/plain": [
       "RandomForestClassifier(random_state=42)"
      ]
     },
     "execution_count": 308,
     "metadata": {},
     "output_type": "execute_result"
    }
   ],
   "source": [
    "from sklearn.ensemble import RandomForestClassifier\n",
    "\n",
    "# Create and train the Random Forest Classifier\n",
    "model = RandomForestClassifier(n_estimators=100, random_state=42)\n",
    "model.fit(X,Y)\n"
   ]
  },
  {
   "cell_type": "code",
   "execution_count": 309,
   "id": "e5061b89",
   "metadata": {},
   "outputs": [
    {
     "name": "stdout",
     "output_type": "stream",
     "text": [
      "Training Accuracy: 1.0\n",
      "Training Confusion Matrix:\n",
      "[[228   0   0]\n",
      " [  0 237   0]\n",
      " [  0   0 202]]\n"
     ]
    },
    {
     "data": {
      "image/png": "[encoded data removed]",
      "text/plain": [
       "<Figure size 640x480 with 2 Axes>"
      ]
     },
     "metadata": {},
     "output_type": "display_data"
    }
   ],
   "source": [
    "from sklearn.metrics import confusion_matrix\n",
    "import seaborn as sns\n",
    "import matplotlib.pyplot as plt\n",
    "from sklearn.metrics import accuracy_score\n",
    "\n",
    "# Predictions on training data\n",
    "train_predictions = model.predict(X)\n",
    "\n",
    "# Calculate accuracy on training data\n",
    "train_accuracy = accuracy_score(Y, train_predictions)\n",
    "print(\"Training Accuracy:\", train_accuracy)\n",
    "\n",
    "# Confusion matrix for training data\n",
    "train_conf_matrix = confusion_matrix(Y, train_predictions)\n",
    "\n",
    "# Print confusion matrix for training data\n",
    "print(\"Training Confusion Matrix:\")\n",
    "print(train_conf_matrix)\n",
    "\n",
    "# Plot confusion matrix using seaborn\n",
    "sns.heatmap(train_conf_matrix, annot=True, fmt='d', cmap='Blues', xticklabels=['Class 0', 'Class 1', 'Class 2'], yticklabels=['Class 0', 'Class 1', 'Class 2'])\n",
    "plt.xlabel('Predicted')\n",
    "plt.ylabel('Actual')\n",
    "plt.title('Training Confusion Matrix')\n",
    "plt.show()"
   ]
  },
  {
   "cell_type": "code",
   "execution_count": 310,
   "id": "b8820669",
   "metadata": {},
   "outputs": [
    {
     "name": "stdout",
     "output_type": "stream",
     "text": [
      "Accuracy: 0.8156996587030717\n"
     ]
    }
   ],
   "source": [
    "predictions = model.predict(X_test)\n",
    "actual_labels = test_data['target']\n",
    "\n",
    "from sklearn.metrics import accuracy_score\n",
    "accuracy = accuracy_score(actual_labels, predictions)\n",
    "print(\"Accuracy:\", accuracy)"
   ]
  },
  {
   "cell_type": "code",
   "execution_count": 312,
   "id": "bf76e8d5",
   "metadata": {},
   "outputs": [
    {
     "name": "stdout",
     "output_type": "stream",
     "text": [
      "[[83  0 21]\n",
      " [27 76  0]\n",
      " [ 6  0 80]]\n"
     ]
    },
    {
     "data": {
      "image/png": "[encoded data removed]",
      "text/plain": [
       "<Figure size 640x480 with 2 Axes>"
      ]
     },
     "metadata": {},
     "output_type": "display_data"
    }
   ],
   "source": [
    "from sklearn import metrics\n",
    "\n",
    "confusion_matrix = metrics.confusion_matrix(actual_labels, predictions)\n",
    "print(confusion_matrix)\n",
    "# Plot confusion matrix using seaborn\n",
    "sns.heatmap(confusion_matrix, annot=True, fmt='d', cmap='Blues', xticklabels=['Class 0', 'Class 1', 'Class 2'], yticklabels=['Class 0', 'Class 1', 'Class 2'])\n",
    "plt.xlabel('Predicted')\n",
    "plt.ylabel('Actual')\n",
    "plt.title('Confusion Matrix')\n",
    "plt.show()"
   ]
  },
  {
   "cell_type": "markdown",
   "id": "af70f894",
   "metadata": {},
   "source": [
    "### Model 3- KNN Classifier"
   ]
  },
  {
   "cell_type": "code",
   "execution_count": 336,
   "id": "caa76a8d",
   "metadata": {},
   "outputs": [
    {
     "data": {
      "text/html": [
       "<style>#sk-container-id-8 {color: black;background-color: white;}#sk-container-id-8 pre{padding: 0;}#sk-container-id-8 div.sk-toggleable {background-color: white;}#sk-container-id-8 label.sk-toggleable__label {cursor: pointer;display: block;width: 100%;margin-bottom: 0;padding: 0.3em;box-sizing: border-box;text-align: center;}#sk-container-id-8 label.sk-toggleable__label-arrow:before {content: \"▸\";float: left;margin-right: 0.25em;color: #696969;}#sk-container-id-8 label.sk-toggleable__label-arrow:hover:before {color: black;}#sk-container-id-8 div.sk-estimator:hover label.sk-toggleable__label-arrow:before {color: black;}#sk-container-id-8 div.sk-toggleable__content {max-height: 0;max-width: 0;overflow: hidden;text-align: left;background-color: #f0f8ff;}#sk-container-id-8 div.sk-toggleable__content pre {margin: 0.2em;color: black;border-radius: 0.25em;background-color: #f0f8ff;}#sk-container-id-8 input.sk-toggleable__control:checked~div.sk-toggleable__content {max-height: 200px;max-width: 100%;overflow: auto;}#sk-container-id-8 input.sk-toggleable__control:checked~label.sk-toggleable__label-arrow:before {content: \"▾\";}#sk-container-id-8 div.sk-estimator input.sk-toggleable__control:checked~label.sk-toggleable__label {background-color: #d4ebff;}#sk-container-id-8 div.sk-label input.sk-toggleable__control:checked~label.sk-toggleable__label {background-color: #d4ebff;}#sk-container-id-8 input.sk-hidden--visually {border: 0;clip: rect(1px 1px 1px 1px);clip: rect(1px, 1px, 1px, 1px);height: 1px;margin: -1px;overflow: hidden;padding: 0;position: absolute;width: 1px;}#sk-container-id-8 div.sk-estimator {font-family: monospace;background-color: #f0f8ff;border: 1px dotted black;border-radius: 0.25em;box-sizing: border-box;margin-bottom: 0.5em;}#sk-container-id-8 div.sk-estimator:hover {background-color: #d4ebff;}#sk-container-id-8 div.sk-parallel-item::after {content: \"\";width: 100%;border-bottom: 1px solid gray;flex-grow: 1;}#sk-container-id-8 div.sk-label:hover label.sk-toggleable__label {background-color: #d4ebff;}#sk-container-id-8 div.sk-serial::before {content: \"\";position: absolute;border-left: 1px solid gray;box-sizing: border-box;top: 0;bottom: 0;left: 50%;z-index: 0;}#sk-container-id-8 div.sk-serial {display: flex;flex-direction: column;align-items: center;background-color: white;padding-right: 0.2em;padding-left: 0.2em;position: relative;}#sk-container-id-8 div.sk-item {position: relative;z-index: 1;}#sk-container-id-8 div.sk-parallel {display: flex;align-items: stretch;justify-content: center;background-color: white;position: relative;}#sk-container-id-8 div.sk-item::before, #sk-container-id-8 div.sk-parallel-item::before {content: \"\";position: absolute;border-left: 1px solid gray;box-sizing: border-box;top: 0;bottom: 0;left: 50%;z-index: -1;}#sk-container-id-8 div.sk-parallel-item {display: flex;flex-direction: column;z-index: 1;position: relative;background-color: white;}#sk-container-id-8 div.sk-parallel-item:first-child::after {align-self: flex-end;width: 50%;}#sk-container-id-8 div.sk-parallel-item:last-child::after {align-self: flex-start;width: 50%;}#sk-container-id-8 div.sk-parallel-item:only-child::after {width: 0;}#sk-container-id-8 div.sk-dashed-wrapped {border: 1px dashed gray;margin: 0 0.4em 0.5em 0.4em;box-sizing: border-box;padding-bottom: 0.4em;background-color: white;}#sk-container-id-8 div.sk-label label {font-family: monospace;font-weight: bold;display: inline-block;line-height: 1.2em;}#sk-container-id-8 div.sk-label-container {text-align: center;}#sk-container-id-8 div.sk-container {/* jupyter's `normalize.less` sets `[hidden] { display: none; }` but bootstrap.min.css set `[hidden] { display: none !important; }` so we also need the `!important` here to be able to override the default hidden behavior on the sphinx rendered scikit-learn.org. See: https://github.com/scikit-learn/scikit-learn/issues/21755 */display: inline-block !important;position: relative;}#sk-container-id-8 div.sk-text-repr-fallback {display: none;}</style><div id=\"sk-container-id-8\" class=\"sk-top-container\"><div class=\"sk-text-repr-fallback\"><pre>KNeighborsClassifier()</pre><b>In a Jupyter environment, please rerun this cell to show the HTML representation or trust the notebook. <br />On GitHub, the HTML representation is unable to render, please try loading this page with nbviewer.org.</b></div><div class=\"sk-container\" hidden><div class=\"sk-item\"><div class=\"sk-estimator sk-toggleable\"><input class=\"sk-toggleable__control sk-hidden--visually\" id=\"sk-estimator-id-8\" type=\"checkbox\" checked><label for=\"sk-estimator-id-8\" class=\"sk-toggleable__label sk-toggleable__label-arrow\">KNeighborsClassifier</label><div class=\"sk-toggleable__content\"><pre>KNeighborsClassifier()</pre></div></div></div></div></div>"
      ],
      "text/plain": [
       "KNeighborsClassifier()"
      ]
     },
     "execution_count": 336,
     "metadata": {},
     "output_type": "execute_result"
    }
   ],
   "source": [
    "from sklearn.neighbors import KNeighborsClassifier\n",
    "\n",
    "# Create and train the KNN Classifier\n",
    "model = KNeighborsClassifier(n_neighbors=5)\n",
    "model.fit(X, Y)"
   ]
  },
  {
   "cell_type": "code",
   "execution_count": 337,
   "id": "618f3310",
   "metadata": {},
   "outputs": [
    {
     "name": "stdout",
     "output_type": "stream",
     "text": [
      "Training Accuracy: 1.0\n",
      "Training Confusion Matrix:\n",
      "[[228   0   0]\n",
      " [  0 237   0]\n",
      " [  0   0 202]]\n"
     ]
    },
    {
     "data": {
      "image/png": "[encoded data removed]",
      "text/plain": [
       "<Figure size 640x480 with 2 Axes>"
      ]
     },
     "metadata": {},
     "output_type": "display_data"
    }
   ],
   "source": [
    "from sklearn.metrics import confusion_matrix\n",
    "import seaborn as sns\n",
    "import matplotlib.pyplot as plt\n",
    "from sklearn.neighbors import KNeighborsClassifier\n",
    "from sklearn.metrics import accuracy_score\n",
    "\n",
    "# Predictions on training data\n",
    "train_predictions = model.predict(X)\n",
    "\n",
    "# Calculate accuracy on training data\n",
    "train_accuracy = accuracy_score(Y, train_predictions)\n",
    "print(\"Training Accuracy:\", train_accuracy)\n",
    "\n",
    "# Confusion matrix for training data\n",
    "train_conf_matrix = confusion_matrix(Y, train_predictions)\n",
    "\n",
    "# Print confusion matrix for training data\n",
    "print(\"Training Confusion Matrix:\")\n",
    "print(train_conf_matrix)\n",
    "\n",
    "# Plot confusion matrix using seaborn\n",
    "sns.heatmap(train_conf_matrix, annot=True, fmt='d', cmap='Blues', xticklabels=['Class 0', 'Class 1', 'Class 2'], yticklabels=['Class 0', 'Class 1', 'Class 2'])\n",
    "plt.xlabel('Predicted')\n",
    "plt.ylabel('Actual')\n",
    "plt.title('Training Confusion Matrix')\n",
    "plt.show()"
   ]
  },
  {
   "cell_type": "code",
   "execution_count": null,
   "id": "b763a559",
   "metadata": {},
   "outputs": [],
   "source": []
  },
  {
   "cell_type": "code",
   "execution_count": 338,
   "id": "29b8ad49",
   "metadata": {},
   "outputs": [
    {
     "name": "stdout",
     "output_type": "stream",
     "text": [
      "Accuracy: 0.2935153583617747\n"
     ]
    }
   ],
   "source": [
    "predictions = model.predict(X_test)\n",
    "actual_labels = test_data['target']\n",
    "\n",
    "from sklearn.metrics import accuracy_score\n",
    "accuracy = accuracy_score(actual_labels, predictions)\n",
    "print(\"Accuracy:\", accuracy)"
   ]
  },
  {
   "cell_type": "code",
   "execution_count": 339,
   "id": "5f2a5a21",
   "metadata": {},
   "outputs": [
    {
     "name": "stdout",
     "output_type": "stream",
     "text": [
      "Testing Confusion Matrix:\n",
      "[[  0   0 104]\n",
      " [ 92   0  11]\n",
      " [  0   0  86]]\n"
     ]
    },
    {
     "data": {
      "image/png": "[encoded data removed]",
      "text/plain": [
       "<Figure size 640x480 with 2 Axes>"
      ]
     },
     "metadata": {},
     "output_type": "display_data"
    }
   ],
   "source": [
    "from sklearn import metrics\n",
    "\n",
    "confusion_matrix = metrics.confusion_matrix(actual_labels, predictions)\n",
    "\n",
    "# Print confusion matrix for training data\n",
    "print(\"Testing Confusion Matrix:\")\n",
    "print(confusion_matrix)\n",
    "\n",
    "# Plot confusion matrix using seaborn\n",
    "sns.heatmap(confusion_matrix, annot=True, fmt='d', cmap='Blues', xticklabels=['Class 0', 'Class 1', 'Class 2'], yticklabels=['Class 0', 'Class 1', 'Class 2'])\n",
    "plt.xlabel('Predicted')\n",
    "plt.ylabel('Actual')\n",
    "plt.title('Confusion Matrix')\n",
    "plt.show()"
   ]
  },
  {
   "cell_type": "code",
   "execution_count": 340,
   "id": "93885e33",
   "metadata": {},
   "outputs": [
    {
     "name": "stdout",
     "output_type": "stream",
     "text": [
      "Classification Report:\n",
      "               precision    recall  f1-score   support\n",
      "\n",
      "         0.0       0.00      0.00      0.00       104\n",
      "         1.0       0.00      0.00      0.00       103\n",
      "         2.0       0.43      1.00      0.60        86\n",
      "\n",
      "    accuracy                           0.29       293\n",
      "   macro avg       0.14      0.33      0.20       293\n",
      "weighted avg       0.13      0.29      0.18       293\n",
      "\n"
     ]
    },
    {
     "name": "stderr",
     "output_type": "stream",
     "text": [
      "C:\\Users\\AISHWARYA UBALE\\anaconda3\\lib\\site-packages\\sklearn\\metrics\\_classification.py:1344: UndefinedMetricWarning: Precision and F-score are ill-defined and being set to 0.0 in labels with no predicted samples. Use `zero_division` parameter to control this behavior.\n",
      "  _warn_prf(average, modifier, msg_start, len(result))\n",
      "C:\\Users\\AISHWARYA UBALE\\anaconda3\\lib\\site-packages\\sklearn\\metrics\\_classification.py:1344: UndefinedMetricWarning: Precision and F-score are ill-defined and being set to 0.0 in labels with no predicted samples. Use `zero_division` parameter to control this behavior.\n",
      "  _warn_prf(average, modifier, msg_start, len(result))\n",
      "C:\\Users\\AISHWARYA UBALE\\anaconda3\\lib\\site-packages\\sklearn\\metrics\\_classification.py:1344: UndefinedMetricWarning: Precision and F-score are ill-defined and being set to 0.0 in labels with no predicted samples. Use `zero_division` parameter to control this behavior.\n",
      "  _warn_prf(average, modifier, msg_start, len(result))\n"
     ]
    }
   ],
   "source": [
    "from sklearn.metrics import classification_report\n",
    "\n",
    "# Assuming you have already trained your model and obtained predictions\n",
    "predictions = model.predict(X_test)\n",
    "\n",
    "# Generate a classification report\n",
    "report = classification_report(Y_test, predictions)\n",
    "\n",
    "# Print the classification report\n",
    "print(\"Classification Report:\\n\", report)"
   ]
  },
  {
   "cell_type": "markdown",
   "id": "7fe5d03f",
   "metadata": {},
   "source": [
    "### Model 4 - Multinomial Naive Bayes:"
   ]
  },
  {
   "cell_type": "code",
   "execution_count": 222,
   "id": "cb90f07d",
   "metadata": {},
   "outputs": [],
   "source": [
    "# from sklearn.naive_bayes import MultinomialNB\n",
    "\n",
    "# # Create and train the Multinomial Naive Bayes Classifier\n",
    "# model = MultinomialNB()\n",
    "# model.fit(X, Y)\n",
    "\n",
    "# predictions = model.predict(X_test)\n",
    "# actual_labels = test_data['target']\n",
    "\n",
    "# from sklearn.metrics import accuracy_score\n",
    "# accuracy = accuracy_score(actual_labels, predictions)\n",
    "# print(\"Accuracy:\", accuracy)"
   ]
  },
  {
   "cell_type": "code",
   "execution_count": null,
   "id": "24c29c24",
   "metadata": {},
   "outputs": [],
   "source": []
  },
  {
   "cell_type": "code",
   "execution_count": 223,
   "id": "76e4906f",
   "metadata": {},
   "outputs": [],
   "source": [
    "### Model 5 - "
   ]
  },
  {
   "cell_type": "code",
   "execution_count": 318,
   "id": "8b1ae1dc",
   "metadata": {},
   "outputs": [
    {
     "name": "stdout",
     "output_type": "stream",
     "text": [
      "Accuracy: 0.2935153583617747\n"
     ]
    }
   ],
   "source": [
    "from sklearn.ensemble import GradientBoostingClassifier\n",
    "\n",
    "# Create and train the Gradient Boosting Classifier\n",
    "model = GradientBoostingClassifier(n_estimators=100, learning_rate=1.0, max_depth=1, random_state=42)\n",
    "model.fit(X, Y)\n",
    "\n",
    "\n",
    "predictions = model.predict(X_test)\n",
    "actual_labels = test_data['target']\n",
    "\n",
    "from sklearn.metrics import accuracy_score\n",
    "accuracy = accuracy_score(actual_labels, predictions)\n",
    "print(\"Accuracy:\", accuracy)"
   ]
  },
  {
   "cell_type": "code",
   "execution_count": 320,
   "id": "7c697418",
   "metadata": {},
   "outputs": [
    {
     "data": {
      "image/png": "[encoded data removed]",
      "text/plain": [
       "<Figure size 640x480 with 2 Axes>"
      ]
     },
     "metadata": {},
     "output_type": "display_data"
    }
   ],
   "source": [
    "from sklearn import metrics\n",
    "\n",
    "confusion_matrix = metrics.confusion_matrix(actual_labels, predictions)\n",
    "\n",
    "# Plot confusion matrix using seaborn\n",
    "sns.heatmap(confusion_matrix, annot=True, fmt='d', cmap='Blues', xticklabels=['Class 0', 'Class 1', 'Class 2'], yticklabels=['Class 0', 'Class 1', 'Class 2'])\n",
    "plt.xlabel('Predicted')\n",
    "plt.ylabel('Actual')\n",
    "plt.title('Confusion Matrix')\n",
    "plt.show()"
   ]
  },
  {
   "cell_type": "markdown",
   "id": "b3a10006",
   "metadata": {},
   "source": [
    "### Ignore the following"
   ]
  },
  {
   "cell_type": "code",
   "execution_count": 98,
   "id": "f0eff0a1",
   "metadata": {},
   "outputs": [
    {
     "data": {
      "text/plain": [
       "(966, 132)"
      ]
     },
     "execution_count": 98,
     "metadata": {},
     "output_type": "execute_result"
    }
   ],
   "source": [
    "X.shape"
   ]
  },
  {
   "cell_type": "code",
   "execution_count": 99,
   "id": "0ff0ca0b",
   "metadata": {},
   "outputs": [],
   "source": [
    "results = pose.process(imgRGB)"
   ]
  },
  {
   "cell_type": "code",
   "execution_count": 100,
   "id": "74ecd563",
   "metadata": {},
   "outputs": [],
   "source": [
    "#imgRGB"
   ]
  },
  {
   "cell_type": "code",
   "execution_count": 101,
   "id": "2705c241",
   "metadata": {},
   "outputs": [],
   "source": [
    "#results.pose_landmarks"
   ]
  },
  {
   "cell_type": "code",
   "execution_count": 109,
   "id": "ac6ffd11",
   "metadata": {},
   "outputs": [],
   "source": [
    "test_data = pd.read_csv(\"testing_dataset3_with target_allposses.csv\")"
   ]
  },
  {
   "cell_type": "code",
   "execution_count": 110,
   "id": "8d893ea6",
   "metadata": {},
   "outputs": [
    {
     "data": {
      "text/html": [
       "<div>\n",
       "<style scoped>\n",
       "    .dataframe tbody tr th:only-of-type {\n",
       "        vertical-align: middle;\n",
       "    }\n",
       "\n",
       "    .dataframe tbody tr th {\n",
       "        vertical-align: top;\n",
       "    }\n",
       "\n",
       "    .dataframe thead th {\n",
       "        text-align: right;\n",
       "    }\n",
       "</style>\n",
       "<table border=\"1\" class=\"dataframe\">\n",
       "  <thead>\n",
       "    <tr style=\"text-align: right;\">\n",
       "      <th></th>\n",
       "      <th>Unnamed: 0</th>\n",
       "      <th>NOSE_x</th>\n",
       "      <th>NOSE_y</th>\n",
       "      <th>NOSE_z</th>\n",
       "      <th>NOSE_vis</th>\n",
       "      <th>LEFT_EYE_INNER_x</th>\n",
       "      <th>LEFT_EYE_INNER_y</th>\n",
       "      <th>LEFT_EYE_INNER_z</th>\n",
       "      <th>LEFT_EYE_INNER_vis</th>\n",
       "      <th>LEFT_EYE_x</th>\n",
       "      <th>...</th>\n",
       "      <th>RIGHT_HEEL_vis</th>\n",
       "      <th>LEFT_FOOT_INDEX_x</th>\n",
       "      <th>LEFT_FOOT_INDEX_y</th>\n",
       "      <th>LEFT_FOOT_INDEX_z</th>\n",
       "      <th>LEFT_FOOT_INDEX_vis</th>\n",
       "      <th>RIGHT_FOOT_INDEX_x</th>\n",
       "      <th>RIGHT_FOOT_INDEX_y</th>\n",
       "      <th>RIGHT_FOOT_INDEX_z</th>\n",
       "      <th>RIGHT_FOOT_INDEX_vis</th>\n",
       "      <th>target</th>\n",
       "    </tr>\n",
       "  </thead>\n",
       "  <tbody>\n",
       "    <tr>\n",
       "      <th>0</th>\n",
       "      <td>1045</td>\n",
       "      <td>0.441700</td>\n",
       "      <td>0.694201</td>\n",
       "      <td>-0.096439</td>\n",
       "      <td>0.997566</td>\n",
       "      <td>0.416444</td>\n",
       "      <td>0.695569</td>\n",
       "      <td>-0.137276</td>\n",
       "      <td>0.998209</td>\n",
       "      <td>0.413817</td>\n",
       "      <td>...</td>\n",
       "      <td>0.413311</td>\n",
       "      <td>0.825927</td>\n",
       "      <td>0.860303</td>\n",
       "      <td>-0.317801</td>\n",
       "      <td>0.972257</td>\n",
       "      <td>0.809430</td>\n",
       "      <td>0.840739</td>\n",
       "      <td>0.287854</td>\n",
       "      <td>0.439358</td>\n",
       "      <td>4.0</td>\n",
       "    </tr>\n",
       "    <tr>\n",
       "      <th>1</th>\n",
       "      <td>1046</td>\n",
       "      <td>0.378846</td>\n",
       "      <td>0.717390</td>\n",
       "      <td>-0.020918</td>\n",
       "      <td>0.997744</td>\n",
       "      <td>0.360062</td>\n",
       "      <td>0.707027</td>\n",
       "      <td>-0.065380</td>\n",
       "      <td>0.998329</td>\n",
       "      <td>0.359729</td>\n",
       "      <td>...</td>\n",
       "      <td>0.420324</td>\n",
       "      <td>0.794249</td>\n",
       "      <td>0.955767</td>\n",
       "      <td>-0.372992</td>\n",
       "      <td>0.972202</td>\n",
       "      <td>0.776637</td>\n",
       "      <td>0.924903</td>\n",
       "      <td>0.338004</td>\n",
       "      <td>0.441726</td>\n",
       "      <td>4.0</td>\n",
       "    </tr>\n",
       "    <tr>\n",
       "      <th>2</th>\n",
       "      <td>1047</td>\n",
       "      <td>0.394866</td>\n",
       "      <td>0.642226</td>\n",
       "      <td>-0.021269</td>\n",
       "      <td>0.997950</td>\n",
       "      <td>0.369800</td>\n",
       "      <td>0.646245</td>\n",
       "      <td>-0.055329</td>\n",
       "      <td>0.998481</td>\n",
       "      <td>0.367126</td>\n",
       "      <td>...</td>\n",
       "      <td>0.418572</td>\n",
       "      <td>0.806704</td>\n",
       "      <td>0.843974</td>\n",
       "      <td>-0.208756</td>\n",
       "      <td>0.972188</td>\n",
       "      <td>0.801038</td>\n",
       "      <td>0.827370</td>\n",
       "      <td>0.289733</td>\n",
       "      <td>0.449103</td>\n",
       "      <td>4.0</td>\n",
       "    </tr>\n",
       "    <tr>\n",
       "      <th>3</th>\n",
       "      <td>1048</td>\n",
       "      <td>0.569671</td>\n",
       "      <td>0.566876</td>\n",
       "      <td>-0.119233</td>\n",
       "      <td>0.998152</td>\n",
       "      <td>0.560455</td>\n",
       "      <td>0.588558</td>\n",
       "      <td>-0.165436</td>\n",
       "      <td>0.998632</td>\n",
       "      <td>0.558476</td>\n",
       "      <td>...</td>\n",
       "      <td>0.428230</td>\n",
       "      <td>0.848695</td>\n",
       "      <td>0.741254</td>\n",
       "      <td>0.262044</td>\n",
       "      <td>0.970567</td>\n",
       "      <td>0.812981</td>\n",
       "      <td>0.713256</td>\n",
       "      <td>0.615784</td>\n",
       "      <td>0.471292</td>\n",
       "      <td>4.0</td>\n",
       "    </tr>\n",
       "    <tr>\n",
       "      <th>4</th>\n",
       "      <td>1049</td>\n",
       "      <td>0.507775</td>\n",
       "      <td>0.584656</td>\n",
       "      <td>-0.417670</td>\n",
       "      <td>0.996134</td>\n",
       "      <td>0.205885</td>\n",
       "      <td>0.584777</td>\n",
       "      <td>-0.424889</td>\n",
       "      <td>0.997142</td>\n",
       "      <td>0.257835</td>\n",
       "      <td>...</td>\n",
       "      <td>0.473842</td>\n",
       "      <td>0.566466</td>\n",
       "      <td>0.735029</td>\n",
       "      <td>0.309761</td>\n",
       "      <td>0.950016</td>\n",
       "      <td>0.161110</td>\n",
       "      <td>0.789532</td>\n",
       "      <td>-0.315338</td>\n",
       "      <td>0.512743</td>\n",
       "      <td>4.0</td>\n",
       "    </tr>\n",
       "  </tbody>\n",
       "</table>\n",
       "<p>5 rows × 134 columns</p>\n",
       "</div>"
      ],
      "text/plain": [
       "   Unnamed: 0    NOSE_x    NOSE_y    NOSE_z  NOSE_vis  LEFT_EYE_INNER_x  \\\n",
       "0        1045  0.441700  0.694201 -0.096439  0.997566          0.416444   \n",
       "1        1046  0.378846  0.717390 -0.020918  0.997744          0.360062   \n",
       "2        1047  0.394866  0.642226 -0.021269  0.997950          0.369800   \n",
       "3        1048  0.569671  0.566876 -0.119233  0.998152          0.560455   \n",
       "4        1049  0.507775  0.584656 -0.417670  0.996134          0.205885   \n",
       "\n",
       "   LEFT_EYE_INNER_y  LEFT_EYE_INNER_z  LEFT_EYE_INNER_vis  LEFT_EYE_x  ...  \\\n",
       "0          0.695569         -0.137276            0.998209    0.413817  ...   \n",
       "1          0.707027         -0.065380            0.998329    0.359729  ...   \n",
       "2          0.646245         -0.055329            0.998481    0.367126  ...   \n",
       "3          0.588558         -0.165436            0.998632    0.558476  ...   \n",
       "4          0.584777         -0.424889            0.997142    0.257835  ...   \n",
       "\n",
       "   RIGHT_HEEL_vis  LEFT_FOOT_INDEX_x  LEFT_FOOT_INDEX_y  LEFT_FOOT_INDEX_z  \\\n",
       "0        0.413311           0.825927           0.860303          -0.317801   \n",
       "1        0.420324           0.794249           0.955767          -0.372992   \n",
       "2        0.418572           0.806704           0.843974          -0.208756   \n",
       "3        0.428230           0.848695           0.741254           0.262044   \n",
       "4        0.473842           0.566466           0.735029           0.309761   \n",
       "\n",
       "   LEFT_FOOT_INDEX_vis  RIGHT_FOOT_INDEX_x  RIGHT_FOOT_INDEX_y  \\\n",
       "0             0.972257            0.809430            0.840739   \n",
       "1             0.972202            0.776637            0.924903   \n",
       "2             0.972188            0.801038            0.827370   \n",
       "3             0.970567            0.812981            0.713256   \n",
       "4             0.950016            0.161110            0.789532   \n",
       "\n",
       "   RIGHT_FOOT_INDEX_z  RIGHT_FOOT_INDEX_vis  target  \n",
       "0            0.287854              0.439358     4.0  \n",
       "1            0.338004              0.441726     4.0  \n",
       "2            0.289733              0.449103     4.0  \n",
       "3            0.615784              0.471292     4.0  \n",
       "4           -0.315338              0.512743     4.0  \n",
       "\n",
       "[5 rows x 134 columns]"
      ]
     },
     "execution_count": 110,
     "metadata": {},
     "output_type": "execute_result"
    }
   ],
   "source": [
    "test_data.head(5)"
   ]
  },
  {
   "cell_type": "code",
   "execution_count": 112,
   "id": "354830be",
   "metadata": {},
   "outputs": [
    {
     "ename": "AttributeError",
     "evalue": "'str' object has no attribute 'x'",
     "output_type": "error",
     "traceback": [
      "\u001b[1;31m---------------------------------------------------------------------------\u001b[0m",
      "\u001b[1;31mAttributeError\u001b[0m                            Traceback (most recent call last)",
      "Cell \u001b[1;32mIn[112], line 4\u001b[0m\n\u001b[0;32m      1\u001b[0m temp \u001b[38;5;241m=\u001b[39m []\n\u001b[0;32m      3\u001b[0m \u001b[38;5;28;01mfor\u001b[39;00m i,j \u001b[38;5;129;01min\u001b[39;00m \u001b[38;5;28mzip\u001b[39m(points,test_data):\n\u001b[1;32m----> 4\u001b[0m     temp \u001b[38;5;241m=\u001b[39m temp \u001b[38;5;241m+\u001b[39m [\u001b[43mj\u001b[49m\u001b[38;5;241;43m.\u001b[39;49m\u001b[43mx\u001b[49m, j\u001b[38;5;241m.\u001b[39my, j\u001b[38;5;241m.\u001b[39mz, j\u001b[38;5;241m.\u001b[39mvisibility]\n\u001b[0;32m      5\u001b[0m     \u001b[38;5;28mprint\u001b[39m(temp)\n\u001b[0;32m      6\u001b[0m     \u001b[38;5;28;01mbreak\u001b[39;00m\n",
      "\u001b[1;31mAttributeError\u001b[0m: 'str' object has no attribute 'x'"
     ]
    }
   ],
   "source": [
    "\n",
    "temp = []\n",
    "\n",
    "for i,j in zip(points,test_data):\n",
    "    temp = temp + [j.x, j.y, j.z, j.visibility]\n",
    "    print(temp)\n",
    "    break"
   ]
  },
  {
   "cell_type": "code",
   "execution_count": 75,
   "id": "bc2bf3c9",
   "metadata": {
    "scrolled": true
   },
   "outputs": [
    {
     "name": "stdout",
     "output_type": "stream",
     "text": [
      "[1.]\n",
      "ooo\n"
     ]
    },
    {
     "name": "stderr",
     "output_type": "stream",
     "text": [
      "C:\\Users\\AISHWARYA UBALE\\anaconda3\\lib\\site-packages\\sklearn\\base.py:420: UserWarning: X does not have valid feature names, but SVC was fitted with feature names\n",
      "  warnings.warn(\n"
     ]
    }
   ],
   "source": [
    "\n",
    "y = model.predict([temp])\n",
    "print(y)\n",
    "if y == 0:\n",
    "    asan = \"goddess\"\n",
    "else:\n",
    "    asan = \"ooo\"\n",
    "    print(asan)\n"
   ]
  },
  {
   "cell_type": "code",
   "execution_count": null,
   "id": "bccdbea0",
   "metadata": {},
   "outputs": [],
   "source": []
  },
  {
   "cell_type": "code",
   "execution_count": 72,
   "id": "f1a75caf",
   "metadata": {},
   "outputs": [
    {
     "name": "stderr",
     "output_type": "stream",
     "text": [
      "C:\\Users\\AISHWARYA UBALE\\anaconda3\\lib\\site-packages\\sklearn\\base.py:420: UserWarning: X does not have valid feature names, but SVC was fitted with feature names\n",
      "  warnings.warn(\n",
      "C:\\Users\\AISHWARYA UBALE\\anaconda3\\lib\\site-packages\\sklearn\\base.py:420: UserWarning: X does not have valid feature names, but SVC was fitted with feature names\n",
      "  warnings.warn(\n",
      "C:\\Users\\AISHWARYA UBALE\\anaconda3\\lib\\site-packages\\sklearn\\base.py:420: UserWarning: X does not have valid feature names, but SVC was fitted with feature names\n",
      "  warnings.warn(\n"
     ]
    },
    {
     "name": "stdout",
     "output_type": "stream",
     "text": [
      "[1.]\n",
      "ooo\n",
      "[1.]\n",
      "ooo\n",
      "[1.]\n",
      "ooo\n"
     ]
    },
    {
     "name": "stderr",
     "output_type": "stream",
     "text": [
      "C:\\Users\\AISHWARYA UBALE\\anaconda3\\lib\\site-packages\\sklearn\\base.py:420: UserWarning: X does not have valid feature names, but SVC was fitted with feature names\n",
      "  warnings.warn(\n",
      "C:\\Users\\AISHWARYA UBALE\\anaconda3\\lib\\site-packages\\sklearn\\base.py:420: UserWarning: X does not have valid feature names, but SVC was fitted with feature names\n",
      "  warnings.warn(\n",
      "C:\\Users\\AISHWARYA UBALE\\anaconda3\\lib\\site-packages\\sklearn\\base.py:420: UserWarning: X does not have valid feature names, but SVC was fitted with feature names\n",
      "  warnings.warn(\n"
     ]
    },
    {
     "name": "stdout",
     "output_type": "stream",
     "text": [
      "[1.]\n",
      "ooo\n",
      "[1.]\n",
      "ooo\n",
      "[1.]\n",
      "ooo\n"
     ]
    },
    {
     "name": "stderr",
     "output_type": "stream",
     "text": [
      "C:\\Users\\AISHWARYA UBALE\\anaconda3\\lib\\site-packages\\sklearn\\base.py:420: UserWarning: X does not have valid feature names, but SVC was fitted with feature names\n",
      "  warnings.warn(\n",
      "C:\\Users\\AISHWARYA UBALE\\anaconda3\\lib\\site-packages\\sklearn\\base.py:420: UserWarning: X does not have valid feature names, but SVC was fitted with feature names\n",
      "  warnings.warn(\n"
     ]
    },
    {
     "name": "stdout",
     "output_type": "stream",
     "text": [
      "[1.]\n",
      "ooo\n",
      "[1.]\n",
      "ooo\n"
     ]
    },
    {
     "name": "stderr",
     "output_type": "stream",
     "text": [
      "C:\\Users\\AISHWARYA UBALE\\anaconda3\\lib\\site-packages\\sklearn\\base.py:420: UserWarning: X does not have valid feature names, but SVC was fitted with feature names\n",
      "  warnings.warn(\n",
      "C:\\Users\\AISHWARYA UBALE\\anaconda3\\lib\\site-packages\\sklearn\\base.py:420: UserWarning: X does not have valid feature names, but SVC was fitted with feature names\n",
      "  warnings.warn(\n",
      "C:\\Users\\AISHWARYA UBALE\\anaconda3\\lib\\site-packages\\sklearn\\base.py:420: UserWarning: X does not have valid feature names, but SVC was fitted with feature names\n",
      "  warnings.warn(\n",
      "C:\\Users\\AISHWARYA UBALE\\anaconda3\\lib\\site-packages\\sklearn\\base.py:420: UserWarning: X does not have valid feature names, but SVC was fitted with feature names\n",
      "  warnings.warn(\n"
     ]
    },
    {
     "name": "stdout",
     "output_type": "stream",
     "text": [
      "[1.]\n",
      "ooo\n",
      "[1.]\n",
      "ooo\n",
      "[1.]\n",
      "ooo\n",
      "[1.]\n",
      "ooo\n"
     ]
    },
    {
     "name": "stderr",
     "output_type": "stream",
     "text": [
      "C:\\Users\\AISHWARYA UBALE\\anaconda3\\lib\\site-packages\\sklearn\\base.py:420: UserWarning: X does not have valid feature names, but SVC was fitted with feature names\n",
      "  warnings.warn(\n",
      "C:\\Users\\AISHWARYA UBALE\\anaconda3\\lib\\site-packages\\sklearn\\base.py:420: UserWarning: X does not have valid feature names, but SVC was fitted with feature names\n",
      "  warnings.warn(\n",
      "C:\\Users\\AISHWARYA UBALE\\anaconda3\\lib\\site-packages\\sklearn\\base.py:420: UserWarning: X does not have valid feature names, but SVC was fitted with feature names\n",
      "  warnings.warn(\n"
     ]
    },
    {
     "name": "stdout",
     "output_type": "stream",
     "text": [
      "[1.]\n",
      "ooo\n",
      "[1.]\n",
      "ooo\n",
      "[1.]\n",
      "ooo\n"
     ]
    },
    {
     "name": "stderr",
     "output_type": "stream",
     "text": [
      "C:\\Users\\AISHWARYA UBALE\\anaconda3\\lib\\site-packages\\sklearn\\base.py:420: UserWarning: X does not have valid feature names, but SVC was fitted with feature names\n",
      "  warnings.warn(\n",
      "C:\\Users\\AISHWARYA UBALE\\anaconda3\\lib\\site-packages\\sklearn\\base.py:420: UserWarning: X does not have valid feature names, but SVC was fitted with feature names\n",
      "  warnings.warn(\n"
     ]
    },
    {
     "name": "stdout",
     "output_type": "stream",
     "text": [
      "[1.]\n",
      "ooo\n",
      "[1.]\n",
      "ooo\n"
     ]
    },
    {
     "name": "stderr",
     "output_type": "stream",
     "text": [
      "C:\\Users\\AISHWARYA UBALE\\anaconda3\\lib\\site-packages\\sklearn\\base.py:420: UserWarning: X does not have valid feature names, but SVC was fitted with feature names\n",
      "  warnings.warn(\n",
      "C:\\Users\\AISHWARYA UBALE\\anaconda3\\lib\\site-packages\\sklearn\\base.py:420: UserWarning: X does not have valid feature names, but SVC was fitted with feature names\n",
      "  warnings.warn(\n",
      "C:\\Users\\AISHWARYA UBALE\\anaconda3\\lib\\site-packages\\sklearn\\base.py:420: UserWarning: X does not have valid feature names, but SVC was fitted with feature names\n",
      "  warnings.warn(\n"
     ]
    },
    {
     "name": "stdout",
     "output_type": "stream",
     "text": [
      "[1.]\n",
      "ooo\n",
      "[1.]\n",
      "ooo\n",
      "[1.]\n",
      "ooo\n"
     ]
    },
    {
     "name": "stderr",
     "output_type": "stream",
     "text": [
      "C:\\Users\\AISHWARYA UBALE\\anaconda3\\lib\\site-packages\\sklearn\\base.py:420: UserWarning: X does not have valid feature names, but SVC was fitted with feature names\n",
      "  warnings.warn(\n"
     ]
    },
    {
     "name": "stdout",
     "output_type": "stream",
     "text": [
      "[1.]\n",
      "ooo\n"
     ]
    },
    {
     "name": "stderr",
     "output_type": "stream",
     "text": [
      "C:\\Users\\AISHWARYA UBALE\\anaconda3\\lib\\site-packages\\sklearn\\base.py:420: UserWarning: X does not have valid feature names, but SVC was fitted with feature names\n",
      "  warnings.warn(\n",
      "C:\\Users\\AISHWARYA UBALE\\anaconda3\\lib\\site-packages\\sklearn\\base.py:420: UserWarning: X does not have valid feature names, but SVC was fitted with feature names\n",
      "  warnings.warn(\n",
      "C:\\Users\\AISHWARYA UBALE\\anaconda3\\lib\\site-packages\\sklearn\\base.py:420: UserWarning: X does not have valid feature names, but SVC was fitted with feature names\n",
      "  warnings.warn(\n",
      "C:\\Users\\AISHWARYA UBALE\\anaconda3\\lib\\site-packages\\sklearn\\base.py:420: UserWarning: X does not have valid feature names, but SVC was fitted with feature names\n",
      "  warnings.warn(\n"
     ]
    },
    {
     "name": "stdout",
     "output_type": "stream",
     "text": [
      "[1.]\n",
      "ooo\n",
      "[1.]\n",
      "ooo\n",
      "[1.]\n",
      "ooo\n",
      "[1.]\n",
      "ooo\n"
     ]
    },
    {
     "name": "stderr",
     "output_type": "stream",
     "text": [
      "C:\\Users\\AISHWARYA UBALE\\anaconda3\\lib\\site-packages\\sklearn\\base.py:420: UserWarning: X does not have valid feature names, but SVC was fitted with feature names\n",
      "  warnings.warn(\n",
      "C:\\Users\\AISHWARYA UBALE\\anaconda3\\lib\\site-packages\\sklearn\\base.py:420: UserWarning: X does not have valid feature names, but SVC was fitted with feature names\n",
      "  warnings.warn(\n"
     ]
    },
    {
     "name": "stdout",
     "output_type": "stream",
     "text": [
      "[1.]\n",
      "ooo\n",
      "[1.]\n",
      "ooo\n"
     ]
    },
    {
     "name": "stderr",
     "output_type": "stream",
     "text": [
      "C:\\Users\\AISHWARYA UBALE\\anaconda3\\lib\\site-packages\\sklearn\\base.py:420: UserWarning: X does not have valid feature names, but SVC was fitted with feature names\n",
      "  warnings.warn(\n",
      "C:\\Users\\AISHWARYA UBALE\\anaconda3\\lib\\site-packages\\sklearn\\base.py:420: UserWarning: X does not have valid feature names, but SVC was fitted with feature names\n",
      "  warnings.warn(\n",
      "C:\\Users\\AISHWARYA UBALE\\anaconda3\\lib\\site-packages\\sklearn\\base.py:420: UserWarning: X does not have valid feature names, but SVC was fitted with feature names\n",
      "  warnings.warn(\n",
      "C:\\Users\\AISHWARYA UBALE\\anaconda3\\lib\\site-packages\\sklearn\\base.py:420: UserWarning: X does not have valid feature names, but SVC was fitted with feature names\n",
      "  warnings.warn(\n"
     ]
    },
    {
     "name": "stdout",
     "output_type": "stream",
     "text": [
      "[1.]\n",
      "ooo\n",
      "[1.]\n",
      "ooo\n",
      "[1.]\n",
      "ooo\n",
      "[1.]\n",
      "ooo\n"
     ]
    },
    {
     "name": "stderr",
     "output_type": "stream",
     "text": [
      "C:\\Users\\AISHWARYA UBALE\\anaconda3\\lib\\site-packages\\sklearn\\base.py:420: UserWarning: X does not have valid feature names, but SVC was fitted with feature names\n",
      "  warnings.warn(\n",
      "C:\\Users\\AISHWARYA UBALE\\anaconda3\\lib\\site-packages\\sklearn\\base.py:420: UserWarning: X does not have valid feature names, but SVC was fitted with feature names\n",
      "  warnings.warn(\n",
      "C:\\Users\\AISHWARYA UBALE\\anaconda3\\lib\\site-packages\\sklearn\\base.py:420: UserWarning: X does not have valid feature names, but SVC was fitted with feature names\n",
      "  warnings.warn(\n"
     ]
    },
    {
     "name": "stdout",
     "output_type": "stream",
     "text": [
      "[1.]\n",
      "ooo\n",
      "[1.]\n",
      "ooo\n",
      "[1.]\n",
      "ooo\n"
     ]
    },
    {
     "name": "stderr",
     "output_type": "stream",
     "text": [
      "C:\\Users\\AISHWARYA UBALE\\anaconda3\\lib\\site-packages\\sklearn\\base.py:420: UserWarning: X does not have valid feature names, but SVC was fitted with feature names\n",
      "  warnings.warn(\n",
      "C:\\Users\\AISHWARYA UBALE\\anaconda3\\lib\\site-packages\\sklearn\\base.py:420: UserWarning: X does not have valid feature names, but SVC was fitted with feature names\n",
      "  warnings.warn(\n"
     ]
    },
    {
     "name": "stdout",
     "output_type": "stream",
     "text": [
      "[1.]\n",
      "ooo\n",
      "[1.]\n",
      "ooo\n"
     ]
    },
    {
     "name": "stderr",
     "output_type": "stream",
     "text": [
      "C:\\Users\\AISHWARYA UBALE\\anaconda3\\lib\\site-packages\\sklearn\\base.py:420: UserWarning: X does not have valid feature names, but SVC was fitted with feature names\n",
      "  warnings.warn(\n",
      "C:\\Users\\AISHWARYA UBALE\\anaconda3\\lib\\site-packages\\sklearn\\base.py:420: UserWarning: X does not have valid feature names, but SVC was fitted with feature names\n",
      "  warnings.warn(\n",
      "C:\\Users\\AISHWARYA UBALE\\anaconda3\\lib\\site-packages\\sklearn\\base.py:420: UserWarning: X does not have valid feature names, but SVC was fitted with feature names\n",
      "  warnings.warn(\n"
     ]
    },
    {
     "name": "stdout",
     "output_type": "stream",
     "text": [
      "[1.]\n",
      "ooo\n",
      "[1.]\n",
      "ooo\n",
      "[1.]\n",
      "ooo\n"
     ]
    },
    {
     "name": "stderr",
     "output_type": "stream",
     "text": [
      "C:\\Users\\AISHWARYA UBALE\\anaconda3\\lib\\site-packages\\sklearn\\base.py:420: UserWarning: X does not have valid feature names, but SVC was fitted with feature names\n",
      "  warnings.warn(\n",
      "C:\\Users\\AISHWARYA UBALE\\anaconda3\\lib\\site-packages\\sklearn\\base.py:420: UserWarning: X does not have valid feature names, but SVC was fitted with feature names\n",
      "  warnings.warn(\n",
      "C:\\Users\\AISHWARYA UBALE\\anaconda3\\lib\\site-packages\\sklearn\\base.py:420: UserWarning: X does not have valid feature names, but SVC was fitted with feature names\n",
      "  warnings.warn(\n"
     ]
    },
    {
     "name": "stdout",
     "output_type": "stream",
     "text": [
      "[1.]\n",
      "ooo\n",
      "[1.]\n",
      "ooo\n",
      "[1.]\n",
      "ooo\n"
     ]
    },
    {
     "name": "stderr",
     "output_type": "stream",
     "text": [
      "C:\\Users\\AISHWARYA UBALE\\anaconda3\\lib\\site-packages\\sklearn\\base.py:420: UserWarning: X does not have valid feature names, but SVC was fitted with feature names\n",
      "  warnings.warn(\n",
      "C:\\Users\\AISHWARYA UBALE\\anaconda3\\lib\\site-packages\\sklearn\\base.py:420: UserWarning: X does not have valid feature names, but SVC was fitted with feature names\n",
      "  warnings.warn(\n",
      "C:\\Users\\AISHWARYA UBALE\\anaconda3\\lib\\site-packages\\sklearn\\base.py:420: UserWarning: X does not have valid feature names, but SVC was fitted with feature names\n",
      "  warnings.warn(\n"
     ]
    },
    {
     "name": "stdout",
     "output_type": "stream",
     "text": [
      "[1.]\n",
      "ooo\n",
      "[1.]\n",
      "ooo\n",
      "[1.]\n",
      "ooo\n"
     ]
    },
    {
     "name": "stderr",
     "output_type": "stream",
     "text": [
      "C:\\Users\\AISHWARYA UBALE\\anaconda3\\lib\\site-packages\\sklearn\\base.py:420: UserWarning: X does not have valid feature names, but SVC was fitted with feature names\n",
      "  warnings.warn(\n",
      "C:\\Users\\AISHWARYA UBALE\\anaconda3\\lib\\site-packages\\sklearn\\base.py:420: UserWarning: X does not have valid feature names, but SVC was fitted with feature names\n",
      "  warnings.warn(\n"
     ]
    },
    {
     "name": "stdout",
     "output_type": "stream",
     "text": [
      "[1.]\n",
      "ooo\n",
      "[1.]\n",
      "ooo\n"
     ]
    },
    {
     "name": "stderr",
     "output_type": "stream",
     "text": [
      "C:\\Users\\AISHWARYA UBALE\\anaconda3\\lib\\site-packages\\sklearn\\base.py:420: UserWarning: X does not have valid feature names, but SVC was fitted with feature names\n",
      "  warnings.warn(\n",
      "C:\\Users\\AISHWARYA UBALE\\anaconda3\\lib\\site-packages\\sklearn\\base.py:420: UserWarning: X does not have valid feature names, but SVC was fitted with feature names\n",
      "  warnings.warn(\n",
      "C:\\Users\\AISHWARYA UBALE\\anaconda3\\lib\\site-packages\\sklearn\\base.py:420: UserWarning: X does not have valid feature names, but SVC was fitted with feature names\n",
      "  warnings.warn(\n"
     ]
    },
    {
     "name": "stdout",
     "output_type": "stream",
     "text": [
      "[1.]\n",
      "ooo\n",
      "[1.]\n",
      "ooo\n",
      "[1.]\n",
      "ooo\n"
     ]
    },
    {
     "name": "stderr",
     "output_type": "stream",
     "text": [
      "C:\\Users\\AISHWARYA UBALE\\anaconda3\\lib\\site-packages\\sklearn\\base.py:420: UserWarning: X does not have valid feature names, but SVC was fitted with feature names\n",
      "  warnings.warn(\n"
     ]
    },
    {
     "name": "stdout",
     "output_type": "stream",
     "text": [
      "[1.]\n",
      "ooo\n"
     ]
    },
    {
     "name": "stderr",
     "output_type": "stream",
     "text": [
      "C:\\Users\\AISHWARYA UBALE\\anaconda3\\lib\\site-packages\\sklearn\\base.py:420: UserWarning: X does not have valid feature names, but SVC was fitted with feature names\n",
      "  warnings.warn(\n",
      "C:\\Users\\AISHWARYA UBALE\\anaconda3\\lib\\site-packages\\sklearn\\base.py:420: UserWarning: X does not have valid feature names, but SVC was fitted with feature names\n",
      "  warnings.warn(\n",
      "C:\\Users\\AISHWARYA UBALE\\anaconda3\\lib\\site-packages\\sklearn\\base.py:420: UserWarning: X does not have valid feature names, but SVC was fitted with feature names\n",
      "  warnings.warn(\n",
      "C:\\Users\\AISHWARYA UBALE\\anaconda3\\lib\\site-packages\\sklearn\\base.py:420: UserWarning: X does not have valid feature names, but SVC was fitted with feature names\n",
      "  warnings.warn(\n"
     ]
    },
    {
     "name": "stdout",
     "output_type": "stream",
     "text": [
      "[1.]\n",
      "ooo\n",
      "[1.]\n",
      "ooo\n",
      "[1.]\n",
      "ooo\n",
      "[1.]\n",
      "ooo\n"
     ]
    },
    {
     "name": "stderr",
     "output_type": "stream",
     "text": [
      "C:\\Users\\AISHWARYA UBALE\\anaconda3\\lib\\site-packages\\sklearn\\base.py:420: UserWarning: X does not have valid feature names, but SVC was fitted with feature names\n",
      "  warnings.warn(\n",
      "C:\\Users\\AISHWARYA UBALE\\anaconda3\\lib\\site-packages\\sklearn\\base.py:420: UserWarning: X does not have valid feature names, but SVC was fitted with feature names\n",
      "  warnings.warn(\n",
      "C:\\Users\\AISHWARYA UBALE\\anaconda3\\lib\\site-packages\\sklearn\\base.py:420: UserWarning: X does not have valid feature names, but SVC was fitted with feature names\n",
      "  warnings.warn(\n",
      "C:\\Users\\AISHWARYA UBALE\\anaconda3\\lib\\site-packages\\sklearn\\base.py:420: UserWarning: X does not have valid feature names, but SVC was fitted with feature names\n",
      "  warnings.warn(\n"
     ]
    },
    {
     "name": "stdout",
     "output_type": "stream",
     "text": [
      "[1.]\n",
      "ooo\n",
      "[1.]\n",
      "ooo\n",
      "[1.]\n",
      "ooo\n",
      "[1.]\n",
      "ooo\n"
     ]
    },
    {
     "name": "stderr",
     "output_type": "stream",
     "text": [
      "C:\\Users\\AISHWARYA UBALE\\anaconda3\\lib\\site-packages\\sklearn\\base.py:420: UserWarning: X does not have valid feature names, but SVC was fitted with feature names\n",
      "  warnings.warn(\n",
      "C:\\Users\\AISHWARYA UBALE\\anaconda3\\lib\\site-packages\\sklearn\\base.py:420: UserWarning: X does not have valid feature names, but SVC was fitted with feature names\n",
      "  warnings.warn(\n",
      "C:\\Users\\AISHWARYA UBALE\\anaconda3\\lib\\site-packages\\sklearn\\base.py:420: UserWarning: X does not have valid feature names, but SVC was fitted with feature names\n",
      "  warnings.warn(\n",
      "C:\\Users\\AISHWARYA UBALE\\anaconda3\\lib\\site-packages\\sklearn\\base.py:420: UserWarning: X does not have valid feature names, but SVC was fitted with feature names\n",
      "  warnings.warn(\n"
     ]
    },
    {
     "name": "stdout",
     "output_type": "stream",
     "text": [
      "[1.]\n",
      "ooo\n",
      "[1.]\n",
      "ooo\n",
      "[1.]\n",
      "ooo\n",
      "[1.]\n",
      "ooo\n"
     ]
    },
    {
     "name": "stderr",
     "output_type": "stream",
     "text": [
      "C:\\Users\\AISHWARYA UBALE\\anaconda3\\lib\\site-packages\\sklearn\\base.py:420: UserWarning: X does not have valid feature names, but SVC was fitted with feature names\n",
      "  warnings.warn(\n",
      "C:\\Users\\AISHWARYA UBALE\\anaconda3\\lib\\site-packages\\sklearn\\base.py:420: UserWarning: X does not have valid feature names, but SVC was fitted with feature names\n",
      "  warnings.warn(\n",
      "C:\\Users\\AISHWARYA UBALE\\anaconda3\\lib\\site-packages\\sklearn\\base.py:420: UserWarning: X does not have valid feature names, but SVC was fitted with feature names\n",
      "  warnings.warn(\n"
     ]
    },
    {
     "name": "stdout",
     "output_type": "stream",
     "text": [
      "[1.]\n",
      "ooo\n",
      "[1.]\n",
      "ooo\n",
      "[1.]\n",
      "ooo\n"
     ]
    },
    {
     "name": "stderr",
     "output_type": "stream",
     "text": [
      "C:\\Users\\AISHWARYA UBALE\\anaconda3\\lib\\site-packages\\sklearn\\base.py:420: UserWarning: X does not have valid feature names, but SVC was fitted with feature names\n",
      "  warnings.warn(\n",
      "C:\\Users\\AISHWARYA UBALE\\anaconda3\\lib\\site-packages\\sklearn\\base.py:420: UserWarning: X does not have valid feature names, but SVC was fitted with feature names\n",
      "  warnings.warn(\n"
     ]
    },
    {
     "name": "stdout",
     "output_type": "stream",
     "text": [
      "[1.]\n",
      "ooo\n",
      "[1.]\n",
      "ooo\n"
     ]
    },
    {
     "name": "stderr",
     "output_type": "stream",
     "text": [
      "C:\\Users\\AISHWARYA UBALE\\anaconda3\\lib\\site-packages\\sklearn\\base.py:420: UserWarning: X does not have valid feature names, but SVC was fitted with feature names\n",
      "  warnings.warn(\n",
      "C:\\Users\\AISHWARYA UBALE\\anaconda3\\lib\\site-packages\\sklearn\\base.py:420: UserWarning: X does not have valid feature names, but SVC was fitted with feature names\n",
      "  warnings.warn(\n"
     ]
    },
    {
     "name": "stdout",
     "output_type": "stream",
     "text": [
      "[1.]\n",
      "ooo\n",
      "[1.]\n",
      "ooo\n"
     ]
    },
    {
     "name": "stderr",
     "output_type": "stream",
     "text": [
      "C:\\Users\\AISHWARYA UBALE\\anaconda3\\lib\\site-packages\\sklearn\\base.py:420: UserWarning: X does not have valid feature names, but SVC was fitted with feature names\n",
      "  warnings.warn(\n",
      "C:\\Users\\AISHWARYA UBALE\\anaconda3\\lib\\site-packages\\sklearn\\base.py:420: UserWarning: X does not have valid feature names, but SVC was fitted with feature names\n",
      "  warnings.warn(\n",
      "C:\\Users\\AISHWARYA UBALE\\anaconda3\\lib\\site-packages\\sklearn\\base.py:420: UserWarning: X does not have valid feature names, but SVC was fitted with feature names\n",
      "  warnings.warn(\n"
     ]
    },
    {
     "name": "stdout",
     "output_type": "stream",
     "text": [
      "[1.]\n",
      "ooo\n",
      "[1.]\n",
      "ooo\n",
      "[1.]\n",
      "ooo\n",
      "[1.]\n",
      "ooo\n",
      "[1.]\n",
      "ooo\n",
      "[1.]\n",
      "ooo\n"
     ]
    },
    {
     "name": "stderr",
     "output_type": "stream",
     "text": [
      "C:\\Users\\AISHWARYA UBALE\\anaconda3\\lib\\site-packages\\sklearn\\base.py:420: UserWarning: X does not have valid feature names, but SVC was fitted with feature names\n",
      "  warnings.warn(\n",
      "C:\\Users\\AISHWARYA UBALE\\anaconda3\\lib\\site-packages\\sklearn\\base.py:420: UserWarning: X does not have valid feature names, but SVC was fitted with feature names\n",
      "  warnings.warn(\n",
      "C:\\Users\\AISHWARYA UBALE\\anaconda3\\lib\\site-packages\\sklearn\\base.py:420: UserWarning: X does not have valid feature names, but SVC was fitted with feature names\n",
      "  warnings.warn(\n"
     ]
    }
   ],
   "source": [
    "path = \"C:\\\\Users\\\\AISHWARYA UBALE\\\\Downloads\\\\archive (6)\\\\DATASET\\\\TEST\\\\goddess\"\n",
    "\n",
    "for img in os.listdir(path):\n",
    "\n",
    "        temp = []\n",
    "\n",
    "        img = cv2.imread(path + \"/\" + img)\n",
    "\n",
    "        imageWidth, imageHeight = img.shape[:2]\n",
    "\n",
    "        imgRGB = cv2.cvtColor(img, cv2.COLOR_BGR2RGB)\n",
    "\n",
    "        blackie = np.zeros(img.shape) # Blank image\n",
    "\n",
    "        results = pose.process(imgRGB)\n",
    "\n",
    "        if results.pose_landmarks:\n",
    "\n",
    "                landmarks = results.pose_landmarks.landmark\n",
    "\n",
    "                for i,j in zip(points,landmarks):\n",
    "\n",
    "                        temp = temp + [j.x, j.y, j.z, j.visibility]\n",
    "                \n",
    "                y = model.predict([temp])\n",
    "                print(y)\n",
    "                if y == 0:\n",
    "                    asan = \"goddess\"\n",
    "                else:\n",
    "                    asan = \"ooo\"\n",
    "\n",
    "                print(asan)"
   ]
  },
  {
   "cell_type": "code",
   "execution_count": null,
   "id": "d14ee0c8",
   "metadata": {},
   "outputs": [],
   "source": [
    "path = \"C:\\\\Users\\\\AISHWARYA UBALE\\\\Downloads\\\\archive (6)\\\\DATASET\\\\TEST\"\n",
    "\n",
    "counterfolder = 0;\n",
    "for imgfolder in os.listdir(path):\n",
    "    print(imgfolder)\n",
    "    imgpath = path + \"//\" + imgfolder\n",
    "    for img in os.listdir(imgpath):\n",
    "        \n",
    "        temp = []\n",
    "        #print(img)\n",
    "        img = cv2.imread(imgpath + \"/\" + img)\n",
    "        \n",
    "        imageWidth, imageHeight = img.shape[:2]\n",
    "\n",
    "        imgRGB = cv2.cvtColor(img, cv2.COLOR_BGR2RGB)\n",
    "\n",
    "        blackie = np.zeros(img.shape) # Blank image\n",
    "\n",
    "        results = pose.process(imgRGB)\n",
    "\n",
    "        if results.pose_landmarks:\n",
    "\n",
    "                # mpDraw.draw_landmarks(img, results.pose_landmarks, mpPose.POSE_CONNECTIONS) #draw landmarks on image\n",
    "\n",
    "                mpDraw.draw_landmarks(blackie, results.pose_landmarks, mpPose.POSE_CONNECTIONS) # draw landmarks on blackie\n",
    "\n",
    "                landmarks = results.pose_landmarks.landmark\n",
    "\n",
    "                #***#\n",
    "                \n",
    "                if results.pose_landmarks:\n",
    "\n",
    "                landmarks = results.pose_landmarks.landmark\n",
    "\n",
    "                for i,j in zip(points,landmarks):\n",
    "\n",
    "                        temp = temp + [j.x, j.y, j.z, j.visibility]\n",
    "                \n",
    "                y = model.predict([temp])\n",
    "                print(y)\n",
    "                if y == 0:\n",
    "                    asan = \"goddess\"\n",
    "                else:\n",
    "                    asan = \"ooo\"\n",
    "\n",
    "                print(asan)\n",
    "                \n",
    "                #**#\n",
    "                \n",
    "                for i,j in zip(points,landmarks):\n",
    "\n",
    "                        temp = temp + [j.x, j.y, j.z, j.visibility]\n",
    "                \n",
    "                #Assign target value (0 for the first pose, 1 for the rest)\n",
    "                if imgfolder == \"plank\":\n",
    "                    target = 0 \n",
    "                elif imgfolder == \"warrior2\":\n",
    "                    target = 1\n",
    "                elif imgfolder == \"tree\":\n",
    "                    target = 2 \n",
    "                elif imgfolder == \"goddess\":\n",
    "                    target = 3\n",
    "                elif imgfolder == \"downdog\":\n",
    "                    target = 4\n",
    "                \n",
    "                temp.append(target)\n",
    "                \n",
    "                data.loc[count] = temp\n",
    "\n",
    "                count +=1\n",
    "\n",
    "        #cv2.imshow(\"Image\", img)\n",
    "\n",
    "        #cv2.imshow(\"blackie\",blackie)\n",
    "\n",
    "        #cv2.waitKey(100)\n",
    "\n",
    "data.to_csv(\"testing_dataset3_with target_allposses.csv\") # save the data as a csv file"
   ]
  }
 ],
 "metadata": {
  "kernelspec": {
   "display_name": "Python 3 (ipykernel)",
   "language": "python",
   "name": "python3"
  },
  "language_info": {
   "codemirror_mode": {
    "name": "ipython",
    "version": 3
   },
   "file_extension": ".py",
   "mimetype": "text/x-python",
   "name": "python",
   "nbconvert_exporter": "python",
   "pygments_lexer": "ipython3",
   "version": "3.10.9"
  }
 },
 "nbformat": 4,
 "nbformat_minor": 5
}
