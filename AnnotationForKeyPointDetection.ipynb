{
 "cells": [
  {
   "cell_type": "code",
   "execution_count": 143,
   "id": "f9aeef80",
   "metadata": {},
   "outputs": [],
   "source": [
    "#!pip install mediapipe"
   ]
  },
  {
   "cell_type": "code",
   "execution_count": 155,
   "id": "69d7f1b4",
   "metadata": {},
   "outputs": [],
   "source": [
    "import mediapipe as mp\n",
    "import cv2\n",
    "import time\n",
    "import numpy as np\n",
    "import pandas as pd\n",
    "import os"
   ]
  },
  {
   "cell_type": "code",
   "execution_count": 156,
   "id": "eadc1a0a",
   "metadata": {},
   "outputs": [],
   "source": [
    "mpPose = mp.solutions.pose\n",
    "pose = mpPose.Pose()\n",
    "mpDraw = mp.solutions.drawing_utils # For drawing keypoints\n",
    "points = mpPose.PoseLandmark # Landmarks\n",
    "path = \"C:\\\\Users\\\\AISHWARYA UBALE\\\\Downloads\\\\archive (6)\\\\DATASET\\\\TRAIN\" # enter dataset path\n",
    "data = []\n",
    "for p in points:\n",
    "        x = str(p)[13:]\n",
    "        data.append(x + \"_x\")\n",
    "        data.append(x + \"_y\")\n",
    "        data.append(x + \"_z\")\n",
    "        data.append(x + \"_vis\")\n",
    "\n",
    "data.append(\"target\")\n",
    "data = pd.DataFrame(columns = data) # Empty dataset"
   ]
  },
  {
   "cell_type": "code",
   "execution_count": 157,
   "id": "fc0ae837",
   "metadata": {},
   "outputs": [
    {
     "name": "stdout",
     "output_type": "stream",
     "text": [
      "NOSE\n",
      "LEFT_EYE_INNER\n",
      "LEFT_EYE\n",
      "LEFT_EYE_OUTER\n",
      "RIGHT_EYE_INNER\n",
      "RIGHT_EYE\n",
      "RIGHT_EYE_OUTER\n",
      "LEFT_EAR\n",
      "RIGHT_EAR\n",
      "MOUTH_LEFT\n",
      "MOUTH_RIGHT\n",
      "LEFT_SHOULDER\n",
      "RIGHT_SHOULDER\n",
      "LEFT_ELBOW\n",
      "RIGHT_ELBOW\n",
      "LEFT_WRIST\n",
      "RIGHT_WRIST\n",
      "LEFT_PINKY\n",
      "RIGHT_PINKY\n",
      "LEFT_INDEX\n",
      "RIGHT_INDEX\n",
      "LEFT_THUMB\n",
      "RIGHT_THUMB\n",
      "LEFT_HIP\n",
      "RIGHT_HIP\n",
      "LEFT_KNEE\n",
      "RIGHT_KNEE\n",
      "LEFT_ANKLE\n",
      "RIGHT_ANKLE\n",
      "LEFT_HEEL\n",
      "RIGHT_HEEL\n",
      "LEFT_FOOT_INDEX\n",
      "RIGHT_FOOT_INDEX\n"
     ]
    },
    {
     "data": {
      "text/plain": [
       "33"
      ]
     },
     "execution_count": 157,
     "metadata": {},
     "output_type": "execute_result"
    }
   ],
   "source": [
    "import mediapipe as mp\n",
    "\n",
    "# Assume mpPose.PoseLandmark is the enum variable\n",
    "points = mp.solutions.pose.PoseLandmark\n",
    "\n",
    "# Print the names of the landmarks\n",
    "for landmark in points:\n",
    "    print(landmark.name)\n",
    "\n",
    "\n",
    "    \n",
    "len(points)"
   ]
  },
  {
   "cell_type": "code",
   "execution_count": 158,
   "id": "b2d7106a",
   "metadata": {},
   "outputs": [
    {
     "data": {
      "text/plain": [
       "pandas.core.frame.DataFrame"
      ]
     },
     "execution_count": 158,
     "metadata": {},
     "output_type": "execute_result"
    }
   ],
   "source": [
    "type(data)"
   ]
  },
  {
   "cell_type": "code",
   "execution_count": 159,
   "id": "458c756b",
   "metadata": {},
   "outputs": [
    {
     "data": {
      "text/html": [
       "<div>\n",
       "<style scoped>\n",
       "    .dataframe tbody tr th:only-of-type {\n",
       "        vertical-align: middle;\n",
       "    }\n",
       "\n",
       "    .dataframe tbody tr th {\n",
       "        vertical-align: top;\n",
       "    }\n",
       "\n",
       "    .dataframe thead th {\n",
       "        text-align: right;\n",
       "    }\n",
       "</style>\n",
       "<table border=\"1\" class=\"dataframe\">\n",
       "  <thead>\n",
       "    <tr style=\"text-align: right;\">\n",
       "      <th></th>\n",
       "      <th>NOSE_x</th>\n",
       "      <th>NOSE_y</th>\n",
       "      <th>NOSE_z</th>\n",
       "      <th>NOSE_vis</th>\n",
       "      <th>LEFT_EYE_INNER_x</th>\n",
       "      <th>LEFT_EYE_INNER_y</th>\n",
       "      <th>LEFT_EYE_INNER_z</th>\n",
       "      <th>LEFT_EYE_INNER_vis</th>\n",
       "      <th>LEFT_EYE_x</th>\n",
       "      <th>LEFT_EYE_y</th>\n",
       "      <th>...</th>\n",
       "      <th>RIGHT_HEEL_vis</th>\n",
       "      <th>LEFT_FOOT_INDEX_x</th>\n",
       "      <th>LEFT_FOOT_INDEX_y</th>\n",
       "      <th>LEFT_FOOT_INDEX_z</th>\n",
       "      <th>LEFT_FOOT_INDEX_vis</th>\n",
       "      <th>RIGHT_FOOT_INDEX_x</th>\n",
       "      <th>RIGHT_FOOT_INDEX_y</th>\n",
       "      <th>RIGHT_FOOT_INDEX_z</th>\n",
       "      <th>RIGHT_FOOT_INDEX_vis</th>\n",
       "      <th>target</th>\n",
       "    </tr>\n",
       "  </thead>\n",
       "  <tbody>\n",
       "  </tbody>\n",
       "</table>\n",
       "<p>0 rows × 133 columns</p>\n",
       "</div>"
      ],
      "text/plain": [
       "Empty DataFrame\n",
       "Columns: [NOSE_x, NOSE_y, NOSE_z, NOSE_vis, LEFT_EYE_INNER_x, LEFT_EYE_INNER_y, LEFT_EYE_INNER_z, LEFT_EYE_INNER_vis, LEFT_EYE_x, LEFT_EYE_y, LEFT_EYE_z, LEFT_EYE_vis, LEFT_EYE_OUTER_x, LEFT_EYE_OUTER_y, LEFT_EYE_OUTER_z, LEFT_EYE_OUTER_vis, RIGHT_EYE_INNER_x, RIGHT_EYE_INNER_y, RIGHT_EYE_INNER_z, RIGHT_EYE_INNER_vis, RIGHT_EYE_x, RIGHT_EYE_y, RIGHT_EYE_z, RIGHT_EYE_vis, RIGHT_EYE_OUTER_x, RIGHT_EYE_OUTER_y, RIGHT_EYE_OUTER_z, RIGHT_EYE_OUTER_vis, LEFT_EAR_x, LEFT_EAR_y, LEFT_EAR_z, LEFT_EAR_vis, RIGHT_EAR_x, RIGHT_EAR_y, RIGHT_EAR_z, RIGHT_EAR_vis, MOUTH_LEFT_x, MOUTH_LEFT_y, MOUTH_LEFT_z, MOUTH_LEFT_vis, MOUTH_RIGHT_x, MOUTH_RIGHT_y, MOUTH_RIGHT_z, MOUTH_RIGHT_vis, LEFT_SHOULDER_x, LEFT_SHOULDER_y, LEFT_SHOULDER_z, LEFT_SHOULDER_vis, RIGHT_SHOULDER_x, RIGHT_SHOULDER_y, RIGHT_SHOULDER_z, RIGHT_SHOULDER_vis, LEFT_ELBOW_x, LEFT_ELBOW_y, LEFT_ELBOW_z, LEFT_ELBOW_vis, RIGHT_ELBOW_x, RIGHT_ELBOW_y, RIGHT_ELBOW_z, RIGHT_ELBOW_vis, LEFT_WRIST_x, LEFT_WRIST_y, LEFT_WRIST_z, LEFT_WRIST_vis, RIGHT_WRIST_x, RIGHT_WRIST_y, RIGHT_WRIST_z, RIGHT_WRIST_vis, LEFT_PINKY_x, LEFT_PINKY_y, LEFT_PINKY_z, LEFT_PINKY_vis, RIGHT_PINKY_x, RIGHT_PINKY_y, RIGHT_PINKY_z, RIGHT_PINKY_vis, LEFT_INDEX_x, LEFT_INDEX_y, LEFT_INDEX_z, LEFT_INDEX_vis, RIGHT_INDEX_x, RIGHT_INDEX_y, RIGHT_INDEX_z, RIGHT_INDEX_vis, LEFT_THUMB_x, LEFT_THUMB_y, LEFT_THUMB_z, LEFT_THUMB_vis, RIGHT_THUMB_x, RIGHT_THUMB_y, RIGHT_THUMB_z, RIGHT_THUMB_vis, LEFT_HIP_x, LEFT_HIP_y, LEFT_HIP_z, LEFT_HIP_vis, RIGHT_HIP_x, RIGHT_HIP_y, RIGHT_HIP_z, RIGHT_HIP_vis, ...]\n",
       "Index: []\n",
       "\n",
       "[0 rows x 133 columns]"
      ]
     },
     "execution_count": 159,
     "metadata": {},
     "output_type": "execute_result"
    }
   ],
   "source": [
    "data.head()"
   ]
  },
  {
   "cell_type": "code",
   "execution_count": 63,
   "id": "31244d03",
   "metadata": {},
   "outputs": [],
   "source": [
    "#Original\n",
    "# count = 0\n",
    "\n",
    "# for img in os.listdir(path):\n",
    "\n",
    "#         temp = []\n",
    "\n",
    "#         img = cv2.imread(path + \"/\" + img)\n",
    "\n",
    "#         imageWidth, imageHeight = img.shape[:2]\n",
    "\n",
    "#         imgRGB = cv2.cvtColor(img, cv2.COLOR_BGR2RGB)\n",
    "\n",
    "#         blackie = np.zeros(img.shape) # Blank image\n",
    "\n",
    "#         results = pose.process(imgRGB)\n",
    "\n",
    "#         if results.pose_landmarks:\n",
    "\n",
    "#                 # mpDraw.draw_landmarks(img, results.pose_landmarks, mpPose.POSE_CONNECTIONS) #draw landmarks on image\n",
    "\n",
    "#                 mpDraw.draw_landmarks(blackie, results.pose_landmarks, mpPose.POSE_CONNECTIONS) # draw landmarks on blackie\n",
    "\n",
    "#                 landmarks = results.pose_landmarks.landmark\n",
    "\n",
    "#                 for i,j in zip(points,landmarks):\n",
    "\n",
    "#                         temp = temp + [j.x, j.y, j.z, j.visibility]\n",
    "                \n",
    "#                 #Assign target value (0 for the first pose, 1 for the rest)\n",
    "#                 if\n",
    "#                 target = 80 if count <= 20 else 1\n",
    "                \n",
    "#                 temp.append(target)\n",
    "                \n",
    "#                 data.loc[count] = temp\n",
    "\n",
    "#                 count +=1\n",
    "\n",
    "#         #cv2.imshow(\"Image\", img)\n",
    "\n",
    "#         #cv2.imshow(\"blackie\",blackie)\n",
    "\n",
    "#         #cv2.waitKey(100)\n",
    "\n",
    "# data.to_csv(\"dataset3_with target1.csv\") # save the data as a csv file"
   ]
  },
  {
   "cell_type": "code",
   "execution_count": 160,
   "id": "124a0a11",
   "metadata": {},
   "outputs": [
    {
     "name": "stdout",
     "output_type": "stream",
     "text": [
      "downdog\n",
      "goddess\n",
      "plank\n",
      "tree\n",
      "warrior2\n"
     ]
    }
   ],
   "source": [
    "path = \"C:\\\\Users\\\\AISHWARYA UBALE\\\\Downloads\\\\archive (6)\\\\DATASET\\\\TRAIN\"\n",
    "\n",
    "counterfolder = 0;\n",
    "for imgfolder in os.listdir(path):\n",
    "    print(imgfolder)\n",
    "    imgpath = path + \"//\" + imgfolder\n",
    "    for img in os.listdir(imgpath):\n",
    "        \n",
    "        temp = []\n",
    "        #print(img)\n",
    "        img = cv2.imread(imgpath + \"/\" + img)\n",
    "        \n",
    "        imageWidth, imageHeight = img.shape[:2]\n",
    "\n",
    "        imgRGB = cv2.cvtColor(img, cv2.COLOR_BGR2RGB)\n",
    "\n",
    "        blackie = np.zeros(img.shape) # Blank image\n",
    "\n",
    "        results = pose.process(imgRGB)\n",
    "\n",
    "        if results.pose_landmarks:\n",
    "\n",
    "                # mpDraw.draw_landmarks(img, results.pose_landmarks, mpPose.POSE_CONNECTIONS) #draw landmarks on image\n",
    "\n",
    "                mpDraw.draw_landmarks(blackie, results.pose_landmarks, mpPose.POSE_CONNECTIONS) # draw landmarks on blackie\n",
    "\n",
    "                landmarks = results.pose_landmarks.landmark\n",
    "\n",
    "                for i,j in zip(points,landmarks):\n",
    "\n",
    "                        temp = temp + [j.x, j.y, j.z, j.visibility]\n",
    "                \n",
    "                #Assign target value (0 for the first pose, 1 for the rest)\n",
    "                if imgfolder == \"plank\":\n",
    "                    target = 0 \n",
    "                elif imgfolder == \"warrior2\":\n",
    "                    target = 1\n",
    "                elif imgfolder == \"tree\":\n",
    "                    target = 2 \n",
    "                elif imgfolder == \"goddess\":\n",
    "                    target = 3\n",
    "                elif imgfolder == \"downdog\":\n",
    "                    target = 4\n",
    "                \n",
    "                temp.append(target)\n",
    "                \n",
    "                data.loc[count] = temp\n",
    "\n",
    "                count +=1\n",
    "\n",
    "        #cv2.imshow(\"Image\", img)\n",
    "\n",
    "        #cv2.imshow(\"blackie\",blackie)\n",
    "\n",
    "        #cv2.waitKey(100)\n",
    "\n",
    "data.to_csv(\"training_dataset3_with target_allposses.csv\") # save the data as a csv file"
   ]
  },
  {
   "cell_type": "code",
   "execution_count": 162,
   "id": "ad02fd2e",
   "metadata": {},
   "outputs": [
    {
     "name": "stdout",
     "output_type": "stream",
     "text": [
      "downdog\n",
      "goddess\n",
      "plank\n",
      "tree\n",
      "warrior2\n"
     ]
    }
   ],
   "source": [
    "path = \"C:\\\\Users\\\\AISHWARYA UBALE\\\\Downloads\\\\archive (6)\\\\DATASET\\\\TEST\"\n",
    "\n",
    "data.drop(data.index, inplace=True)\n",
    "counterfolder = 0;\n",
    "for imgfolder in os.listdir(path):\n",
    "    print(imgfolder)\n",
    "    imgpath = path + \"//\" + imgfolder\n",
    "    for img in os.listdir(imgpath):\n",
    "        \n",
    "        temp = []\n",
    "        #print(img)\n",
    "        img = cv2.imread(imgpath + \"/\" + img)\n",
    "        \n",
    "        imageWidth, imageHeight = img.shape[:2]\n",
    "\n",
    "        imgRGB = cv2.cvtColor(img, cv2.COLOR_BGR2RGB)\n",
    "\n",
    "        blackie = np.zeros(img.shape) # Blank image\n",
    "\n",
    "        results = pose.process(imgRGB)\n",
    "\n",
    "        if results.pose_landmarks:\n",
    "\n",
    "                # mpDraw.draw_landmarks(img, results.pose_landmarks, mpPose.POSE_CONNECTIONS) #draw landmarks on image\n",
    "\n",
    "                mpDraw.draw_landmarks(blackie, results.pose_landmarks, mpPose.POSE_CONNECTIONS) # draw landmarks on blackie\n",
    "\n",
    "                landmarks = results.pose_landmarks.landmark\n",
    "\n",
    "                for i,j in zip(points,landmarks):\n",
    "\n",
    "                        temp = temp + [j.x, j.y, j.z, j.visibility]\n",
    "                \n",
    "                #Assign target value (0 for the first pose, 1 for the rest)\n",
    "                if imgfolder == \"plank\":\n",
    "                    target = 0 \n",
    "                elif imgfolder == \"warrior2\":\n",
    "                    target = 1\n",
    "                elif imgfolder == \"tree\":\n",
    "                    target = 2 \n",
    "                elif imgfolder == \"goddess\":\n",
    "                    target = 3\n",
    "                elif imgfolder == \"downdog\":\n",
    "                    target = 4\n",
    "                \n",
    "                temp.append(target)\n",
    "                \n",
    "                data.loc[count] = temp\n",
    "\n",
    "                count +=1\n",
    "\n",
    "        #cv2.imshow(\"Image\", img)\n",
    "\n",
    "        #cv2.imshow(\"blackie\",blackie)\n",
    "\n",
    "        #cv2.waitKey(100)\n",
    "\n",
    "data.to_csv(\"testing_dataset3_with target_allposses.csv\") # save the data as a csv file"
   ]
  },
  {
   "cell_type": "code",
   "execution_count": null,
   "id": "7625f5f9",
   "metadata": {},
   "outputs": [],
   "source": []
  },
  {
   "cell_type": "markdown",
   "id": "4f692169",
   "metadata": {},
   "source": [
    "## Now trying to implement the machine learning models:"
   ]
  },
  {
   "cell_type": "code",
   "execution_count": 163,
   "id": "7901dabb",
   "metadata": {},
   "outputs": [],
   "source": [
    "#Read the training dataset:\n",
    "\n",
    "from sklearn.svm import SVC\n",
    "data = pd.read_csv(\"training_dataset3_with target_allposses.csv\")\n",
    "X,Y = data.iloc[:,:132],data['target']"
   ]
  },
  {
   "cell_type": "code",
   "execution_count": 164,
   "id": "5d2fa206",
   "metadata": {},
   "outputs": [],
   "source": [
    "#Read the test dataset\n",
    "\n",
    "data = pd.read_csv(\"testing_dataset3_with target_allposses.csv\")\n",
    "X_test = test_data.iloc[:, :132]\n"
   ]
  },
  {
   "cell_type": "code",
   "execution_count": 165,
   "id": "25280f68",
   "metadata": {},
   "outputs": [],
   "source": [
    "#Pose model extraction\n",
    "\n",
    "mpPose = mp.solutions.pose\n",
    "pose = mpPose.Pose()\n",
    "mpDraw = mp.solutions.drawing_utils"
   ]
  },
  {
   "cell_type": "markdown",
   "id": "c34e784c",
   "metadata": {},
   "source": [
    "### SVC Model"
   ]
  },
  {
   "cell_type": "code",
   "execution_count": 166,
   "id": "e9fe1dbe",
   "metadata": {},
   "outputs": [
    {
     "name": "stdout",
     "output_type": "stream",
     "text": [
      "Accuracy: 0.2091363311920057\n"
     ]
    }
   ],
   "source": [
    "\n",
    "model = SVC(kernel='poly', probability=True)\n",
    "model.fit(X,Y)\n",
    "predictions = model.predict(X_test)\n",
    "actual_labels = test_data['target']\n",
    "\n",
    "from sklearn.metrics import accuracy_score\n",
    "accuracy = accuracy_score(actual_labels, predictions)\n",
    "print(\"Accuracy:\", accuracy)"
   ]
  },
  {
   "cell_type": "code",
   "execution_count": 167,
   "id": "baf10189",
   "metadata": {},
   "outputs": [
    {
     "name": "stdout",
     "output_type": "stream",
     "text": [
      "Prediction Probabilities:\n",
      "[[3.21895642e-14 1.60947821e-14 1.66908851e-14 3.85022126e-14\n",
      "  1.00000000e+00]\n",
      " [3.21895642e-14 1.60947821e-14 1.66908851e-14 3.85022126e-14\n",
      "  1.00000000e+00]\n",
      " [3.21895642e-14 1.60947821e-14 1.66908851e-14 3.85022126e-14\n",
      "  1.00000000e+00]\n",
      " ...\n",
      " [3.21895642e-14 1.60947821e-14 1.66908851e-14 3.85022126e-14\n",
      "  1.00000000e+00]\n",
      " [3.21895642e-14 1.60947821e-14 1.66908851e-14 3.85022126e-14\n",
      "  1.00000000e+00]\n",
      " [3.21895642e-14 1.60947821e-14 1.66908851e-14 3.85022126e-14\n",
      "  1.00000000e+00]]\n"
     ]
    }
   ],
   "source": [
    "predicted_probabilities = model.predict_proba(X_test)\n",
    "\n",
    "# The result is a 2D array where each row corresponds to a data point and contains the probabilities for each class\n",
    "print(\"Prediction Probabilities:\")\n",
    "print(predicted_probabilities)"
   ]
  },
  {
   "cell_type": "markdown",
   "id": "1b94ca69",
   "metadata": {},
   "source": [
    "### Model 2 - Random Forest"
   ]
  },
  {
   "cell_type": "code",
   "execution_count": 168,
   "id": "eae7d754",
   "metadata": {},
   "outputs": [
    {
     "name": "stdout",
     "output_type": "stream",
     "text": [
      "Accuracy: 0.7944325481798715\n"
     ]
    }
   ],
   "source": [
    "from sklearn.ensemble import RandomForestClassifier\n",
    "\n",
    "# Create and train the Random Forest Classifier\n",
    "model = RandomForestClassifier(n_estimators=100, random_state=42)\n",
    "model.fit(X,Y)\n",
    "predictions = model.predict(X_test)\n",
    "actual_labels = test_data['target']\n",
    "\n",
    "from sklearn.metrics import accuracy_score\n",
    "accuracy = accuracy_score(actual_labels, predictions)\n",
    "print(\"Accuracy:\", accuracy)"
   ]
  },
  {
   "cell_type": "code",
   "execution_count": null,
   "id": "ff0c566b",
   "metadata": {},
   "outputs": [],
   "source": []
  },
  {
   "cell_type": "markdown",
   "id": "c2dcb81a",
   "metadata": {},
   "source": [
    "### Model 3- KNN Classifier"
   ]
  },
  {
   "cell_type": "code",
   "execution_count": 169,
   "id": "86ce2e17",
   "metadata": {},
   "outputs": [
    {
     "name": "stdout",
     "output_type": "stream",
     "text": [
      "Accuracy: 0.2091363311920057\n"
     ]
    }
   ],
   "source": [
    "from sklearn.neighbors import KNeighborsClassifier\n",
    "\n",
    "# Create and train the KNN Classifier\n",
    "model = KNeighborsClassifier(n_neighbors=5)\n",
    "model.fit(X, Y)\n",
    "predictions = model.predict(X_test)\n",
    "actual_labels = test_data['target']\n",
    "\n",
    "from sklearn.metrics import accuracy_score\n",
    "accuracy = accuracy_score(actual_labels, predictions)\n",
    "print(\"Accuracy:\", accuracy)"
   ]
  },
  {
   "cell_type": "code",
   "execution_count": null,
   "id": "ba204d14",
   "metadata": {},
   "outputs": [],
   "source": []
  },
  {
   "cell_type": "markdown",
   "id": "75940b3e",
   "metadata": {},
   "source": [
    "### Model 4 - Multinomial Naive Bayes:"
   ]
  },
  {
   "cell_type": "code",
   "execution_count": 172,
   "id": "4a95582a",
   "metadata": {},
   "outputs": [],
   "source": [
    "# from sklearn.naive_bayes import MultinomialNB\n",
    "\n",
    "# # Create and train the Multinomial Naive Bayes Classifier\n",
    "# model = MultinomialNB()\n",
    "# model.fit(X, Y)\n",
    "\n",
    "# predictions = model.predict(X_test)\n",
    "# actual_labels = test_data['target']\n",
    "\n",
    "# from sklearn.metrics import accuracy_score\n",
    "# accuracy = accuracy_score(actual_labels, predictions)\n",
    "# print(\"Accuracy:\", accuracy)"
   ]
  },
  {
   "cell_type": "code",
   "execution_count": null,
   "id": "d53ac9a1",
   "metadata": {},
   "outputs": [],
   "source": []
  },
  {
   "cell_type": "code",
   "execution_count": null,
   "id": "f1e20b25",
   "metadata": {},
   "outputs": [],
   "source": [
    "### Model 5 - "
   ]
  },
  {
   "cell_type": "code",
   "execution_count": 171,
   "id": "f7e5d09f",
   "metadata": {},
   "outputs": [
    {
     "name": "stdout",
     "output_type": "stream",
     "text": [
      "Accuracy: 0.2091363311920057\n"
     ]
    }
   ],
   "source": [
    "from sklearn.ensemble import GradientBoostingClassifier\n",
    "\n",
    "# Create and train the Gradient Boosting Classifier\n",
    "model = GradientBoostingClassifier(n_estimators=100, learning_rate=1.0, max_depth=1, random_state=42)\n",
    "model.fit(X, Y)\n",
    "\n",
    "\n",
    "predictions = model.predict(X_test)\n",
    "actual_labels = test_data['target']\n",
    "\n",
    "from sklearn.metrics import accuracy_score\n",
    "accuracy = accuracy_score(actual_labels, predictions)\n",
    "print(\"Accuracy:\", accuracy)"
   ]
  },
  {
   "cell_type": "code",
   "execution_count": null,
   "id": "b140b0ab",
   "metadata": {},
   "outputs": [],
   "source": []
  },
  {
   "cell_type": "markdown",
   "id": "09dc98e2",
   "metadata": {},
   "source": [
    "### Ignore the following"
   ]
  },
  {
   "cell_type": "code",
   "execution_count": 98,
   "id": "f0eff0a1",
   "metadata": {},
   "outputs": [
    {
     "data": {
      "text/plain": [
       "(966, 132)"
      ]
     },
     "execution_count": 98,
     "metadata": {},
     "output_type": "execute_result"
    }
   ],
   "source": [
    "X.shape"
   ]
  },
  {
   "cell_type": "code",
   "execution_count": 99,
   "id": "0ff0ca0b",
   "metadata": {},
   "outputs": [],
   "source": [
    "results = pose.process(imgRGB)"
   ]
  },
  {
   "cell_type": "code",
   "execution_count": 100,
   "id": "3b20022c",
   "metadata": {},
   "outputs": [],
   "source": [
    "#imgRGB"
   ]
  },
  {
   "cell_type": "code",
   "execution_count": 101,
   "id": "2705c241",
   "metadata": {},
   "outputs": [],
   "source": [
    "#results.pose_landmarks"
   ]
  },
  {
   "cell_type": "code",
   "execution_count": 109,
   "id": "7fe84199",
   "metadata": {},
   "outputs": [],
   "source": [
    "test_data = pd.read_csv(\"testing_dataset3_with target_allposses.csv\")"
   ]
  },
  {
   "cell_type": "code",
   "execution_count": 110,
   "id": "cbd8ce74",
   "metadata": {},
   "outputs": [
    {
     "data": {
      "text/html": [
       "<div>\n",
       "<style scoped>\n",
       "    .dataframe tbody tr th:only-of-type {\n",
       "        vertical-align: middle;\n",
       "    }\n",
       "\n",
       "    .dataframe tbody tr th {\n",
       "        vertical-align: top;\n",
       "    }\n",
       "\n",
       "    .dataframe thead th {\n",
       "        text-align: right;\n",
       "    }\n",
       "</style>\n",
       "<table border=\"1\" class=\"dataframe\">\n",
       "  <thead>\n",
       "    <tr style=\"text-align: right;\">\n",
       "      <th></th>\n",
       "      <th>Unnamed: 0</th>\n",
       "      <th>NOSE_x</th>\n",
       "      <th>NOSE_y</th>\n",
       "      <th>NOSE_z</th>\n",
       "      <th>NOSE_vis</th>\n",
       "      <th>LEFT_EYE_INNER_x</th>\n",
       "      <th>LEFT_EYE_INNER_y</th>\n",
       "      <th>LEFT_EYE_INNER_z</th>\n",
       "      <th>LEFT_EYE_INNER_vis</th>\n",
       "      <th>LEFT_EYE_x</th>\n",
       "      <th>...</th>\n",
       "      <th>RIGHT_HEEL_vis</th>\n",
       "      <th>LEFT_FOOT_INDEX_x</th>\n",
       "      <th>LEFT_FOOT_INDEX_y</th>\n",
       "      <th>LEFT_FOOT_INDEX_z</th>\n",
       "      <th>LEFT_FOOT_INDEX_vis</th>\n",
       "      <th>RIGHT_FOOT_INDEX_x</th>\n",
       "      <th>RIGHT_FOOT_INDEX_y</th>\n",
       "      <th>RIGHT_FOOT_INDEX_z</th>\n",
       "      <th>RIGHT_FOOT_INDEX_vis</th>\n",
       "      <th>target</th>\n",
       "    </tr>\n",
       "  </thead>\n",
       "  <tbody>\n",
       "    <tr>\n",
       "      <th>0</th>\n",
       "      <td>1045</td>\n",
       "      <td>0.441700</td>\n",
       "      <td>0.694201</td>\n",
       "      <td>-0.096439</td>\n",
       "      <td>0.997566</td>\n",
       "      <td>0.416444</td>\n",
       "      <td>0.695569</td>\n",
       "      <td>-0.137276</td>\n",
       "      <td>0.998209</td>\n",
       "      <td>0.413817</td>\n",
       "      <td>...</td>\n",
       "      <td>0.413311</td>\n",
       "      <td>0.825927</td>\n",
       "      <td>0.860303</td>\n",
       "      <td>-0.317801</td>\n",
       "      <td>0.972257</td>\n",
       "      <td>0.809430</td>\n",
       "      <td>0.840739</td>\n",
       "      <td>0.287854</td>\n",
       "      <td>0.439358</td>\n",
       "      <td>4.0</td>\n",
       "    </tr>\n",
       "    <tr>\n",
       "      <th>1</th>\n",
       "      <td>1046</td>\n",
       "      <td>0.378846</td>\n",
       "      <td>0.717390</td>\n",
       "      <td>-0.020918</td>\n",
       "      <td>0.997744</td>\n",
       "      <td>0.360062</td>\n",
       "      <td>0.707027</td>\n",
       "      <td>-0.065380</td>\n",
       "      <td>0.998329</td>\n",
       "      <td>0.359729</td>\n",
       "      <td>...</td>\n",
       "      <td>0.420324</td>\n",
       "      <td>0.794249</td>\n",
       "      <td>0.955767</td>\n",
       "      <td>-0.372992</td>\n",
       "      <td>0.972202</td>\n",
       "      <td>0.776637</td>\n",
       "      <td>0.924903</td>\n",
       "      <td>0.338004</td>\n",
       "      <td>0.441726</td>\n",
       "      <td>4.0</td>\n",
       "    </tr>\n",
       "    <tr>\n",
       "      <th>2</th>\n",
       "      <td>1047</td>\n",
       "      <td>0.394866</td>\n",
       "      <td>0.642226</td>\n",
       "      <td>-0.021269</td>\n",
       "      <td>0.997950</td>\n",
       "      <td>0.369800</td>\n",
       "      <td>0.646245</td>\n",
       "      <td>-0.055329</td>\n",
       "      <td>0.998481</td>\n",
       "      <td>0.367126</td>\n",
       "      <td>...</td>\n",
       "      <td>0.418572</td>\n",
       "      <td>0.806704</td>\n",
       "      <td>0.843974</td>\n",
       "      <td>-0.208756</td>\n",
       "      <td>0.972188</td>\n",
       "      <td>0.801038</td>\n",
       "      <td>0.827370</td>\n",
       "      <td>0.289733</td>\n",
       "      <td>0.449103</td>\n",
       "      <td>4.0</td>\n",
       "    </tr>\n",
       "    <tr>\n",
       "      <th>3</th>\n",
       "      <td>1048</td>\n",
       "      <td>0.569671</td>\n",
       "      <td>0.566876</td>\n",
       "      <td>-0.119233</td>\n",
       "      <td>0.998152</td>\n",
       "      <td>0.560455</td>\n",
       "      <td>0.588558</td>\n",
       "      <td>-0.165436</td>\n",
       "      <td>0.998632</td>\n",
       "      <td>0.558476</td>\n",
       "      <td>...</td>\n",
       "      <td>0.428230</td>\n",
       "      <td>0.848695</td>\n",
       "      <td>0.741254</td>\n",
       "      <td>0.262044</td>\n",
       "      <td>0.970567</td>\n",
       "      <td>0.812981</td>\n",
       "      <td>0.713256</td>\n",
       "      <td>0.615784</td>\n",
       "      <td>0.471292</td>\n",
       "      <td>4.0</td>\n",
       "    </tr>\n",
       "    <tr>\n",
       "      <th>4</th>\n",
       "      <td>1049</td>\n",
       "      <td>0.507775</td>\n",
       "      <td>0.584656</td>\n",
       "      <td>-0.417670</td>\n",
       "      <td>0.996134</td>\n",
       "      <td>0.205885</td>\n",
       "      <td>0.584777</td>\n",
       "      <td>-0.424889</td>\n",
       "      <td>0.997142</td>\n",
       "      <td>0.257835</td>\n",
       "      <td>...</td>\n",
       "      <td>0.473842</td>\n",
       "      <td>0.566466</td>\n",
       "      <td>0.735029</td>\n",
       "      <td>0.309761</td>\n",
       "      <td>0.950016</td>\n",
       "      <td>0.161110</td>\n",
       "      <td>0.789532</td>\n",
       "      <td>-0.315338</td>\n",
       "      <td>0.512743</td>\n",
       "      <td>4.0</td>\n",
       "    </tr>\n",
       "  </tbody>\n",
       "</table>\n",
       "<p>5 rows × 134 columns</p>\n",
       "</div>"
      ],
      "text/plain": [
       "   Unnamed: 0    NOSE_x    NOSE_y    NOSE_z  NOSE_vis  LEFT_EYE_INNER_x  \\\n",
       "0        1045  0.441700  0.694201 -0.096439  0.997566          0.416444   \n",
       "1        1046  0.378846  0.717390 -0.020918  0.997744          0.360062   \n",
       "2        1047  0.394866  0.642226 -0.021269  0.997950          0.369800   \n",
       "3        1048  0.569671  0.566876 -0.119233  0.998152          0.560455   \n",
       "4        1049  0.507775  0.584656 -0.417670  0.996134          0.205885   \n",
       "\n",
       "   LEFT_EYE_INNER_y  LEFT_EYE_INNER_z  LEFT_EYE_INNER_vis  LEFT_EYE_x  ...  \\\n",
       "0          0.695569         -0.137276            0.998209    0.413817  ...   \n",
       "1          0.707027         -0.065380            0.998329    0.359729  ...   \n",
       "2          0.646245         -0.055329            0.998481    0.367126  ...   \n",
       "3          0.588558         -0.165436            0.998632    0.558476  ...   \n",
       "4          0.584777         -0.424889            0.997142    0.257835  ...   \n",
       "\n",
       "   RIGHT_HEEL_vis  LEFT_FOOT_INDEX_x  LEFT_FOOT_INDEX_y  LEFT_FOOT_INDEX_z  \\\n",
       "0        0.413311           0.825927           0.860303          -0.317801   \n",
       "1        0.420324           0.794249           0.955767          -0.372992   \n",
       "2        0.418572           0.806704           0.843974          -0.208756   \n",
       "3        0.428230           0.848695           0.741254           0.262044   \n",
       "4        0.473842           0.566466           0.735029           0.309761   \n",
       "\n",
       "   LEFT_FOOT_INDEX_vis  RIGHT_FOOT_INDEX_x  RIGHT_FOOT_INDEX_y  \\\n",
       "0             0.972257            0.809430            0.840739   \n",
       "1             0.972202            0.776637            0.924903   \n",
       "2             0.972188            0.801038            0.827370   \n",
       "3             0.970567            0.812981            0.713256   \n",
       "4             0.950016            0.161110            0.789532   \n",
       "\n",
       "   RIGHT_FOOT_INDEX_z  RIGHT_FOOT_INDEX_vis  target  \n",
       "0            0.287854              0.439358     4.0  \n",
       "1            0.338004              0.441726     4.0  \n",
       "2            0.289733              0.449103     4.0  \n",
       "3            0.615784              0.471292     4.0  \n",
       "4           -0.315338              0.512743     4.0  \n",
       "\n",
       "[5 rows x 134 columns]"
      ]
     },
     "execution_count": 110,
     "metadata": {},
     "output_type": "execute_result"
    }
   ],
   "source": [
    "test_data.head(5)"
   ]
  },
  {
   "cell_type": "code",
   "execution_count": 112,
   "id": "e9e95c91",
   "metadata": {},
   "outputs": [
    {
     "ename": "AttributeError",
     "evalue": "'str' object has no attribute 'x'",
     "output_type": "error",
     "traceback": [
      "\u001b[1;31m---------------------------------------------------------------------------\u001b[0m",
      "\u001b[1;31mAttributeError\u001b[0m                            Traceback (most recent call last)",
      "Cell \u001b[1;32mIn[112], line 4\u001b[0m\n\u001b[0;32m      1\u001b[0m temp \u001b[38;5;241m=\u001b[39m []\n\u001b[0;32m      3\u001b[0m \u001b[38;5;28;01mfor\u001b[39;00m i,j \u001b[38;5;129;01min\u001b[39;00m \u001b[38;5;28mzip\u001b[39m(points,test_data):\n\u001b[1;32m----> 4\u001b[0m     temp \u001b[38;5;241m=\u001b[39m temp \u001b[38;5;241m+\u001b[39m [\u001b[43mj\u001b[49m\u001b[38;5;241;43m.\u001b[39;49m\u001b[43mx\u001b[49m, j\u001b[38;5;241m.\u001b[39my, j\u001b[38;5;241m.\u001b[39mz, j\u001b[38;5;241m.\u001b[39mvisibility]\n\u001b[0;32m      5\u001b[0m     \u001b[38;5;28mprint\u001b[39m(temp)\n\u001b[0;32m      6\u001b[0m     \u001b[38;5;28;01mbreak\u001b[39;00m\n",
      "\u001b[1;31mAttributeError\u001b[0m: 'str' object has no attribute 'x'"
     ]
    }
   ],
   "source": [
    "\n",
    "temp = []\n",
    "\n",
    "for i,j in zip(points,test_data):\n",
    "    temp = temp + [j.x, j.y, j.z, j.visibility]\n",
    "    print(temp)\n",
    "    break"
   ]
  },
  {
   "cell_type": "code",
   "execution_count": 75,
   "id": "bc2bf3c9",
   "metadata": {
    "scrolled": true
   },
   "outputs": [
    {
     "name": "stdout",
     "output_type": "stream",
     "text": [
      "[1.]\n",
      "ooo\n"
     ]
    },
    {
     "name": "stderr",
     "output_type": "stream",
     "text": [
      "C:\\Users\\AISHWARYA UBALE\\anaconda3\\lib\\site-packages\\sklearn\\base.py:420: UserWarning: X does not have valid feature names, but SVC was fitted with feature names\n",
      "  warnings.warn(\n"
     ]
    }
   ],
   "source": [
    "\n",
    "y = model.predict([temp])\n",
    "print(y)\n",
    "if y == 0:\n",
    "    asan = \"goddess\"\n",
    "else:\n",
    "    asan = \"ooo\"\n",
    "    print(asan)\n"
   ]
  },
  {
   "cell_type": "code",
   "execution_count": null,
   "id": "4c31efff",
   "metadata": {},
   "outputs": [],
   "source": []
  },
  {
   "cell_type": "code",
   "execution_count": 72,
   "id": "f1a75caf",
   "metadata": {},
   "outputs": [
    {
     "name": "stderr",
     "output_type": "stream",
     "text": [
      "C:\\Users\\AISHWARYA UBALE\\anaconda3\\lib\\site-packages\\sklearn\\base.py:420: UserWarning: X does not have valid feature names, but SVC was fitted with feature names\n",
      "  warnings.warn(\n",
      "C:\\Users\\AISHWARYA UBALE\\anaconda3\\lib\\site-packages\\sklearn\\base.py:420: UserWarning: X does not have valid feature names, but SVC was fitted with feature names\n",
      "  warnings.warn(\n",
      "C:\\Users\\AISHWARYA UBALE\\anaconda3\\lib\\site-packages\\sklearn\\base.py:420: UserWarning: X does not have valid feature names, but SVC was fitted with feature names\n",
      "  warnings.warn(\n"
     ]
    },
    {
     "name": "stdout",
     "output_type": "stream",
     "text": [
      "[1.]\n",
      "ooo\n",
      "[1.]\n",
      "ooo\n",
      "[1.]\n",
      "ooo\n"
     ]
    },
    {
     "name": "stderr",
     "output_type": "stream",
     "text": [
      "C:\\Users\\AISHWARYA UBALE\\anaconda3\\lib\\site-packages\\sklearn\\base.py:420: UserWarning: X does not have valid feature names, but SVC was fitted with feature names\n",
      "  warnings.warn(\n",
      "C:\\Users\\AISHWARYA UBALE\\anaconda3\\lib\\site-packages\\sklearn\\base.py:420: UserWarning: X does not have valid feature names, but SVC was fitted with feature names\n",
      "  warnings.warn(\n",
      "C:\\Users\\AISHWARYA UBALE\\anaconda3\\lib\\site-packages\\sklearn\\base.py:420: UserWarning: X does not have valid feature names, but SVC was fitted with feature names\n",
      "  warnings.warn(\n"
     ]
    },
    {
     "name": "stdout",
     "output_type": "stream",
     "text": [
      "[1.]\n",
      "ooo\n",
      "[1.]\n",
      "ooo\n",
      "[1.]\n",
      "ooo\n"
     ]
    },
    {
     "name": "stderr",
     "output_type": "stream",
     "text": [
      "C:\\Users\\AISHWARYA UBALE\\anaconda3\\lib\\site-packages\\sklearn\\base.py:420: UserWarning: X does not have valid feature names, but SVC was fitted with feature names\n",
      "  warnings.warn(\n",
      "C:\\Users\\AISHWARYA UBALE\\anaconda3\\lib\\site-packages\\sklearn\\base.py:420: UserWarning: X does not have valid feature names, but SVC was fitted with feature names\n",
      "  warnings.warn(\n"
     ]
    },
    {
     "name": "stdout",
     "output_type": "stream",
     "text": [
      "[1.]\n",
      "ooo\n",
      "[1.]\n",
      "ooo\n"
     ]
    },
    {
     "name": "stderr",
     "output_type": "stream",
     "text": [
      "C:\\Users\\AISHWARYA UBALE\\anaconda3\\lib\\site-packages\\sklearn\\base.py:420: UserWarning: X does not have valid feature names, but SVC was fitted with feature names\n",
      "  warnings.warn(\n",
      "C:\\Users\\AISHWARYA UBALE\\anaconda3\\lib\\site-packages\\sklearn\\base.py:420: UserWarning: X does not have valid feature names, but SVC was fitted with feature names\n",
      "  warnings.warn(\n",
      "C:\\Users\\AISHWARYA UBALE\\anaconda3\\lib\\site-packages\\sklearn\\base.py:420: UserWarning: X does not have valid feature names, but SVC was fitted with feature names\n",
      "  warnings.warn(\n",
      "C:\\Users\\AISHWARYA UBALE\\anaconda3\\lib\\site-packages\\sklearn\\base.py:420: UserWarning: X does not have valid feature names, but SVC was fitted with feature names\n",
      "  warnings.warn(\n"
     ]
    },
    {
     "name": "stdout",
     "output_type": "stream",
     "text": [
      "[1.]\n",
      "ooo\n",
      "[1.]\n",
      "ooo\n",
      "[1.]\n",
      "ooo\n",
      "[1.]\n",
      "ooo\n"
     ]
    },
    {
     "name": "stderr",
     "output_type": "stream",
     "text": [
      "C:\\Users\\AISHWARYA UBALE\\anaconda3\\lib\\site-packages\\sklearn\\base.py:420: UserWarning: X does not have valid feature names, but SVC was fitted with feature names\n",
      "  warnings.warn(\n",
      "C:\\Users\\AISHWARYA UBALE\\anaconda3\\lib\\site-packages\\sklearn\\base.py:420: UserWarning: X does not have valid feature names, but SVC was fitted with feature names\n",
      "  warnings.warn(\n",
      "C:\\Users\\AISHWARYA UBALE\\anaconda3\\lib\\site-packages\\sklearn\\base.py:420: UserWarning: X does not have valid feature names, but SVC was fitted with feature names\n",
      "  warnings.warn(\n"
     ]
    },
    {
     "name": "stdout",
     "output_type": "stream",
     "text": [
      "[1.]\n",
      "ooo\n",
      "[1.]\n",
      "ooo\n",
      "[1.]\n",
      "ooo\n"
     ]
    },
    {
     "name": "stderr",
     "output_type": "stream",
     "text": [
      "C:\\Users\\AISHWARYA UBALE\\anaconda3\\lib\\site-packages\\sklearn\\base.py:420: UserWarning: X does not have valid feature names, but SVC was fitted with feature names\n",
      "  warnings.warn(\n",
      "C:\\Users\\AISHWARYA UBALE\\anaconda3\\lib\\site-packages\\sklearn\\base.py:420: UserWarning: X does not have valid feature names, but SVC was fitted with feature names\n",
      "  warnings.warn(\n"
     ]
    },
    {
     "name": "stdout",
     "output_type": "stream",
     "text": [
      "[1.]\n",
      "ooo\n",
      "[1.]\n",
      "ooo\n"
     ]
    },
    {
     "name": "stderr",
     "output_type": "stream",
     "text": [
      "C:\\Users\\AISHWARYA UBALE\\anaconda3\\lib\\site-packages\\sklearn\\base.py:420: UserWarning: X does not have valid feature names, but SVC was fitted with feature names\n",
      "  warnings.warn(\n",
      "C:\\Users\\AISHWARYA UBALE\\anaconda3\\lib\\site-packages\\sklearn\\base.py:420: UserWarning: X does not have valid feature names, but SVC was fitted with feature names\n",
      "  warnings.warn(\n",
      "C:\\Users\\AISHWARYA UBALE\\anaconda3\\lib\\site-packages\\sklearn\\base.py:420: UserWarning: X does not have valid feature names, but SVC was fitted with feature names\n",
      "  warnings.warn(\n"
     ]
    },
    {
     "name": "stdout",
     "output_type": "stream",
     "text": [
      "[1.]\n",
      "ooo\n",
      "[1.]\n",
      "ooo\n",
      "[1.]\n",
      "ooo\n"
     ]
    },
    {
     "name": "stderr",
     "output_type": "stream",
     "text": [
      "C:\\Users\\AISHWARYA UBALE\\anaconda3\\lib\\site-packages\\sklearn\\base.py:420: UserWarning: X does not have valid feature names, but SVC was fitted with feature names\n",
      "  warnings.warn(\n"
     ]
    },
    {
     "name": "stdout",
     "output_type": "stream",
     "text": [
      "[1.]\n",
      "ooo\n"
     ]
    },
    {
     "name": "stderr",
     "output_type": "stream",
     "text": [
      "C:\\Users\\AISHWARYA UBALE\\anaconda3\\lib\\site-packages\\sklearn\\base.py:420: UserWarning: X does not have valid feature names, but SVC was fitted with feature names\n",
      "  warnings.warn(\n",
      "C:\\Users\\AISHWARYA UBALE\\anaconda3\\lib\\site-packages\\sklearn\\base.py:420: UserWarning: X does not have valid feature names, but SVC was fitted with feature names\n",
      "  warnings.warn(\n",
      "C:\\Users\\AISHWARYA UBALE\\anaconda3\\lib\\site-packages\\sklearn\\base.py:420: UserWarning: X does not have valid feature names, but SVC was fitted with feature names\n",
      "  warnings.warn(\n",
      "C:\\Users\\AISHWARYA UBALE\\anaconda3\\lib\\site-packages\\sklearn\\base.py:420: UserWarning: X does not have valid feature names, but SVC was fitted with feature names\n",
      "  warnings.warn(\n"
     ]
    },
    {
     "name": "stdout",
     "output_type": "stream",
     "text": [
      "[1.]\n",
      "ooo\n",
      "[1.]\n",
      "ooo\n",
      "[1.]\n",
      "ooo\n",
      "[1.]\n",
      "ooo\n"
     ]
    },
    {
     "name": "stderr",
     "output_type": "stream",
     "text": [
      "C:\\Users\\AISHWARYA UBALE\\anaconda3\\lib\\site-packages\\sklearn\\base.py:420: UserWarning: X does not have valid feature names, but SVC was fitted with feature names\n",
      "  warnings.warn(\n",
      "C:\\Users\\AISHWARYA UBALE\\anaconda3\\lib\\site-packages\\sklearn\\base.py:420: UserWarning: X does not have valid feature names, but SVC was fitted with feature names\n",
      "  warnings.warn(\n"
     ]
    },
    {
     "name": "stdout",
     "output_type": "stream",
     "text": [
      "[1.]\n",
      "ooo\n",
      "[1.]\n",
      "ooo\n"
     ]
    },
    {
     "name": "stderr",
     "output_type": "stream",
     "text": [
      "C:\\Users\\AISHWARYA UBALE\\anaconda3\\lib\\site-packages\\sklearn\\base.py:420: UserWarning: X does not have valid feature names, but SVC was fitted with feature names\n",
      "  warnings.warn(\n",
      "C:\\Users\\AISHWARYA UBALE\\anaconda3\\lib\\site-packages\\sklearn\\base.py:420: UserWarning: X does not have valid feature names, but SVC was fitted with feature names\n",
      "  warnings.warn(\n",
      "C:\\Users\\AISHWARYA UBALE\\anaconda3\\lib\\site-packages\\sklearn\\base.py:420: UserWarning: X does not have valid feature names, but SVC was fitted with feature names\n",
      "  warnings.warn(\n",
      "C:\\Users\\AISHWARYA UBALE\\anaconda3\\lib\\site-packages\\sklearn\\base.py:420: UserWarning: X does not have valid feature names, but SVC was fitted with feature names\n",
      "  warnings.warn(\n"
     ]
    },
    {
     "name": "stdout",
     "output_type": "stream",
     "text": [
      "[1.]\n",
      "ooo\n",
      "[1.]\n",
      "ooo\n",
      "[1.]\n",
      "ooo\n",
      "[1.]\n",
      "ooo\n"
     ]
    },
    {
     "name": "stderr",
     "output_type": "stream",
     "text": [
      "C:\\Users\\AISHWARYA UBALE\\anaconda3\\lib\\site-packages\\sklearn\\base.py:420: UserWarning: X does not have valid feature names, but SVC was fitted with feature names\n",
      "  warnings.warn(\n",
      "C:\\Users\\AISHWARYA UBALE\\anaconda3\\lib\\site-packages\\sklearn\\base.py:420: UserWarning: X does not have valid feature names, but SVC was fitted with feature names\n",
      "  warnings.warn(\n",
      "C:\\Users\\AISHWARYA UBALE\\anaconda3\\lib\\site-packages\\sklearn\\base.py:420: UserWarning: X does not have valid feature names, but SVC was fitted with feature names\n",
      "  warnings.warn(\n"
     ]
    },
    {
     "name": "stdout",
     "output_type": "stream",
     "text": [
      "[1.]\n",
      "ooo\n",
      "[1.]\n",
      "ooo\n",
      "[1.]\n",
      "ooo\n"
     ]
    },
    {
     "name": "stderr",
     "output_type": "stream",
     "text": [
      "C:\\Users\\AISHWARYA UBALE\\anaconda3\\lib\\site-packages\\sklearn\\base.py:420: UserWarning: X does not have valid feature names, but SVC was fitted with feature names\n",
      "  warnings.warn(\n",
      "C:\\Users\\AISHWARYA UBALE\\anaconda3\\lib\\site-packages\\sklearn\\base.py:420: UserWarning: X does not have valid feature names, but SVC was fitted with feature names\n",
      "  warnings.warn(\n"
     ]
    },
    {
     "name": "stdout",
     "output_type": "stream",
     "text": [
      "[1.]\n",
      "ooo\n",
      "[1.]\n",
      "ooo\n"
     ]
    },
    {
     "name": "stderr",
     "output_type": "stream",
     "text": [
      "C:\\Users\\AISHWARYA UBALE\\anaconda3\\lib\\site-packages\\sklearn\\base.py:420: UserWarning: X does not have valid feature names, but SVC was fitted with feature names\n",
      "  warnings.warn(\n",
      "C:\\Users\\AISHWARYA UBALE\\anaconda3\\lib\\site-packages\\sklearn\\base.py:420: UserWarning: X does not have valid feature names, but SVC was fitted with feature names\n",
      "  warnings.warn(\n",
      "C:\\Users\\AISHWARYA UBALE\\anaconda3\\lib\\site-packages\\sklearn\\base.py:420: UserWarning: X does not have valid feature names, but SVC was fitted with feature names\n",
      "  warnings.warn(\n"
     ]
    },
    {
     "name": "stdout",
     "output_type": "stream",
     "text": [
      "[1.]\n",
      "ooo\n",
      "[1.]\n",
      "ooo\n",
      "[1.]\n",
      "ooo\n"
     ]
    },
    {
     "name": "stderr",
     "output_type": "stream",
     "text": [
      "C:\\Users\\AISHWARYA UBALE\\anaconda3\\lib\\site-packages\\sklearn\\base.py:420: UserWarning: X does not have valid feature names, but SVC was fitted with feature names\n",
      "  warnings.warn(\n",
      "C:\\Users\\AISHWARYA UBALE\\anaconda3\\lib\\site-packages\\sklearn\\base.py:420: UserWarning: X does not have valid feature names, but SVC was fitted with feature names\n",
      "  warnings.warn(\n",
      "C:\\Users\\AISHWARYA UBALE\\anaconda3\\lib\\site-packages\\sklearn\\base.py:420: UserWarning: X does not have valid feature names, but SVC was fitted with feature names\n",
      "  warnings.warn(\n"
     ]
    },
    {
     "name": "stdout",
     "output_type": "stream",
     "text": [
      "[1.]\n",
      "ooo\n",
      "[1.]\n",
      "ooo\n",
      "[1.]\n",
      "ooo\n"
     ]
    },
    {
     "name": "stderr",
     "output_type": "stream",
     "text": [
      "C:\\Users\\AISHWARYA UBALE\\anaconda3\\lib\\site-packages\\sklearn\\base.py:420: UserWarning: X does not have valid feature names, but SVC was fitted with feature names\n",
      "  warnings.warn(\n",
      "C:\\Users\\AISHWARYA UBALE\\anaconda3\\lib\\site-packages\\sklearn\\base.py:420: UserWarning: X does not have valid feature names, but SVC was fitted with feature names\n",
      "  warnings.warn(\n",
      "C:\\Users\\AISHWARYA UBALE\\anaconda3\\lib\\site-packages\\sklearn\\base.py:420: UserWarning: X does not have valid feature names, but SVC was fitted with feature names\n",
      "  warnings.warn(\n"
     ]
    },
    {
     "name": "stdout",
     "output_type": "stream",
     "text": [
      "[1.]\n",
      "ooo\n",
      "[1.]\n",
      "ooo\n",
      "[1.]\n",
      "ooo\n"
     ]
    },
    {
     "name": "stderr",
     "output_type": "stream",
     "text": [
      "C:\\Users\\AISHWARYA UBALE\\anaconda3\\lib\\site-packages\\sklearn\\base.py:420: UserWarning: X does not have valid feature names, but SVC was fitted with feature names\n",
      "  warnings.warn(\n",
      "C:\\Users\\AISHWARYA UBALE\\anaconda3\\lib\\site-packages\\sklearn\\base.py:420: UserWarning: X does not have valid feature names, but SVC was fitted with feature names\n",
      "  warnings.warn(\n"
     ]
    },
    {
     "name": "stdout",
     "output_type": "stream",
     "text": [
      "[1.]\n",
      "ooo\n",
      "[1.]\n",
      "ooo\n"
     ]
    },
    {
     "name": "stderr",
     "output_type": "stream",
     "text": [
      "C:\\Users\\AISHWARYA UBALE\\anaconda3\\lib\\site-packages\\sklearn\\base.py:420: UserWarning: X does not have valid feature names, but SVC was fitted with feature names\n",
      "  warnings.warn(\n",
      "C:\\Users\\AISHWARYA UBALE\\anaconda3\\lib\\site-packages\\sklearn\\base.py:420: UserWarning: X does not have valid feature names, but SVC was fitted with feature names\n",
      "  warnings.warn(\n",
      "C:\\Users\\AISHWARYA UBALE\\anaconda3\\lib\\site-packages\\sklearn\\base.py:420: UserWarning: X does not have valid feature names, but SVC was fitted with feature names\n",
      "  warnings.warn(\n"
     ]
    },
    {
     "name": "stdout",
     "output_type": "stream",
     "text": [
      "[1.]\n",
      "ooo\n",
      "[1.]\n",
      "ooo\n",
      "[1.]\n",
      "ooo\n"
     ]
    },
    {
     "name": "stderr",
     "output_type": "stream",
     "text": [
      "C:\\Users\\AISHWARYA UBALE\\anaconda3\\lib\\site-packages\\sklearn\\base.py:420: UserWarning: X does not have valid feature names, but SVC was fitted with feature names\n",
      "  warnings.warn(\n"
     ]
    },
    {
     "name": "stdout",
     "output_type": "stream",
     "text": [
      "[1.]\n",
      "ooo\n"
     ]
    },
    {
     "name": "stderr",
     "output_type": "stream",
     "text": [
      "C:\\Users\\AISHWARYA UBALE\\anaconda3\\lib\\site-packages\\sklearn\\base.py:420: UserWarning: X does not have valid feature names, but SVC was fitted with feature names\n",
      "  warnings.warn(\n",
      "C:\\Users\\AISHWARYA UBALE\\anaconda3\\lib\\site-packages\\sklearn\\base.py:420: UserWarning: X does not have valid feature names, but SVC was fitted with feature names\n",
      "  warnings.warn(\n",
      "C:\\Users\\AISHWARYA UBALE\\anaconda3\\lib\\site-packages\\sklearn\\base.py:420: UserWarning: X does not have valid feature names, but SVC was fitted with feature names\n",
      "  warnings.warn(\n",
      "C:\\Users\\AISHWARYA UBALE\\anaconda3\\lib\\site-packages\\sklearn\\base.py:420: UserWarning: X does not have valid feature names, but SVC was fitted with feature names\n",
      "  warnings.warn(\n"
     ]
    },
    {
     "name": "stdout",
     "output_type": "stream",
     "text": [
      "[1.]\n",
      "ooo\n",
      "[1.]\n",
      "ooo\n",
      "[1.]\n",
      "ooo\n",
      "[1.]\n",
      "ooo\n"
     ]
    },
    {
     "name": "stderr",
     "output_type": "stream",
     "text": [
      "C:\\Users\\AISHWARYA UBALE\\anaconda3\\lib\\site-packages\\sklearn\\base.py:420: UserWarning: X does not have valid feature names, but SVC was fitted with feature names\n",
      "  warnings.warn(\n",
      "C:\\Users\\AISHWARYA UBALE\\anaconda3\\lib\\site-packages\\sklearn\\base.py:420: UserWarning: X does not have valid feature names, but SVC was fitted with feature names\n",
      "  warnings.warn(\n",
      "C:\\Users\\AISHWARYA UBALE\\anaconda3\\lib\\site-packages\\sklearn\\base.py:420: UserWarning: X does not have valid feature names, but SVC was fitted with feature names\n",
      "  warnings.warn(\n",
      "C:\\Users\\AISHWARYA UBALE\\anaconda3\\lib\\site-packages\\sklearn\\base.py:420: UserWarning: X does not have valid feature names, but SVC was fitted with feature names\n",
      "  warnings.warn(\n"
     ]
    },
    {
     "name": "stdout",
     "output_type": "stream",
     "text": [
      "[1.]\n",
      "ooo\n",
      "[1.]\n",
      "ooo\n",
      "[1.]\n",
      "ooo\n",
      "[1.]\n",
      "ooo\n"
     ]
    },
    {
     "name": "stderr",
     "output_type": "stream",
     "text": [
      "C:\\Users\\AISHWARYA UBALE\\anaconda3\\lib\\site-packages\\sklearn\\base.py:420: UserWarning: X does not have valid feature names, but SVC was fitted with feature names\n",
      "  warnings.warn(\n",
      "C:\\Users\\AISHWARYA UBALE\\anaconda3\\lib\\site-packages\\sklearn\\base.py:420: UserWarning: X does not have valid feature names, but SVC was fitted with feature names\n",
      "  warnings.warn(\n",
      "C:\\Users\\AISHWARYA UBALE\\anaconda3\\lib\\site-packages\\sklearn\\base.py:420: UserWarning: X does not have valid feature names, but SVC was fitted with feature names\n",
      "  warnings.warn(\n",
      "C:\\Users\\AISHWARYA UBALE\\anaconda3\\lib\\site-packages\\sklearn\\base.py:420: UserWarning: X does not have valid feature names, but SVC was fitted with feature names\n",
      "  warnings.warn(\n"
     ]
    },
    {
     "name": "stdout",
     "output_type": "stream",
     "text": [
      "[1.]\n",
      "ooo\n",
      "[1.]\n",
      "ooo\n",
      "[1.]\n",
      "ooo\n",
      "[1.]\n",
      "ooo\n"
     ]
    },
    {
     "name": "stderr",
     "output_type": "stream",
     "text": [
      "C:\\Users\\AISHWARYA UBALE\\anaconda3\\lib\\site-packages\\sklearn\\base.py:420: UserWarning: X does not have valid feature names, but SVC was fitted with feature names\n",
      "  warnings.warn(\n",
      "C:\\Users\\AISHWARYA UBALE\\anaconda3\\lib\\site-packages\\sklearn\\base.py:420: UserWarning: X does not have valid feature names, but SVC was fitted with feature names\n",
      "  warnings.warn(\n",
      "C:\\Users\\AISHWARYA UBALE\\anaconda3\\lib\\site-packages\\sklearn\\base.py:420: UserWarning: X does not have valid feature names, but SVC was fitted with feature names\n",
      "  warnings.warn(\n"
     ]
    },
    {
     "name": "stdout",
     "output_type": "stream",
     "text": [
      "[1.]\n",
      "ooo\n",
      "[1.]\n",
      "ooo\n",
      "[1.]\n",
      "ooo\n"
     ]
    },
    {
     "name": "stderr",
     "output_type": "stream",
     "text": [
      "C:\\Users\\AISHWARYA UBALE\\anaconda3\\lib\\site-packages\\sklearn\\base.py:420: UserWarning: X does not have valid feature names, but SVC was fitted with feature names\n",
      "  warnings.warn(\n",
      "C:\\Users\\AISHWARYA UBALE\\anaconda3\\lib\\site-packages\\sklearn\\base.py:420: UserWarning: X does not have valid feature names, but SVC was fitted with feature names\n",
      "  warnings.warn(\n"
     ]
    },
    {
     "name": "stdout",
     "output_type": "stream",
     "text": [
      "[1.]\n",
      "ooo\n",
      "[1.]\n",
      "ooo\n"
     ]
    },
    {
     "name": "stderr",
     "output_type": "stream",
     "text": [
      "C:\\Users\\AISHWARYA UBALE\\anaconda3\\lib\\site-packages\\sklearn\\base.py:420: UserWarning: X does not have valid feature names, but SVC was fitted with feature names\n",
      "  warnings.warn(\n",
      "C:\\Users\\AISHWARYA UBALE\\anaconda3\\lib\\site-packages\\sklearn\\base.py:420: UserWarning: X does not have valid feature names, but SVC was fitted with feature names\n",
      "  warnings.warn(\n"
     ]
    },
    {
     "name": "stdout",
     "output_type": "stream",
     "text": [
      "[1.]\n",
      "ooo\n",
      "[1.]\n",
      "ooo\n"
     ]
    },
    {
     "name": "stderr",
     "output_type": "stream",
     "text": [
      "C:\\Users\\AISHWARYA UBALE\\anaconda3\\lib\\site-packages\\sklearn\\base.py:420: UserWarning: X does not have valid feature names, but SVC was fitted with feature names\n",
      "  warnings.warn(\n",
      "C:\\Users\\AISHWARYA UBALE\\anaconda3\\lib\\site-packages\\sklearn\\base.py:420: UserWarning: X does not have valid feature names, but SVC was fitted with feature names\n",
      "  warnings.warn(\n",
      "C:\\Users\\AISHWARYA UBALE\\anaconda3\\lib\\site-packages\\sklearn\\base.py:420: UserWarning: X does not have valid feature names, but SVC was fitted with feature names\n",
      "  warnings.warn(\n"
     ]
    },
    {
     "name": "stdout",
     "output_type": "stream",
     "text": [
      "[1.]\n",
      "ooo\n",
      "[1.]\n",
      "ooo\n",
      "[1.]\n",
      "ooo\n",
      "[1.]\n",
      "ooo\n",
      "[1.]\n",
      "ooo\n",
      "[1.]\n",
      "ooo\n"
     ]
    },
    {
     "name": "stderr",
     "output_type": "stream",
     "text": [
      "C:\\Users\\AISHWARYA UBALE\\anaconda3\\lib\\site-packages\\sklearn\\base.py:420: UserWarning: X does not have valid feature names, but SVC was fitted with feature names\n",
      "  warnings.warn(\n",
      "C:\\Users\\AISHWARYA UBALE\\anaconda3\\lib\\site-packages\\sklearn\\base.py:420: UserWarning: X does not have valid feature names, but SVC was fitted with feature names\n",
      "  warnings.warn(\n",
      "C:\\Users\\AISHWARYA UBALE\\anaconda3\\lib\\site-packages\\sklearn\\base.py:420: UserWarning: X does not have valid feature names, but SVC was fitted with feature names\n",
      "  warnings.warn(\n"
     ]
    }
   ],
   "source": [
    "path = \"C:\\\\Users\\\\AISHWARYA UBALE\\\\Downloads\\\\archive (6)\\\\DATASET\\\\TEST\\\\goddess\"\n",
    "\n",
    "for img in os.listdir(path):\n",
    "\n",
    "        temp = []\n",
    "\n",
    "        img = cv2.imread(path + \"/\" + img)\n",
    "\n",
    "        imageWidth, imageHeight = img.shape[:2]\n",
    "\n",
    "        imgRGB = cv2.cvtColor(img, cv2.COLOR_BGR2RGB)\n",
    "\n",
    "        blackie = np.zeros(img.shape) # Blank image\n",
    "\n",
    "        results = pose.process(imgRGB)\n",
    "\n",
    "        if results.pose_landmarks:\n",
    "\n",
    "                landmarks = results.pose_landmarks.landmark\n",
    "\n",
    "                for i,j in zip(points,landmarks):\n",
    "\n",
    "                        temp = temp + [j.x, j.y, j.z, j.visibility]\n",
    "                \n",
    "                y = model.predict([temp])\n",
    "                print(y)\n",
    "                if y == 0:\n",
    "                    asan = \"goddess\"\n",
    "                else:\n",
    "                    asan = \"ooo\"\n",
    "\n",
    "                print(asan)"
   ]
  },
  {
   "cell_type": "code",
   "execution_count": null,
   "id": "fc554095",
   "metadata": {},
   "outputs": [],
   "source": [
    "path = \"C:\\\\Users\\\\AISHWARYA UBALE\\\\Downloads\\\\archive (6)\\\\DATASET\\\\TEST\"\n",
    "\n",
    "counterfolder = 0;\n",
    "for imgfolder in os.listdir(path):\n",
    "    print(imgfolder)\n",
    "    imgpath = path + \"//\" + imgfolder\n",
    "    for img in os.listdir(imgpath):\n",
    "        \n",
    "        temp = []\n",
    "        #print(img)\n",
    "        img = cv2.imread(imgpath + \"/\" + img)\n",
    "        \n",
    "        imageWidth, imageHeight = img.shape[:2]\n",
    "\n",
    "        imgRGB = cv2.cvtColor(img, cv2.COLOR_BGR2RGB)\n",
    "\n",
    "        blackie = np.zeros(img.shape) # Blank image\n",
    "\n",
    "        results = pose.process(imgRGB)\n",
    "\n",
    "        if results.pose_landmarks:\n",
    "\n",
    "                # mpDraw.draw_landmarks(img, results.pose_landmarks, mpPose.POSE_CONNECTIONS) #draw landmarks on image\n",
    "\n",
    "                mpDraw.draw_landmarks(blackie, results.pose_landmarks, mpPose.POSE_CONNECTIONS) # draw landmarks on blackie\n",
    "\n",
    "                landmarks = results.pose_landmarks.landmark\n",
    "\n",
    "                #***#\n",
    "                \n",
    "                if results.pose_landmarks:\n",
    "\n",
    "                landmarks = results.pose_landmarks.landmark\n",
    "\n",
    "                for i,j in zip(points,landmarks):\n",
    "\n",
    "                        temp = temp + [j.x, j.y, j.z, j.visibility]\n",
    "                \n",
    "                y = model.predict([temp])\n",
    "                print(y)\n",
    "                if y == 0:\n",
    "                    asan = \"goddess\"\n",
    "                else:\n",
    "                    asan = \"ooo\"\n",
    "\n",
    "                print(asan)\n",
    "                \n",
    "                #**#\n",
    "                \n",
    "                for i,j in zip(points,landmarks):\n",
    "\n",
    "                        temp = temp + [j.x, j.y, j.z, j.visibility]\n",
    "                \n",
    "                #Assign target value (0 for the first pose, 1 for the rest)\n",
    "                if imgfolder == \"plank\":\n",
    "                    target = 0 \n",
    "                elif imgfolder == \"warrior2\":\n",
    "                    target = 1\n",
    "                elif imgfolder == \"tree\":\n",
    "                    target = 2 \n",
    "                elif imgfolder == \"goddess\":\n",
    "                    target = 3\n",
    "                elif imgfolder == \"downdog\":\n",
    "                    target = 4\n",
    "                \n",
    "                temp.append(target)\n",
    "                \n",
    "                data.loc[count] = temp\n",
    "\n",
    "                count +=1\n",
    "\n",
    "        #cv2.imshow(\"Image\", img)\n",
    "\n",
    "        #cv2.imshow(\"blackie\",blackie)\n",
    "\n",
    "        #cv2.waitKey(100)\n",
    "\n",
    "data.to_csv(\"testing_dataset3_with target_allposses.csv\") # save the data as a csv file"
   ]
  }
 ],
 "metadata": {
  "kernelspec": {
   "display_name": "Python 3 (ipykernel)",
   "language": "python",
   "name": "python3"
  },
  "language_info": {
   "codemirror_mode": {
    "name": "ipython",
    "version": 3
   },
   "file_extension": ".py",
   "mimetype": "text/x-python",
   "name": "python",
   "nbconvert_exporter": "python",
   "pygments_lexer": "ipython3",
   "version": "3.10.9"
  }
 },
 "nbformat": 4,
 "nbformat_minor": 5
}
